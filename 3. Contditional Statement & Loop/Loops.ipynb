{
 "cells": [
  {
   "cell_type": "markdown",
   "id": "46f63f4b-2ba6-4c82-92d3-834bdfd20a79",
   "metadata": {},
   "source": [
    "Today I explored how to use **loops** in Python — both **while** and **for** loops.\n",
    "Loops are essential for writing efficient code that repeats actions without manual repetition. Instead of copying and pasting the same line many times, loops help automate tasks like printing, calculating, or processing data. I learned how to run code multiple times using while (based on conditions) and for (over sequences like ranges, lists, or strings).\n",
    "\n",
    "I also explored loop controls like **break, continue, and pass**, which help manage how and when a loop runs or stops. With these tools, I can now make my code smarter, cleaner, and much more powerful!"
   ]
  },
  {
   "cell_type": "markdown",
   "id": "f41a102d-6cd8-4a2b-b340-5a2ff7d957c0",
   "metadata": {},
   "source": [
    "**Python Loops: While & For Loops**\n",
    "\n",
    "* Loops help us execute a block of code repeatedly without writing it manually.\n",
    "* For example: printing \"Data Science\" 1000 times would be impossible manually!\n",
    "\n",
    "\n",
    "**Two types of loops in Python:**\n",
    " 1. while loop (condition-based)\n",
    " 2. for loop (sequence-based)\n"
   ]
  },
  {
   "cell_type": "markdown",
   "id": "699a27b9-4834-45c0-b3a5-e8827bc39b7b",
   "metadata": {},
   "source": [
    "- **while:** condition-based loop, good for unknown repetitions\n",
    "\n",
    "- **for:** sequence-based loop, good for known number of iterations\n",
    "\n",
    "- **break, continue, pass:** control loop flow\n",
    "\n",
    "Loops make automation possible — from printing 1000 values to building tables, or even machine learning training cycles. \n",
    "Mastering them builds coding confidence!\n",
    "\n"
   ]
  },
  {
   "cell_type": "code",
   "execution_count": 1,
   "id": "50848496-b71b-4b1f-931e-cbb198b65486",
   "metadata": {},
   "outputs": [
    {
     "name": "stdout",
     "output_type": "stream",
     "text": [
      "Data Science\n",
      "Data Science\n",
      "Data Science\n",
      "Data Science\n",
      "Data Science\n"
     ]
    }
   ],
   "source": [
    "# We can print for limited time, but what for 10,000 times\n",
    "# We can not copy past for 10,000 times then run \n",
    "# It does not make any sence and not good way \n",
    "print('Data Science')\n",
    "print('Data Science')\n",
    "print('Data Science')\n",
    "print('Data Science')\n",
    "print('Data Science')\n",
    "# Insted use loop"
   ]
  },
  {
   "cell_type": "markdown",
   "id": "29f4d8d2-ca14-4b9a-a3fc-66e8b11bcca2",
   "metadata": {},
   "source": [
    "# While Loop"
   ]
  },
  {
   "cell_type": "code",
   "execution_count": 2,
   "id": "ba9d05db-fe8c-4515-9ec2-b737aa9984d0",
   "metadata": {},
   "outputs": [
    {
     "name": "stdout",
     "output_type": "stream",
     "text": [
      "Data Science\n",
      "Data Science\n",
      "Data Science\n",
      "Data Science\n",
      "Data Science\n"
     ]
    }
   ],
   "source": [
    "# Basic while loop example: Print \"Data Science\" 5 times\n",
    "\n",
    "i = 1  # initialization\n",
    "while i <= 5:  # condition\n",
    "    print('Data Science')\n",
    "    i = i + 1  # increment\n"
   ]
  },
  {
   "cell_type": "code",
   "execution_count": 3,
   "id": "f5f47086-4def-4c56-b35c-d7ea375b7dce",
   "metadata": {},
   "outputs": [
    {
     "name": "stdout",
     "output_type": "stream",
     "text": [
      "Data Science\n",
      "Data Science\n",
      "Data Science\n",
      "Data Science\n",
      "Data Science\n"
     ]
    }
   ],
   "source": [
    "# Countdown using while loop\n",
    "\n",
    "i = 5\n",
    "while i >= 1:\n",
    "    print('Data Science')\n",
    "    i = i - 1"
   ]
  },
  {
   "cell_type": "markdown",
   "id": "c962437f-48c4-4e74-bc0e-ff94615a1644",
   "metadata": {},
   "source": [
    "shows the loop count (i) for better understanding."
   ]
  },
  {
   "cell_type": "code",
   "execution_count": 4,
   "id": "87ba24ff-f5c3-4c84-b211-05047330fa08",
   "metadata": {},
   "outputs": [
    {
     "name": "stdout",
     "output_type": "stream",
     "text": [
      "Data Science 1\n",
      "Data Science 2\n",
      "Data Science 3\n",
      "Data Science 4\n",
      "Data Science 5\n"
     ]
    }
   ],
   "source": [
    "# While loop with index tracking\n",
    "\n",
    "i = 1\n",
    "while i <= 5:\n",
    "    print('Data Science', i)\n",
    "    i += 1"
   ]
  },
  {
   "cell_type": "code",
   "execution_count": 5,
   "id": "65c3c7de-3553-49ac-b871-52545d4451da",
   "metadata": {},
   "outputs": [
    {
     "name": "stdout",
     "output_type": "stream",
     "text": [
      "Data Science 5\n",
      "Data Science 4\n",
      "Data Science 3\n",
      "Data Science 2\n",
      "Data Science 1\n"
     ]
    }
   ],
   "source": [
    "# Reverse with index tracking\n",
    "\n",
    "i = 5\n",
    "while i >= 1:\n",
    "    print('Data Science', i)\n",
    "    i -= 1"
   ]
  },
  {
   "cell_type": "markdown",
   "id": "953e9b3c-da73-4cae-861a-a2bb323a3424",
   "metadata": {},
   "source": [
    "## Nested While Loop"
   ]
  },
  {
   "cell_type": "markdown",
   "id": "fef216df-a421-4d70-be03-2b34a31e3c8b",
   "metadata": {},
   "source": [
    "**It always starts with the outer loop, completes the inner loop, then comes back to the next iteration of outer loop.**"
   ]
  },
  {
   "cell_type": "markdown",
   "id": "a50a5e83-d123-427e-a755-6bb28b1ee993",
   "metadata": {},
   "source": [
    "In nested loops, the outer loop (i) runs once, and for each value of i, the inner loop (j) runs fully."
   ]
  },
  {
   "cell_type": "code",
   "execution_count": 6,
   "id": "ad28d96e-ef2b-419e-84b4-8ef3e7567dbc",
   "metadata": {},
   "outputs": [
    {
     "name": "stdout",
     "output_type": "stream",
     "text": [
      "Data Science\n",
      "tech\n",
      "tech\n",
      "tech\n",
      "tech\n",
      "\n",
      "Data Science\n",
      "tech\n",
      "tech\n",
      "tech\n",
      "tech\n",
      "\n",
      "Data Science\n",
      "tech\n",
      "tech\n",
      "tech\n",
      "tech\n",
      "\n",
      "Data Science\n",
      "tech\n",
      "tech\n",
      "tech\n",
      "tech\n",
      "\n",
      "Data Science\n",
      "tech\n",
      "tech\n",
      "tech\n",
      "tech\n",
      "\n"
     ]
    }
   ],
   "source": [
    "# Simple nested while loop\n",
    "\n",
    "i = 1\n",
    "while i <= 5:\n",
    "    print('Data Science')  # outer loop\n",
    "    j = 1\n",
    "    while j <= 4:\n",
    "        print('tech')  # inner loop\n",
    "        j += 1\n",
    "    i += 1\n",
    "    print()  # newline between blocks"
   ]
  },
  {
   "cell_type": "markdown",
   "id": "50a3b4fd-8f2a-4769-b750-03dc9afef684",
   "metadata": {},
   "source": [
    "end=' ' → used in print() to stay on the same line (no newline)."
   ]
  },
  {
   "cell_type": "code",
   "execution_count": 7,
   "id": "a8942316-39e2-4dc8-ac33-edadf7a107e8",
   "metadata": {},
   "outputs": [
    {
     "name": "stdout",
     "output_type": "stream",
     "text": [
      "Data Science tech tech tech tech \n",
      "Data Science tech tech tech tech \n",
      "Data Science tech tech tech tech \n",
      "Data Science tech tech tech tech \n",
      "Data Science tech tech tech tech \n"
     ]
    }
   ],
   "source": [
    "# Nested while loop with end=\" \" to print in one line\n",
    "\n",
    "i = 1\n",
    "while i <= 5:\n",
    "    print('Data Science', end=\" \")  # stays on same line\n",
    "    j = 1\n",
    "    while j <= 4:\n",
    "        print('tech', end=\" \")\n",
    "        j += 1\n",
    "    i += 1\n",
    "    print()  # move to next line after inner loop"
   ]
  },
  {
   "cell_type": "code",
   "execution_count": 8,
   "id": "6627a14f-5a8d-4d19-9c4f-3966110016ab",
   "metadata": {},
   "outputs": [
    {
     "name": "stdout",
     "output_type": "stream",
     "text": [
      "Data Science 1\n",
      "tech 1\n",
      "tech 2\n",
      "tech 3\n",
      "tech 4\n",
      "\n",
      "Data Science 2\n",
      "tech 1\n",
      "tech 2\n",
      "tech 3\n",
      "tech 4\n",
      "\n",
      "Data Science 3\n",
      "tech 1\n",
      "tech 2\n",
      "tech 3\n",
      "tech 4\n",
      "\n",
      "Data Science 4\n",
      "tech 1\n",
      "tech 2\n",
      "tech 3\n",
      "tech 4\n",
      "\n",
      "Data Science 5\n",
      "tech 1\n",
      "tech 2\n",
      "tech 3\n",
      "tech 4\n",
      "\n"
     ]
    }
   ],
   "source": [
    "# Nested while with indices (i and j) for clarity\n",
    "\n",
    "i = 1\n",
    "while i <= 5:\n",
    "    print('Data Science', i)\n",
    "    j = 1\n",
    "    while j <= 4:\n",
    "        print('tech', j)\n",
    "        j += 1\n",
    "    i += 1\n",
    "    print()"
   ]
  },
  {
   "cell_type": "code",
   "execution_count": 9,
   "id": "e6ba5c50-260a-4733-9f3d-0cf3d0f9fb78",
   "metadata": {},
   "outputs": [
    {
     "name": "stdout",
     "output_type": "stream",
     "text": [
      "0 1 2 \n",
      "0 2 4 \n"
     ]
    }
   ],
   "source": [
    "# Multiplication example using nested while loop\n",
    "\n",
    "i = 1\n",
    "while i <= 2:\n",
    "    j = 0\n",
    "    while j <= 2:\n",
    "        print(i * j, end=\" \")\n",
    "        j += 1\n",
    "    print()\n",
    "    i += 1"
   ]
  },
  {
   "cell_type": "code",
   "execution_count": 10,
   "id": "0d4b8c65-0f21-48a5-a531-7cafc335bcb9",
   "metadata": {},
   "outputs": [
    {
     "name": "stdout",
     "output_type": "stream",
     "text": [
      "0 1 2 3 \n",
      "0 2 4 6 \n",
      "0 3 6 9 \n",
      "0 4 8 12 \n"
     ]
    }
   ],
   "source": [
    "# Another multiplication table pattern\n",
    "\n",
    "i = 1\n",
    "while i <= 4:\n",
    "    j = 0\n",
    "    while j <= 3:\n",
    "        print(i * j, end=\" \")\n",
    "        j += 1\n",
    "    print()\n",
    "    i += 1"
   ]
  },
  {
   "cell_type": "markdown",
   "id": "e8986c6e-d3ed-420f-9be6-8f9bc5fe9809",
   "metadata": {},
   "source": [
    "# For Loop"
   ]
  },
  {
   "cell_type": "code",
   "execution_count": 11,
   "id": "6679a8ff-f735-4f92-8891-f2a372577c18",
   "metadata": {},
   "outputs": [
    {
     "name": "stdout",
     "output_type": "stream",
     "text": [
      "1\n",
      "3.5\n",
      "hallo\n"
     ]
    }
   ],
   "source": [
    "# For loop works on sequence datatypes (like list, string, tuple, etc.)\n",
    "\n",
    "name = 'nit'\n",
    "name1 = [1, 3.5, 'hallo']\n",
    "\n",
    "for i in name1:\n",
    "    print(i)"
   ]
  },
  {
   "cell_type": "code",
   "execution_count": 12,
   "id": "ed14a5fa-362f-4da6-bac2-b6d6c2d8b26b",
   "metadata": {},
   "outputs": [
    {
     "name": "stdout",
     "output_type": "stream",
     "text": [
      "n\n",
      "i\n",
      "t\n"
     ]
    }
   ],
   "source": [
    "for i in name:\n",
    "    print(i)"
   ]
  },
  {
   "cell_type": "code",
   "execution_count": 13,
   "id": "ccccee19-1b7a-4e07-88e6-29621e87ad3d",
   "metadata": {},
   "outputs": [
    {
     "name": "stdout",
     "output_type": "stream",
     "text": [
      "0\n",
      "1\n",
      "2\n",
      "3\n",
      "4\n"
     ]
    }
   ],
   "source": [
    "# Using range() with for loop\n",
    "\n",
    "for i in range(5):\n",
    "    print(i)"
   ]
  },
  {
   "cell_type": "code",
   "execution_count": 14,
   "id": "3ef29f60-6d30-49d7-904a-6507ba36a354",
   "metadata": {},
   "outputs": [
    {
     "name": "stdout",
     "output_type": "stream",
     "text": [
      "1\n",
      "4\n",
      "7\n"
     ]
    }
   ],
   "source": [
    "# Using range(start, stop, step)\n",
    "\n",
    "for i in range(1, 10, 3):\n",
    "    print(i)"
   ]
  },
  {
   "cell_type": "code",
   "execution_count": 15,
   "id": "9220d18f-0b46-4a38-a6c7-d47b8062a5ad",
   "metadata": {},
   "outputs": [
    {
     "name": "stdout",
     "output_type": "stream",
     "text": [
      "5\n",
      "10\n",
      "15\n",
      "20\n",
      "25\n",
      "30\n",
      "35\n",
      "40\n",
      "45\n",
      "50\n"
     ]
    }
   ],
   "source": [
    "# Print 5's table\n",
    "\n",
    "for i in range(5, 51, 5):\n",
    "    print(i)"
   ]
  },
  {
   "cell_type": "code",
   "execution_count": 16,
   "id": "96e16358-671c-4bdd-a9f1-ccdd60d7f493",
   "metadata": {},
   "outputs": [
    {
     "name": "stdout",
     "output_type": "stream",
     "text": [
      "5\n",
      "10\n",
      "15\n",
      "20\n",
      "25\n",
      "30\n",
      "35\n",
      "40\n",
      "45\n",
      "50\n"
     ]
    }
   ],
   "source": [
    "# Or Print numbers divisible by 5\n",
    "for i in range(1,51):\n",
    "    if i %5==0:\n",
    "        print(i)"
   ]
  },
  {
   "cell_type": "code",
   "execution_count": 17,
   "id": "2a0ad291-3a8f-4658-9b1d-196c48e7f1d6",
   "metadata": {},
   "outputs": [
    {
     "name": "stdout",
     "output_type": "stream",
     "text": [
      "1\n",
      "2\n",
      "3\n",
      "4\n",
      "6\n",
      "7\n",
      "8\n",
      "9\n",
      "11\n",
      "12\n",
      "13\n",
      "14\n",
      "16\n",
      "17\n",
      "18\n",
      "19\n",
      "21\n",
      "22\n",
      "23\n",
      "24\n",
      "26\n",
      "27\n",
      "28\n",
      "29\n",
      "31\n",
      "32\n",
      "33\n",
      "34\n",
      "36\n",
      "37\n",
      "38\n",
      "39\n",
      "41\n",
      "42\n",
      "43\n",
      "44\n",
      "46\n",
      "47\n",
      "48\n",
      "49\n"
     ]
    }
   ],
   "source": [
    "# Print numbers NOT divisible by 5\n",
    "\n",
    "for i in range(1, 51):\n",
    "    if i % 5 != 0:\n",
    "        print(i)"
   ]
  },
  {
   "cell_type": "markdown",
   "id": "65dde160-857f-4464-904a-d73d641790bd",
   "metadata": {},
   "source": [
    "# Special Keywords in Loops"
   ]
  },
  {
   "cell_type": "markdown",
   "id": "8c8f6fe7-e13a-419f-831e-42fd311a7058",
   "metadata": {},
   "source": [
    "## break – Stops the loop immediately"
   ]
  },
  {
   "cell_type": "code",
   "execution_count": 18,
   "id": "86b35a67-ac78-4006-abaf-47fab9ff874d",
   "metadata": {},
   "outputs": [
    {
     "name": "stdout",
     "output_type": "stream",
     "text": [
      "1\n",
      "2\n",
      "3\n",
      "4\n",
      "5\n"
     ]
    }
   ],
   "source": [
    "for i in range(1, 11):\n",
    "    if i == 6:\n",
    "        break\n",
    "    print(i)  # stops printing when i reaches 6"
   ]
  },
  {
   "cell_type": "code",
   "execution_count": 19,
   "id": "c4c1bf3f-f5ab-4f93-a3b0-aec5cb0b01ab",
   "metadata": {},
   "outputs": [
    {
     "name": "stdout",
     "output_type": "stream",
     "text": [
      "1\n",
      "2\n",
      "3\n",
      "4\n",
      "5\n",
      "6\n",
      "7\n"
     ]
    }
   ],
   "source": [
    "for i in range(1, 11):\n",
    "    if i == 8:\n",
    "        break\n",
    "    print(i)"
   ]
  },
  {
   "cell_type": "markdown",
   "id": "eb2c4eaf-9339-44e2-9539-506340459f46",
   "metadata": {},
   "source": [
    "## continue – Skips the current iteration"
   ]
  },
  {
   "cell_type": "code",
   "execution_count": 20,
   "id": "52e92528-9748-49b7-9046-e8065db8aa18",
   "metadata": {},
   "outputs": [
    {
     "name": "stdout",
     "output_type": "stream",
     "text": [
      "1\n",
      "2\n",
      "3\n",
      "4\n",
      "5\n",
      "6\n",
      "7\n",
      "9\n",
      "10\n"
     ]
    }
   ],
   "source": [
    "for i in range(1, 11):\n",
    "    if i == 8:\n",
    "        continue\n",
    "    print(i)  # 8 will be skipped"
   ]
  },
  {
   "cell_type": "markdown",
   "id": "ef186a01-adcd-4b4b-a6ad-7dc4a3418a73",
   "metadata": {},
   "source": [
    "## pass – Placeholder, does nothing"
   ]
  },
  {
   "cell_type": "code",
   "execution_count": 21,
   "id": "a7b230a1-7b9a-4686-b95a-7c09ec3a5b47",
   "metadata": {},
   "outputs": [
    {
     "ename": "SyntaxError",
     "evalue": "incomplete input (1428131000.py, line 1)",
     "output_type": "error",
     "traceback": [
      "\u001b[1;36m  Cell \u001b[1;32mIn[21], line 1\u001b[1;36m\u001b[0m\n\u001b[1;33m    for i in range(1, 11):\u001b[0m\n\u001b[1;37m                          ^\u001b[0m\n\u001b[1;31mSyntaxError\u001b[0m\u001b[1;31m:\u001b[0m incomplete input\n"
     ]
    }
   ],
   "source": [
    "for i in range(1, 11):"
   ]
  },
  {
   "cell_type": "code",
   "execution_count": 22,
   "id": "fefb6d4b-aa59-475c-9497-18cb3f22251b",
   "metadata": {},
   "outputs": [],
   "source": [
    "for i in range(1, 11):\n",
    "    pass  # no error, loop runs but nothing happens"
   ]
  },
  {
   "cell_type": "markdown",
   "id": "115c6355-9e03-48cc-ac29-2108b4b47f4b",
   "metadata": {},
   "source": [
    "# Interesting and real-life inspired examples "
   ]
  },
  {
   "cell_type": "markdown",
   "id": "1826bc3f-29d6-4645-950e-fe0b1badb6ad",
   "metadata": {},
   "source": [
    "## While Loop – Drinking Water Reminder"
   ]
  },
  {
   "cell_type": "code",
   "execution_count": 26,
   "id": "511f6e9c-0968-4a9b-bbb2-dbd7f729bce3",
   "metadata": {},
   "outputs": [
    {
     "name": "stdout",
     "output_type": "stream",
     "text": [
      "Glass 1: Drink water!\n",
      "Glass 2: Drink water!\n",
      "Glass 3: Drink water!\n",
      "Glass 4: Drink water!\n",
      "Glass 5: Drink water!\n"
     ]
    }
   ],
   "source": [
    "# Drink water every 30 minutes until you've had 5 glasses\n",
    "\n",
    "glass = 1\n",
    "\n",
    "while glass <= 5:\n",
    "    print(f\"Glass {glass}: Drink water!\")\n",
    "    glass += 1"
   ]
  },
  {
   "cell_type": "markdown",
   "id": "546e0cf6-f586-4143-9598-8277f560eea6",
   "metadata": {},
   "source": [
    "## Nested While Loop – Birthday Party"
   ]
  },
  {
   "cell_type": "code",
   "execution_count": 25,
   "id": "74b14653-fb8d-4515-8609-0421d3979577",
   "metadata": {},
   "outputs": [
    {
     "name": "stdout",
     "output_type": "stream",
     "text": [
      "Kid 1 gets: Ballon Ballon \n",
      "Kid 2 gets: Ballon Ballon \n",
      "Kid 3 gets: Ballon Ballon \n"
     ]
    }
   ],
   "source": [
    "# At a birthday party, each of 3 kids gets 2 balloons\n",
    "\n",
    "kid = 1\n",
    "while kid <= 3:\n",
    "    print(f\"Kid {kid} gets:\", end=\" \")\n",
    "    \n",
    "    balloon = 1\n",
    "    while balloon <= 2:\n",
    "        print(\"Ballon\", end=\" \")\n",
    "        balloon += 1\n",
    "\n",
    "    print()  # new line for next kid\n",
    "    kid += 1"
   ]
  },
  {
   "cell_type": "markdown",
   "id": "6dfe2bab-41ab-477c-98c0-f88961d31249",
   "metadata": {},
   "source": [
    "## For Loop – Pizza Slice Tracker "
   ]
  },
  {
   "cell_type": "code",
   "execution_count": 28,
   "id": "abe55e33-26a8-454c-9f5e-86a6d819053d",
   "metadata": {},
   "outputs": [
    {
     "name": "stdout",
     "output_type": "stream",
     "text": [
      "Slice 1 given!\n",
      "Slice 2 given!\n",
      "Slice 3 given!\n",
      "Slice 4 given!\n",
      "Slice 5 given!\n",
      "Slice 6 given!\n",
      "Slice 7 given!\n",
      "Slice 8 given!\n"
     ]
    }
   ],
   "source": [
    "# There are 8 slices of pizza. Show each person getting one.\n",
    "\n",
    "for slice in range(1, 9):\n",
    "    print(f\"Slice {slice} given!\")"
   ]
  },
  {
   "cell_type": "markdown",
   "id": "e0a425f4-45a7-42e7-a584-32ef4a1cf021",
   "metadata": {},
   "source": [
    "## Break Statement – ATM Cash Limit"
   ]
  },
  {
   "cell_type": "code",
   "execution_count": 30,
   "id": "eae89953-2f7a-4bc7-9354-25bd77d0a3cd",
   "metadata": {},
   "outputs": [
    {
     "name": "stdout",
     "output_type": "stream",
     "text": [
      "₹500 dispensed. Total: ₹500\n",
      "₹500 dispensed. Total: ₹1000\n",
      "₹500 dispensed. Total: ₹1500\n",
      "₹500 dispensed. Total: ₹2000\n",
      " ATM Limit Reached!\n"
     ]
    }
   ],
   "source": [
    "# Stop giving ₹500 notes after reaching ₹2000 total\n",
    "\n",
    "total = 0\n",
    "\n",
    "for i in range(1, 10):\n",
    "    if total == 2000:\n",
    "        print(\" ATM Limit Reached!\")\n",
    "        break\n",
    "    print(f\"₹500 dispensed. Total: ₹{total + 500}\")\n",
    "    total += 500"
   ]
  },
  {
   "cell_type": "markdown",
   "id": "ca5be76b-704f-4914-bb06-5bec7a0683e1",
   "metadata": {},
   "source": [
    "## Continue Statement – Skipping Homework"
   ]
  },
  {
   "cell_type": "code",
   "execution_count": 32,
   "id": "13dc39ca-9939-4b43-acf5-13fbfc9ce0ff",
   "metadata": {},
   "outputs": [
    {
     "name": "stdout",
     "output_type": "stream",
     "text": [
      "Doing homework for subject 1\n",
      "Doing homework for subject 2\n",
      "⛔ Skipped subject 3\n",
      "Doing homework for subject 4\n",
      "Doing homework for subject 5\n"
     ]
    }
   ],
   "source": [
    "# Skip subject 3, rest do homework\n",
    "\n",
    "for subject in range(1, 6):\n",
    "    if subject == 3:\n",
    "        print(\"⛔ Skipped subject 3\")\n",
    "        continue\n",
    "    print(f\"Doing homework for subject {subject}\")"
   ]
  },
  {
   "cell_type": "markdown",
   "id": "64b62a0f-aaa3-40e0-8f6f-6844a6bb4bb7",
   "metadata": {},
   "source": [
    "## Pass Statement – Reserved but not implemented"
   ]
  },
  {
   "cell_type": "code",
   "execution_count": 33,
   "id": "b81585a5-4ccb-49f6-8681-75188bc2cbeb",
   "metadata": {},
   "outputs": [
    {
     "name": "stdout",
     "output_type": "stream",
     "text": [
      "Processing item 1\n",
      "Processing item 3\n"
     ]
    }
   ],
   "source": [
    "# Reserved for feature in future\n",
    "\n",
    "for i in range(1, 4):\n",
    "    if i == 2:\n",
    "        pass  # to be done later\n",
    "    else:\n",
    "        print(f\"Processing item {i}\")"
   ]
  }
 ],
 "metadata": {
  "kernelspec": {
   "display_name": "Python 3 (ipykernel)",
   "language": "python",
   "name": "python3"
  },
  "language_info": {
   "codemirror_mode": {
    "name": "ipython",
    "version": 3
   },
   "file_extension": ".py",
   "mimetype": "text/x-python",
   "name": "python",
   "nbconvert_exporter": "python",
   "pygments_lexer": "ipython3",
   "version": "3.12.7"
  }
 },
 "nbformat": 4,
 "nbformat_minor": 5
}
