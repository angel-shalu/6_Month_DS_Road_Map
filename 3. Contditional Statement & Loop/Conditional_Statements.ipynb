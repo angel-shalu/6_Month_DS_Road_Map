{
 "cells": [
  {
   "cell_type": "markdown",
   "id": "edf839e2-4be6-401f-893e-09395889cc43",
   "metadata": {},
   "source": [
    "\n",
    "Today I explored how to use **conditional statements** in Python. These are the building blocks of decision-making in programs. With conditionals, I learned how to write code that behaves differently based on certain conditions. This allows a program to **think logically**, like a human, and choose what to do based on the situation.\n"
   ]
  },
  {
   "cell_type": "markdown",
   "id": "02bc374a-3ae9-459f-baa4-283022b6a21e",
   "metadata": {},
   "source": [
    "**What are Conditional Statements?**\n",
    "\n",
    "Conditional statements are used to perform **different actions based on different conditions**. They control the **flow of execution** in a program.  \n",
    "In simple words, if something is true — do this, otherwise — do something else.\n",
    "\n",
    "---\n",
    "\n",
    "**Why and Where Are They Used?**\n",
    "\n",
    "Conditional statements are used in **almost every program**, such as:\n",
    "- Checking user input\n",
    "- Validating data\n",
    "- Making decisions (e.g., if a number is even or odd)\n",
    "- Controlling loops\n",
    "- Error handling\n",
    "- Game logic (e.g., if player score > high score, then update)\n",
    "\n",
    "---\n",
    "\n",
    "**Advantages:**\n",
    "\n",
    "- Helps in writing logical and flexible programs\n",
    "- Makes code more **interactive** and **responsive**\n",
    "- Essential for **real-life problem solving** (e.g., filters, conditions, eligibility checks)\n",
    "\n",
    "---\n",
    "\n",
    "**Disadvantages / Caution:**\n",
    "\n",
    "- Too many separate `if` statements can **slow down performance**\n",
    "- If you use only `if`-`if`-`if`, **Python checks each condition**, even if one is already true.\n",
    "- Use `if-elif-else` structure when only **one** condition should match — this avoids unnecessary checks and improves speed.\n"
   ]
  },
  {
   "cell_type": "markdown",
   "id": "22a8f812-1712-4b61-9134-bacd4ad4b62d",
   "metadata": {},
   "source": [
    "# Syntax of Conditional Statements in Python & Examples:"
   ]
  },
  {
   "cell_type": "markdown",
   "id": "ed8a284e-3666-4ce0-9904-d2479f4c251c",
   "metadata": {},
   "source": [
    "## if"
   ]
  },
  {
   "cell_type": "markdown",
   "id": "48d3a86e-c178-491d-b377-95916e26d524",
   "metadata": {},
   "source": [
    "**Example 1: Simple if condition with True and False**"
   ]
  },
  {
   "cell_type": "code",
   "execution_count": 1,
   "id": "b0c27cae-55b5-4ccc-9e33-3c29b1c0a3df",
   "metadata": {},
   "outputs": [
    {
     "name": "stdout",
     "output_type": "stream",
     "text": [
      "Data Science\n"
     ]
    }
   ],
   "source": [
    "if True:  # This condition is always True, so the block runs\n",
    "    print('Data Science')"
   ]
  },
  {
   "cell_type": "code",
   "execution_count": 2,
   "id": "70b059ed-816c-44a3-bb61-082f826c5d08",
   "metadata": {},
   "outputs": [
    {
     "name": "stdout",
     "output_type": "stream",
     "text": [
      "bye for now\n"
     ]
    }
   ],
   "source": [
    "if False:  # This condition is always False, so nothing is printed\n",
    "    print('Data Science')\n",
    "\n",
    "print('bye for now')  # Runs regardless of the condition above"
   ]
  },
  {
   "cell_type": "code",
   "execution_count": 3,
   "id": "ca6c0c80-d718-4c33-a781-7ad3d4977fe8",
   "metadata": {},
   "outputs": [
    {
     "name": "stdout",
     "output_type": "stream",
     "text": [
      "Data Science\n",
      "bye for now\n"
     ]
    }
   ],
   "source": [
    "if True:\n",
    "    print('Data Science')\n",
    "print('bye for now')"
   ]
  },
  {
   "cell_type": "markdown",
   "id": "8b844eb4-bf16-4920-8819-f7d49057ac90",
   "metadata": {},
   "source": [
    "**Example 2: if condition checking even or odd**"
   ]
  },
  {
   "cell_type": "code",
   "execution_count": 4,
   "id": "11109a28-2a14-4338-aa28-0d1bd296d9ea",
   "metadata": {},
   "outputs": [
    {
     "name": "stdout",
     "output_type": "stream",
     "text": [
      "Even number\n"
     ]
    }
   ],
   "source": [
    "x = 4\n",
    "r = x % 2  # Modulus operator returns remainder\n",
    "\n",
    "if r == 0:\n",
    "    print('Even number')"
   ]
  },
  {
   "cell_type": "code",
   "execution_count": 5,
   "id": "1642f205-d4ce-49f6-876f-1314519a3629",
   "metadata": {},
   "outputs": [],
   "source": [
    "# Another example with an odd number\n",
    "x = 5\n",
    "r = x % 2\n",
    "\n",
    "if r == 0:\n",
    "    print('Even number')  # This won’t execute since 5 is odd"
   ]
  },
  {
   "cell_type": "markdown",
   "id": "3752394e-2751-41df-8deb-d569163003fc",
   "metadata": {},
   "source": [
    "## if-else"
   ]
  },
  {
   "cell_type": "markdown",
   "id": "fb06621e-6ca6-463f-b420-ae9d76bcfa83",
   "metadata": {},
   "source": [
    "**Example 3: Adding else block for better feedback**"
   ]
  },
  {
   "cell_type": "code",
   "execution_count": 6,
   "id": "b295a54f-e9a9-459e-942d-994eae7820df",
   "metadata": {},
   "outputs": [
    {
     "name": "stdout",
     "output_type": "stream",
     "text": [
      "Odd number\n"
     ]
    }
   ],
   "source": [
    "x = 5\n",
    "r = x % 2\n",
    "\n",
    "if r == 0:\n",
    "    print('Even number')\n",
    "else:\n",
    "    print('Odd number')  # This will be printed"
   ]
  },
  {
   "cell_type": "code",
   "execution_count": 7,
   "id": "f4e6c684-74cd-4754-b7f9-4b255a9fdb8a",
   "metadata": {},
   "outputs": [
    {
     "name": "stdout",
     "output_type": "stream",
     "text": [
      "Even number\n"
     ]
    }
   ],
   "source": [
    "# Another example\n",
    "x = 8\n",
    "r = x % 2\n",
    "\n",
    "if r == 0:\n",
    "    print('Even number')  # Will be printed\n",
    "else:\n",
    "    print('Odd number')"
   ]
  },
  {
   "cell_type": "markdown",
   "id": "9765db5b-7eee-4c3f-99a4-0b38b099daea",
   "metadata": {},
   "source": [
    "**Example 4: Using multiple if blocks (not recommended)**"
   ]
  },
  {
   "cell_type": "code",
   "execution_count": 8,
   "id": "11b539a4-cfd8-47c4-ab45-bf26e535cf4e",
   "metadata": {},
   "outputs": [
    {
     "name": "stdout",
     "output_type": "stream",
     "text": [
      "Odd number\n"
     ]
    }
   ],
   "source": [
    "x = 13\n",
    "r = x % 2\n",
    "\n",
    "if r == 0:\n",
    "    print('Even number')\n",
    "\n",
    "if r == 1:\n",
    "    print('Odd number')  # Works, but 'if-else' is better for such binary checks"
   ]
  },
  {
   "cell_type": "code",
   "execution_count": 9,
   "id": "573ccdf5-7166-4510-826a-ff8c5a60803a",
   "metadata": {},
   "outputs": [
    {
     "name": "stdout",
     "output_type": "stream",
     "text": [
      "Odd number\n"
     ]
    }
   ],
   "source": [
    "# Using 'if' with 'not equal'\n",
    "x = 19\n",
    "r = x % 2\n",
    "\n",
    "if r == 0:\n",
    "    print('Even number')\n",
    "\n",
    "if r != 0:\n",
    "    print('Odd number')"
   ]
  },
  {
   "cell_type": "markdown",
   "id": "47fb1bf1-bc61-4b0e-ba03-90450fe102c0",
   "metadata": {},
   "source": [
    "## Nested if"
   ]
  },
  {
   "cell_type": "markdown",
   "id": "9b028666-e0ed-4429-9e06-41c3da39e3e0",
   "metadata": {},
   "source": [
    "**Example 5: Nested if statements**"
   ]
  },
  {
   "cell_type": "code",
   "execution_count": 10,
   "id": "7af857a0-7440-4744-8515-1939793b0ac5",
   "metadata": {},
   "outputs": [
    {
     "name": "stdout",
     "output_type": "stream",
     "text": [
      "Odd Number\n"
     ]
    }
   ],
   "source": [
    "x = 3\n",
    "r = x % 2\n",
    "\n",
    "if r == 0:\n",
    "    print('Even number')\n",
    "    if x > 5:\n",
    "        print('Greater number')  # This will not run\n",
    "else:\n",
    "    print('Odd Number')  # Will be printed"
   ]
  },
  {
   "cell_type": "code",
   "execution_count": 11,
   "id": "f335d9b5-91d8-430d-b013-03a9c61cf0b4",
   "metadata": {},
   "outputs": [
    {
     "name": "stdout",
     "output_type": "stream",
     "text": [
      "Even number\n",
      "Greater number\n"
     ]
    }
   ],
   "source": [
    "# Another example\n",
    "x = 8\n",
    "r = x % 2\n",
    "\n",
    "if r == 0:\n",
    "    print('Even number')  # Will run\n",
    "    if x > 5:\n",
    "        print('Greater number')  # Will also run"
   ]
  },
  {
   "cell_type": "code",
   "execution_count": 12,
   "id": "16eba89f-5f45-4f3c-a585-9deae4c4b4a5",
   "metadata": {},
   "outputs": [
    {
     "name": "stdout",
     "output_type": "stream",
     "text": [
      "Even number\n",
      "Smaller number\n"
     ]
    }
   ],
   "source": [
    "# Example with nested if and else\n",
    "x = 4\n",
    "r = x % 2\n",
    "\n",
    "if r == 0:\n",
    "    print('Even number')\n",
    "    if x > 5:\n",
    "        print('Greater number')\n",
    "    else:\n",
    "        print('Smaller number')  # Will be printed\n",
    "else:\n",
    "    print('Odd Number')"
   ]
  },
  {
   "cell_type": "markdown",
   "id": "fa881132-a493-42e1-8b16-0ed270f8acda",
   "metadata": {},
   "source": [
    "## if-elif-else"
   ]
  },
  {
   "cell_type": "markdown",
   "id": "1fbf44a9-e039-4b15-87f6-da0bdc557ceb",
   "metadata": {},
   "source": [
    "**Example 6: if-elif-else chain**"
   ]
  },
  {
   "cell_type": "code",
   "execution_count": 13,
   "id": "3a023ab8-7bc3-44bc-aefb-befb38a42214",
   "metadata": {},
   "outputs": [
    {
     "name": "stdout",
     "output_type": "stream",
     "text": [
      "Number not found\n"
     ]
    }
   ],
   "source": [
    "x = 9\n",
    "\n",
    "if x == 1:\n",
    "    print('One')\n",
    "elif x == 2:\n",
    "    print('Two')\n",
    "elif x == 3:\n",
    "    print('Three')\n",
    "elif x == 4:\n",
    "    print('Four')\n",
    "else:\n",
    "    print('Number not found')  # Will be printed because x is 9"
   ]
  },
  {
   "cell_type": "markdown",
   "id": "f451dff7-a4ca-4f0e-a7bf-c0e92b2e1816",
   "metadata": {},
   "source": [
    "# **Python Conditional Statements - Real-Life Examples**"
   ]
  },
  {
   "cell_type": "markdown",
   "id": "b0d6dd65-48b1-4505-bb47-e7f42985be03",
   "metadata": {},
   "source": [
    "**Covered:**\n",
    "\n",
    "*  if\n",
    "* if-else\n",
    "* if-elif-else\n",
    "* nested if\n",
    "* logical operators\n",
    "* one-line if\n",
    "* if inside a loop\n",
    "\n",
    "Conditional statements are powerful tools to write logic-driven programs that make decisions just like humans!"
   ]
  },
  {
   "cell_type": "markdown",
   "id": "3b11cd68-a7a4-429e-9352-00a8937a6ed9",
   "metadata": {},
   "source": [
    "## Simple if statement\n",
    "Scenario: Check if your wallet has enough money for pani puri!"
   ]
  },
  {
   "cell_type": "code",
   "execution_count": 14,
   "id": "5bde9e9e-ace6-4a3c-8095-bf7c0d87e5b8",
   "metadata": {},
   "outputs": [
    {
     "name": "stdout",
     "output_type": "stream",
     "text": [
      "You can enjoy pani puri! 😋\n"
     ]
    }
   ],
   "source": [
    "money = 30  # rupees\n",
    "pani_puri_price = 20\n",
    "\n",
    "if money >= pani_puri_price:\n",
    "    print(\"You can enjoy pani puri! 😋\")"
   ]
  },
  {
   "cell_type": "markdown",
   "id": "40135c17-d49c-4cce-a0bc-3a479e3fd47e",
   "metadata": {},
   "source": [
    "## if-else statement\n",
    "Scenario: Check if it’s raining – take an umbrella or not"
   ]
  },
  {
   "cell_type": "code",
   "execution_count": 15,
   "id": "147efb61-8859-4c7e-b278-1aea6229991e",
   "metadata": {},
   "outputs": [
    {
     "name": "stdout",
     "output_type": "stream",
     "text": [
      "Enjoy the sunshine ☀️\n"
     ]
    }
   ],
   "source": [
    "is_raining = False\n",
    "\n",
    "if is_raining:\n",
    "    print(\"Take your umbrella ☔\")\n",
    "else:\n",
    "    print(\"Enjoy the sunshine ☀️\")"
   ]
  },
  {
   "cell_type": "markdown",
   "id": "64c67e7c-5378-4977-860c-ca7fdfb370a6",
   "metadata": {},
   "source": [
    "## if-elif-else statement\n",
    " Scenario: Traffic light behavior"
   ]
  },
  {
   "cell_type": "code",
   "execution_count": 16,
   "id": "6b1e29b8-1b47-4a31-a3e4-2b273ce6090b",
   "metadata": {},
   "outputs": [
    {
     "name": "stdout",
     "output_type": "stream",
     "text": [
      "Slow down ⚠️\n"
     ]
    }
   ],
   "source": [
    "traffic_light = \"yellow\"\n",
    "\n",
    "if traffic_light == \"green\":\n",
    "    print(\"Go 🚗\")\n",
    "elif traffic_light == \"yellow\":\n",
    "    print(\"Slow down ⚠️\")\n",
    "elif traffic_light == \"red\":\n",
    "    print(\"Stop ✋\")\n",
    "else:\n",
    "    print(\"Invalid light signal ❌\")"
   ]
  },
  {
   "cell_type": "markdown",
   "id": "9550f03c-4c99-4386-a2c1-46244598e963",
   "metadata": {},
   "source": [
    "## Nested if statement\n",
    " Scenario: Online exam result checker"
   ]
  },
  {
   "cell_type": "code",
   "execution_count": 17,
   "id": "e1f438f6-9263-4709-8c4e-835856a65094",
   "metadata": {},
   "outputs": [
    {
     "name": "stdout",
     "output_type": "stream",
     "text": [
      "You passed the exam ✅\n",
      "Great job! You scored distinction 🏅\n"
     ]
    }
   ],
   "source": [
    "marks = 85\n",
    "\n",
    "if marks >= 35:\n",
    "    print(\"You passed the exam ✅\")\n",
    "    if marks >= 75:\n",
    "        print(\"Great job! You scored distinction 🏅\")\n",
    "    else:\n",
    "        print(\"Good, but you can aim higher! 🚀\")\n",
    "else:\n",
    "    print(\"Unfortunately, you failed the exam ❌\")"
   ]
  },
  {
   "cell_type": "markdown",
   "id": "3eec5047-0f78-4352-b63b-f829a85e1c39",
   "metadata": {},
   "source": [
    "## if-elif-else with multiple elif\n",
    " Scenario: Grade assignment system"
   ]
  },
  {
   "cell_type": "code",
   "execution_count": 18,
   "id": "0206da82-e2c4-467c-855e-2d8532f0fc8b",
   "metadata": {},
   "outputs": [
    {
     "name": "stdout",
     "output_type": "stream",
     "text": [
      "Grade: A+ 🥇\n"
     ]
    }
   ],
   "source": [
    "score = 92\n",
    "\n",
    "if score >= 90:\n",
    "    print(\"Grade: A+ 🥇\")\n",
    "elif score >= 80:\n",
    "    print(\"Grade: A\")\n",
    "elif score >= 70:\n",
    "    print(\"Grade: B\")\n",
    "elif score >= 60:\n",
    "    print(\"Grade: C\")\n",
    "elif score >= 50:\n",
    "    print(\"Grade: D\")\n",
    "else:\n",
    "    print(\"Grade: F – Needs Improvement ❌\")"
   ]
  },
  {
   "cell_type": "markdown",
   "id": "e3c7d350-c760-4ed2-865a-ac8fb3e361af",
   "metadata": {},
   "source": [
    "## if with logical operators (and/or/not)\n",
    " Scenario: Checking user login credentials"
   ]
  },
  {
   "cell_type": "code",
   "execution_count": 19,
   "id": "70818947-f737-4445-a41b-22117b98c612",
   "metadata": {},
   "outputs": [
    {
     "name": "stdout",
     "output_type": "stream",
     "text": [
      "Login successful ✅\n"
     ]
    }
   ],
   "source": [
    "# AND Logic\n",
    "username = \"akshay\"\n",
    "password = \"1234\"\n",
    "\n",
    "if username == \"akshay\" and password == \"1234\":\n",
    "    print(\"Login successful ✅\")\n",
    "else:\n",
    "    print(\"Login failed ❌\")"
   ]
  },
  {
   "cell_type": "code",
   "execution_count": 20,
   "id": "a91781e8-1ca5-405e-9400-e3c3673094db",
   "metadata": {},
   "outputs": [
    {
     "name": "stdout",
     "output_type": "stream",
     "text": [
      "You are allowed to enter the event 🎉\n"
     ]
    }
   ],
   "source": [
    "# OR logic\n",
    "age = 16\n",
    "has_permission = True\n",
    "\n",
    "if age >= 18 or has_permission:\n",
    "    print(\"You are allowed to enter the event 🎉\")\n",
    "else:\n",
    "    print(\"Access denied 🚫\")"
   ]
  },
  {
   "cell_type": "code",
   "execution_count": 21,
   "id": "5fa4237e-54b6-4e44-a8ff-46cfa85dde60",
   "metadata": {},
   "outputs": [
    {
     "name": "stdout",
     "output_type": "stream",
     "text": [
      "You can play the game 🎮\n"
     ]
    }
   ],
   "source": [
    "# NOT logic\n",
    "is_banned = False\n",
    "\n",
    "if not is_banned:\n",
    "    print(\"You can play the game 🎮\")\n",
    "else:\n",
    "    print(\"Your account is banned ❌\")"
   ]
  },
  {
   "cell_type": "markdown",
   "id": "5e7181aa-cd93-41f4-8a4d-c177f736007d",
   "metadata": {},
   "source": [
    "## One-line if (Ternary operator)\n",
    " Scenario: Assign status based on age"
   ]
  },
  {
   "cell_type": "code",
   "execution_count": 22,
   "id": "89ae22c7-19e4-44c6-8b29-7aa9b014b1c7",
   "metadata": {},
   "outputs": [
    {
     "name": "stdout",
     "output_type": "stream",
     "text": [
      "Status: Adult\n"
     ]
    }
   ],
   "source": [
    "age = 21\n",
    "status = \"Adult\" if age >= 18 else \"Minor\"\n",
    "print(f\"Status: {status}\")"
   ]
  },
  {
   "cell_type": "markdown",
   "id": "88691cf2-be9d-48c9-bde0-b87ac97643b6",
   "metadata": {},
   "source": [
    "## if inside a loop\n",
    " Scenario: Filter even numbers from a list"
   ]
  },
  {
   "cell_type": "code",
   "execution_count": 23,
   "id": "b3e4da1e-0fa1-4163-a1a9-425ca4ad6607",
   "metadata": {},
   "outputs": [
    {
     "name": "stdout",
     "output_type": "stream",
     "text": [
      "Even numbers in the list:\n",
      "4\n",
      "10\n",
      "22\n"
     ]
    }
   ],
   "source": [
    "numbers = [1, 4, 7, 10, 15, 22]\n",
    "\n",
    "print(\"Even numbers in the list:\")\n",
    "for num in numbers:\n",
    "    if num % 2 == 0:\n",
    "        print(num)"
   ]
  }
 ],
 "metadata": {
  "kernelspec": {
   "display_name": "Python 3 (ipykernel)",
   "language": "python",
   "name": "python3"
  },
  "language_info": {
   "codemirror_mode": {
    "name": "ipython",
    "version": 3
   },
   "file_extension": ".py",
   "mimetype": "text/x-python",
   "name": "python",
   "nbconvert_exporter": "python",
   "pygments_lexer": "ipython3",
   "version": "3.12.7"
  }
 },
 "nbformat": 4,
 "nbformat_minor": 5
}
