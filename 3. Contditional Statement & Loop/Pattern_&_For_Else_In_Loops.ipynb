{
 "cells": [
  {
   "cell_type": "markdown",
   "id": "30c715e8-7a20-40ac-8bc1-3b8766c38279",
   "metadata": {},
   "source": [
    "Today I focused on mastering Python's `for` loops, `for-else` structure, and different types of **pattern printing** that are commonly used. These concepts build the foundation for solving logic-based coding problems and help in writing efficient, readable code."
   ]
  },
  {
   "cell_type": "code",
   "execution_count": 1,
   "id": "2da1228a-0744-45de-b4d0-550e624f2214",
   "metadata": {},
   "outputs": [
    {
     "name": "stdout",
     "output_type": "stream",
     "text": [
      "1\n",
      "2\n",
      "4\n",
      "7\n",
      "8\n",
      "11\n",
      "13\n",
      "14\n",
      "16\n",
      "17\n",
      "19\n",
      "22\n",
      "23\n",
      "26\n",
      "28\n",
      "29\n",
      "31\n",
      "32\n",
      "34\n",
      "37\n",
      "38\n",
      "41\n",
      "43\n",
      "44\n",
      "46\n",
      "47\n",
      "49\n",
      "---\n"
     ]
    }
   ],
   "source": [
    "## 1. Skip numbers divisible by 3 or 5\n",
    "for i in range(1, 51):\n",
    "    if i % 3 == 0 or i % 5 == 0:\n",
    "        continue\n",
    "    print(i)\n",
    "# Skips all values divisible by 3 or 5\n",
    "\n",
    "print(\"---\")"
   ]
  },
  {
   "cell_type": "code",
   "execution_count": 2,
   "id": "d13ead03-9f21-483c-8a30-be4915cf1168",
   "metadata": {},
   "outputs": [
    {
     "name": "stdout",
     "output_type": "stream",
     "text": [
      "1\n",
      "2\n",
      "3\n",
      "4\n",
      "5\n",
      "6\n",
      "7\n",
      "8\n",
      "9\n",
      "10\n",
      "11\n",
      "12\n",
      "13\n",
      "14\n",
      "16\n",
      "17\n",
      "18\n",
      "19\n",
      "20\n",
      "21\n",
      "22\n",
      "23\n",
      "24\n",
      "25\n",
      "26\n",
      "27\n",
      "28\n",
      "29\n",
      "31\n",
      "32\n",
      "33\n",
      "34\n",
      "35\n",
      "36\n",
      "37\n",
      "38\n",
      "39\n",
      "40\n",
      "41\n",
      "42\n",
      "43\n",
      "44\n",
      "46\n",
      "47\n",
      "48\n",
      "49\n",
      "end\n",
      "---\n"
     ]
    }
   ],
   "source": [
    "## 2. Skip numbers divisible by both 3 and 5 (i.e., 15, 30, 45...)\n",
    "for i in range(1, 50):\n",
    "    if i % 3 == 0 and i % 5 == 0:\n",
    "        continue\n",
    "    print(i)\n",
    "print(\"end\")\n",
    "\n",
    "print(\"---\")"
   ]
  },
  {
   "cell_type": "code",
   "execution_count": 3,
   "id": "3cb056e4-bf0b-4215-9884-66f11ab9d217",
   "metadata": {},
   "outputs": [
    {
     "name": "stdout",
     "output_type": "stream",
     "text": [
      "1\n",
      "3\n",
      "5\n",
      "7\n",
      "9\n",
      "11\n",
      "13\n",
      "15\n",
      "17\n",
      "19\n",
      "21\n",
      "23\n",
      "25\n",
      "27\n",
      "29\n",
      "31\n",
      "33\n",
      "35\n",
      "37\n",
      "39\n",
      "41\n",
      "43\n",
      "45\n",
      "47\n",
      "49\n",
      "bye\n",
      "---\n"
     ]
    }
   ],
   "source": [
    "## 3. Print only odd numbers\n",
    "for i in range(1, 51):\n",
    "    if i % 2 == 0:\n",
    "        continue\n",
    "    else:\n",
    "        print(i)\n",
    "print(\"bye\")\n",
    "\n",
    "print(\"---\")"
   ]
  },
  {
   "cell_type": "markdown",
   "id": "44f1873d-796f-42a6-9585-8a0827a38712",
   "metadata": {},
   "source": [
    "# Print Pattern"
   ]
  },
  {
   "cell_type": "markdown",
   "id": "042ee494-b900-4ced-a955-310f4290c601",
   "metadata": {},
   "source": [
    "**Tips About Patterns in Python**\n",
    "\n",
    "- Patterns are created using **nested loops**, where the outer loop handles rows and the inner loop handles columns or symbols.\n",
    "- You can use `print(\"#\", end=\" \")` to keep symbols on the same line.\n",
    "- Adjusting the number of iterations and `end` spacing helps create different pattern shapes (squares, triangles, pyramids).\n",
    "- Changing loop conditions allows for reverse patterns, alignment, and stepwise effects.\n",
    "- Always use `print()` after the inner loop to move to a new line."
   ]
  },
  {
   "cell_type": "code",
   "execution_count": 4,
   "id": "9e72c144-bae1-489f-83b5-6ca3f7404726",
   "metadata": {},
   "outputs": [
    {
     "name": "stdout",
     "output_type": "stream",
     "text": [
      "# # # #\n",
      "# # # #\n",
      "# # # #\n",
      "# # # #\n"
     ]
    }
   ],
   "source": [
    "## 4. Manual pattern print\n",
    "print(\"# # # #\")\n",
    "print(\"# # # #\")\n",
    "print(\"# # # #\")\n",
    "print(\"# # # #\")\n",
    "\n",
    "# Not best way for large pattern and not a way to print, big no "
   ]
  },
  {
   "cell_type": "code",
   "execution_count": 5,
   "id": "e00ab2dc-df0c-4eb2-87fb-925e2fe4c2a9",
   "metadata": {},
   "outputs": [
    {
     "name": "stdout",
     "output_type": "stream",
     "text": [
      "# # # #\n",
      "# # # #\n",
      "# # # #\n",
      "# # # #\n",
      "---\n"
     ]
    }
   ],
   "source": [
    "## 5. Using loop to print same pattern\n",
    "for i in range(1, 5):\n",
    "    i = i + 1\n",
    "    print(\"# # # #\")\n",
    "\n",
    "print(\"---\")"
   ]
  },
  {
   "cell_type": "code",
   "execution_count": 6,
   "id": "b4146c43-d7a7-4c83-b32d-557b129ff3e1",
   "metadata": {},
   "outputs": [
    {
     "name": "stdout",
     "output_type": "stream",
     "text": [
      "# # # #\n",
      "# # # #\n",
      "# # # #\n",
      "# # # #\n",
      "---\n"
     ]
    }
   ],
   "source": [
    "## 6. Conditional printing inside loop\n",
    "for i in range(1, 5):\n",
    "    if i <= 5:\n",
    "        print(\"# # # #\")\n",
    "\n",
    "print(\"---\")"
   ]
  },
  {
   "cell_type": "code",
   "execution_count": 7,
   "id": "2c247583-954c-4b6e-8896-2ffd892052fd",
   "metadata": {},
   "outputs": [
    {
     "name": "stdout",
     "output_type": "stream",
     "text": [
      "#\n",
      "#\n",
      "#\n",
      "#\n",
      "---\n"
     ]
    }
   ],
   "source": [
    "## 7. Print single column\n",
    "for j in range(4):\n",
    "    print(\"#\")\n",
    "\n",
    "print(\"---\")\n"
   ]
  },
  {
   "cell_type": "code",
   "execution_count": 8,
   "id": "904781ea-5bda-4b21-9a38-b6335f96baff",
   "metadata": {},
   "outputs": [
    {
     "name": "stdout",
     "output_type": "stream",
     "text": [
      "# # # #\n",
      "# # # #\n",
      "# # # #\n",
      "# # # #\n",
      "---\n"
     ]
    }
   ],
   "source": [
    "## 8. Print full square with spacing\n",
    "for j in range(4):\n",
    "    print(\"# # # #\")\n",
    "\n",
    "print(\"---\")"
   ]
  },
  {
   "cell_type": "code",
   "execution_count": 10,
   "id": "4472b8a8-5872-41e4-84ec-602d5902586c",
   "metadata": {},
   "outputs": [
    {
     "name": "stdout",
     "output_type": "stream",
     "text": [
      "# # # # \n",
      "# # # # \n",
      "---\n"
     ]
    }
   ],
   "source": [
    "## 9. Inline hash symbols\n",
    "for j in range(4):\n",
    "    print(\"#\", end=\" \")\n",
    "print()\n",
    "for j in range(4):\n",
    "    print(\"#\", end=\" \")\n",
    "print()\n",
    "\n",
    "print(\"---\")"
   ]
  },
  {
   "cell_type": "code",
   "execution_count": 11,
   "id": "1016668e-bf69-44e7-88b0-1a1be8ada487",
   "metadata": {},
   "outputs": [
    {
     "name": "stdout",
     "output_type": "stream",
     "text": [
      "# # # # \n",
      "#  #  #  #  \n",
      "#  #  #  #  \n",
      "#  #  #  #  \n",
      "---\n"
     ]
    }
   ],
   "source": [
    "## 10. Variable spacing between hashes\n",
    "for j in range(4):\n",
    "    print(\"#\", end=\" \")\n",
    "print()\n",
    "\n",
    "for j in range(4):\n",
    "    print(\"#\", end=\"  \")\n",
    "print()\n",
    "\n",
    "for j in range(4):\n",
    "    print(\"#\", end=\"  \")\n",
    "print()\n",
    "\n",
    "for j in range(4):\n",
    "    print(\"#\", end=\"  \")\n",
    "print()\n",
    "\n",
    "print(\"---\")"
   ]
  },
  {
   "cell_type": "code",
   "execution_count": 12,
   "id": "f62e5154-9b6d-4207-bd7c-fdfe613a137c",
   "metadata": {},
   "outputs": [
    {
     "name": "stdout",
     "output_type": "stream",
     "text": [
      "#  #  #  #  \n",
      "#  #  #  #  \n",
      "#  #  #  #  \n",
      "#  #  #  #  \n",
      "---\n"
     ]
    }
   ],
   "source": [
    "## 11. Nested loop square\n",
    "for i in range(4):\n",
    "    for j in range(4):\n",
    "        print(\"#\", end=\"  \")\n",
    "    print()\n",
    "\n",
    "print(\"---\")"
   ]
  },
  {
   "cell_type": "code",
   "execution_count": 13,
   "id": "101f6f9e-2356-489e-8b15-c6fb07cc1990",
   "metadata": {},
   "outputs": [
    {
     "name": "stdout",
     "output_type": "stream",
     "text": [
      "# \n",
      "# # \n",
      "# # # \n",
      "# # # # \n"
     ]
    }
   ],
   "source": [
    "## 12. Right-angle triangle\n",
    "for i in range(1, 5):\n",
    "    print(\"# \" * i)"
   ]
  },
  {
   "cell_type": "code",
   "execution_count": 14,
   "id": "06face9c-1804-4a58-bf58-f7ef934c5cd3",
   "metadata": {},
   "outputs": [
    {
     "name": "stdout",
     "output_type": "stream",
     "text": [
      "# \n",
      "# # \n",
      "# # # \n",
      "# # # # \n",
      "---\n"
     ]
    }
   ],
   "source": [
    "## 13. Triangle using condition\n",
    "for i in range(1, 5):\n",
    "    for j in range(4):\n",
    "        if i > j:\n",
    "            print(\"#\", end=\" \")\n",
    "    print()\n",
    "\n",
    "print(\"---\")"
   ]
  },
  {
   "cell_type": "code",
   "execution_count": 15,
   "id": "0e4718c6-a371-4b3b-8d11-6bc147f9f55a",
   "metadata": {},
   "outputs": [
    {
     "name": "stdout",
     "output_type": "stream",
     "text": [
      "[0, 1, 2, 3, 4]\n",
      "---\n"
     ]
    }
   ],
   "source": [
    "## 14. Using list(range())\n",
    "print(list(range(5)))\n",
    "\n",
    "print(\"---\")"
   ]
  },
  {
   "cell_type": "code",
   "execution_count": 16,
   "id": "4d7e1ed5-8569-461f-9fc4-3c2a3907e4f5",
   "metadata": {},
   "outputs": [
    {
     "name": "stdout",
     "output_type": "stream",
     "text": [
      "\n",
      "#  \n",
      "#  #  \n",
      "#  #  #  \n",
      "---\n"
     ]
    }
   ],
   "source": [
    "## 15. Left aligned triangle\n",
    "for i in range(4):\n",
    "    for j in range(i):\n",
    "        print(\"#\", end=\"  \")\n",
    "    print()\n",
    "\n",
    "print(\"---\")"
   ]
  },
  {
   "cell_type": "code",
   "execution_count": 17,
   "id": "d2360728-c194-4aed-b056-5ceb6a9249dd",
   "metadata": {},
   "outputs": [
    {
     "name": "stdout",
     "output_type": "stream",
     "text": [
      "#  \n",
      "#  #  \n",
      "#  #  #  \n",
      "#  #  #  #  \n",
      "---\n"
     ]
    }
   ],
   "source": [
    "## 16. Triangle pattern with +1\n",
    "for i in range(4):\n",
    "    for j in range(i + 1):\n",
    "        print(\"#\", end=\"  \")\n",
    "    print()\n",
    "\n",
    "print(\"---\")"
   ]
  },
  {
   "cell_type": "code",
   "execution_count": 18,
   "id": "77625fc8-8455-4c27-b039-fbd297ea1744",
   "metadata": {},
   "outputs": [
    {
     "name": "stdout",
     "output_type": "stream",
     "text": [
      "#  #  #  #  \n",
      "#  #  #  \n",
      "#  #  \n",
      "#  \n",
      "---\n"
     ]
    }
   ],
   "source": [
    "## 17. Reverse triangle pattern\n",
    "for i in range(4):\n",
    "    for j in range(4 - i):\n",
    "        print(\"#\", end=\"  \")\n",
    "    print()\n",
    "\n",
    "print(\"---\")"
   ]
  },
  {
   "cell_type": "markdown",
   "id": "2edf6093-4ab3-4b3a-a9ed-13aa9f9340a7",
   "metadata": {},
   "source": [
    "# For - Else "
   ]
  },
  {
   "cell_type": "markdown",
   "id": "a80f2a16-cb1c-43ba-89d8-c62049d413db",
   "metadata": {},
   "source": [
    "**Tips About For-Else in Python**\n",
    "\n",
    "- `for-else` is a unique Python feature not available in many other languages.\n",
    "- The `else` block executes **only if the loop completes without encountering a `break`**.\n",
    "- Common use cases:\n",
    "  - Searching for a value in a list\n",
    "  - Checking if a number is prime\n",
    "  - Validating conditions without additional flags\n",
    "- Helps eliminate the need for an external boolean flag (`found = False` pattern)."
   ]
  },
  {
   "cell_type": "code",
   "execution_count": 19,
   "id": "f27d3d83-e65a-4db8-8985-951eb02f02e1",
   "metadata": {},
   "outputs": [
    {
     "name": "stdout",
     "output_type": "stream",
     "text": [
      "15\n",
      "30\n",
      "40\n"
     ]
    }
   ],
   "source": [
    "## 18. For-Else in Python - find first divisible by 5\n",
    "nums = [12, 15, 18, 21, 26, 30, 40]\n",
    "for num in nums:\n",
    "    if num % 5 == 0:\n",
    "        print(num)"
   ]
  },
  {
   "cell_type": "code",
   "execution_count": 20,
   "id": "a5cb05f5-43c9-445b-a797-1bbbe3e4bdeb",
   "metadata": {},
   "outputs": [
    {
     "name": "stdout",
     "output_type": "stream",
     "text": [
      "25\n",
      "30\n",
      "35\n"
     ]
    }
   ],
   "source": [
    "## 19. Multiple divisible values\n",
    "nums = [12, 14, 18, 21, 25, 30, 35]\n",
    "for num in nums:\n",
    "    if num % 5 == 0:\n",
    "        print(num)"
   ]
  },
  {
   "cell_type": "code",
   "execution_count": 21,
   "id": "ec36b43c-1717-4cca-9b7f-d80655be35a3",
   "metadata": {},
   "outputs": [
    {
     "name": "stdout",
     "output_type": "stream",
     "text": [
      "20\n"
     ]
    }
   ],
   "source": [
    "## 20. Using break - stop at first divisible by 5\n",
    "nums = [12, 14, 18, 21, 20, 25]\n",
    "for num in nums:\n",
    "    if num % 5 == 0:\n",
    "        print(num)\n",
    "        break"
   ]
  },
  {
   "cell_type": "code",
   "execution_count": 22,
   "id": "6d68923d-b5d7-4bfb-ab3f-3a7e112c614c",
   "metadata": {},
   "outputs": [
    {
     "name": "stdout",
     "output_type": "stream",
     "text": [
      "Number Not Found\n"
     ]
    }
   ],
   "source": [
    "## 21. For-Else example\n",
    "nums = [7, 14, 18, 21, 23, 27, 29]\n",
    "for num in nums:\n",
    "    if num % 5 == 0:\n",
    "        print(num)\n",
    "        break\n",
    "else:\n",
    "    print('Number Not Found')"
   ]
  },
  {
   "cell_type": "code",
   "execution_count": null,
   "id": "2d187c7e-5980-45cd-824a-10eafae440d1",
   "metadata": {},
   "outputs": [],
   "source": [
    "## 22. Prime number check\n",
    "num = 14\n",
    "for i in range(2, num):\n",
    "    if num % i == 0:\n",
    "        print('Not prime Number')\n",
    "        break\n",
    "else:\n",
    "    print('Prime Number')\n"
   ]
  },
  {
   "cell_type": "markdown",
   "id": "0670e86d-44f5-4fbd-aa36-c28524538d7b",
   "metadata": {},
   "source": [
    "# Pattern Examples"
   ]
  },
  {
   "cell_type": "code",
   "execution_count": 23,
   "id": "a8301fed-8c8f-4bba-b887-3bc43651f0c0",
   "metadata": {},
   "outputs": [
    {
     "name": "stdout",
     "output_type": "stream",
     "text": [
      "* \n",
      "* * \n",
      "* * * \n",
      "* * * * \n",
      "* * * * * \n"
     ]
    }
   ],
   "source": [
    "## 1. Right-Angled Triangle\n",
    "for i in range(1, 6):\n",
    "    for j in range(i):\n",
    "        print(\"*\", end=\" \")\n",
    "    print()"
   ]
  },
  {
   "cell_type": "code",
   "execution_count": 24,
   "id": "b65c9a13-c7dc-43e0-90a9-aa11f91c12c9",
   "metadata": {},
   "outputs": [
    {
     "name": "stdout",
     "output_type": "stream",
     "text": [
      "* * * * * \n",
      "* * * * \n",
      "* * * \n",
      "* * \n",
      "* \n"
     ]
    }
   ],
   "source": [
    "## 2. Inverted Right-Angled Triangle\n",
    "for i in range(5, 0, -1):\n",
    "    for j in range(i):\n",
    "        print(\"*\", end=\" \")\n",
    "    print()"
   ]
  },
  {
   "cell_type": "code",
   "execution_count": 25,
   "id": "b4464e90-a57e-4c41-81d8-afdf6e9343d1",
   "metadata": {},
   "outputs": [
    {
     "name": "stdout",
     "output_type": "stream",
     "text": [
      "    * \n",
      "   * * \n",
      "  * * * \n",
      " * * * * \n",
      "* * * * * \n"
     ]
    }
   ],
   "source": [
    "## 3. Pyramid Pattern\n",
    "for i in range(1, 6):\n",
    "    print(\" \" * (5 - i) + \"* \" * i)"
   ]
  },
  {
   "cell_type": "code",
   "execution_count": 26,
   "id": "06249958-8d6c-4829-b64e-caa97f2ef860",
   "metadata": {},
   "outputs": [
    {
     "name": "stdout",
     "output_type": "stream",
     "text": [
      "1 \n",
      "1 2 \n",
      "1 2 3 \n",
      "1 2 3 4 \n",
      "1 2 3 4 5 \n"
     ]
    }
   ],
   "source": [
    "## 4. Number Triangle\n",
    "for i in range(1, 6):\n",
    "    for j in range(1, i + 1):\n",
    "        print(j, end=\" \")\n",
    "    print()"
   ]
  },
  {
   "cell_type": "code",
   "execution_count": 27,
   "id": "b430d9b7-ec13-4816-80b6-8306de9ae993",
   "metadata": {},
   "outputs": [
    {
     "name": "stdout",
     "output_type": "stream",
     "text": [
      "1 \n",
      "2 3 \n",
      "4 5 6 \n",
      "7 8 9 10 \n",
      "11 12 13 14 15 \n"
     ]
    }
   ],
   "source": [
    "## 5. Floyd's Triangle\n",
    "num = 1\n",
    "for i in range(1, 6):\n",
    "    for j in range(i):\n",
    "        print(num, end=\" \")\n",
    "        num += 1\n",
    "    print()"
   ]
  },
  {
   "cell_type": "markdown",
   "id": "b3c3d535-6cf5-4b54-ab7b-8b4874ee179d",
   "metadata": {},
   "source": [
    "# For-Else Examples\n"
   ]
  },
  {
   "cell_type": "code",
   "execution_count": 28,
   "id": "eb821a96-c422-40ee-929b-247b0dfd2610",
   "metadata": {},
   "outputs": [
    {
     "name": "stdout",
     "output_type": "stream",
     "text": [
      "Prime\n"
     ]
    }
   ],
   "source": [
    "## 1. Prime Number Checker\n",
    "num = 17\n",
    "for i in range(2, num):\n",
    "    if num % i == 0:\n",
    "        print(\"Not Prime\")\n",
    "        break\n",
    "else:\n",
    "    print(\"Prime\")"
   ]
  },
  {
   "cell_type": "code",
   "execution_count": 29,
   "id": "b0d271e5-1669-4af5-b041-23655b12a4bb",
   "metadata": {},
   "outputs": [
    {
     "name": "stdout",
     "output_type": "stream",
     "text": [
      "Found 47\n"
     ]
    }
   ],
   "source": [
    "## 2. Search for Item in List\n",
    "items = [12, 24, 35, 47, 60]\n",
    "for item in items:\n",
    "    if item == 47:\n",
    "        print(\"Found 47\")\n",
    "        break\n",
    "else:\n",
    "    print(\"47 Not Found\")"
   ]
  },
  {
   "cell_type": "code",
   "execution_count": 30,
   "id": "a5d6af93-2d57-4bf6-be2b-8fd88a5ad0f2",
   "metadata": {},
   "outputs": [
    {
     "name": "stdout",
     "output_type": "stream",
     "text": [
      "All numbers are even\n"
     ]
    }
   ],
   "source": [
    "## 3. Check All Items are Even\n",
    "nums = [2, 4, 6, 8, 10]\n",
    "for n in nums:\n",
    "    if n % 2 != 0:\n",
    "        print(\"Not all numbers are even\")\n",
    "        break\n",
    "else:\n",
    "    print(\"All numbers are even\")"
   ]
  },
  {
   "cell_type": "code",
   "execution_count": 31,
   "id": "84a66518-7f99-4cad-bf09-e15d46fd4f16",
   "metadata": {},
   "outputs": [
    {
     "name": "stdout",
     "output_type": "stream",
     "text": [
      "Access granted\n"
     ]
    }
   ],
   "source": [
    "## 4. Password Check Simulation\n",
    "attempts = [\"admin\", \"root\", \"guest\"]\n",
    "for attempt in attempts:\n",
    "    if attempt == \"root\":\n",
    "        print(\"Access granted\")\n",
    "        break\n",
    "else:\n",
    "    print(\"Access denied\")"
   ]
  }
 ],
 "metadata": {
  "kernelspec": {
   "display_name": "Python 3 (ipykernel)",
   "language": "python",
   "name": "python3"
  },
  "language_info": {
   "codemirror_mode": {
    "name": "ipython",
    "version": 3
   },
   "file_extension": ".py",
   "mimetype": "text/x-python",
   "name": "python",
   "nbconvert_exporter": "python",
   "pygments_lexer": "ipython3",
   "version": "3.12.7"
  }
 },
 "nbformat": 4,
 "nbformat_minor": 5
}
