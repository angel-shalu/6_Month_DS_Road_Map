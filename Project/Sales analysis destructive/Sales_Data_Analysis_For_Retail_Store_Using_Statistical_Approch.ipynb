{
  "cells": [
    {
      "cell_type": "markdown",
      "metadata": {
        "id": "ahZAsGhi4A6O"
      },
      "source": [
        "# Sales Data Analysis For Retail Store Using Statistical Approch"
      ]
    },
    {
      "cell_type": "markdown",
      "metadata": {
        "id": "w24NNekjcAZm"
      },
      "source": [
        "# Step 1 : Import Libraries"
      ]
    },
    {
      "cell_type": "code",
      "execution_count": 1,
      "metadata": {
        "id": "gUcn9O5Cbpz-"
      },
      "outputs": [],
      "source": [
        "import pandas as pd\n",
        "import numpy as np\n",
        "import matplotlib.pyplot as plt\n",
        "import seaborn as sns\n",
        "import scipy.stats as stats"
      ]
    },
    {
      "cell_type": "markdown",
      "metadata": {
        "id": "RK_86fDKcayI"
      },
      "source": [
        "# Step 2 : Create the Dataset"
      ]
    },
    {
      "cell_type": "code",
      "execution_count": 2,
      "metadata": {
        "colab": {
          "base_uri": "https://localhost:8080/"
        },
        "id": "WWcuyUnVbp5f",
        "outputId": "0b887182-802c-4030-afbd-26d55cdcf7d6"
      },
      "outputs": [
        {
          "name": "stdout",
          "output_type": "stream",
          "text": [
            "Sales Data:\n",
            "    product_id product_name     category  units_sold  sale_date\n",
            "0            1    Product 1         Home          25 2023-01-01\n",
            "1            2    Product 2       Sports          15 2023-01-02\n",
            "2            3    Product 3  Electronics          17 2023-01-03\n",
            "3            4    Product 4         Home          19 2023-01-04\n",
            "4            5    Product 5         Home          21 2023-01-05\n",
            "5            6    Product 6       Sports          17 2023-01-06\n",
            "6            7    Product 7  Electronics          19 2023-01-07\n",
            "7            8    Product 8  Electronics          16 2023-01-08\n",
            "8            9    Product 9         Home          21 2023-01-09\n",
            "9           10   Product 10     Clothing          21 2023-01-10\n",
            "10          11   Product 11         Home          17 2023-01-11\n",
            "11          12   Product 12         Home          22 2023-01-12\n",
            "12          13   Product 13         Home          14 2023-01-13\n",
            "13          14   Product 14         Home          17 2023-01-14\n",
            "14          15   Product 15       Sports          17 2023-01-15\n",
            "15          16   Product 16  Electronics          21 2023-01-16\n",
            "16          17   Product 17       Sports          21 2023-01-17\n",
            "17          18   Product 18       Sports          13 2023-01-18\n",
            "18          19   Product 19       Sports          18 2023-01-19\n",
            "19          20   Product 20         Home          25 2023-01-20\n"
          ]
        }
      ],
      "source": [
        "# Set the random seed for reproducibility\n",
        "np.random.seed(42)\n",
        "\n",
        "# Create a synthetic dataset\n",
        "data = {\n",
        "    'product_id': range(1, 21),\n",
        "    'product_name': [f'Product {i}' for i in range(1, 21)],\n",
        "    'category': np.random.choice(['Electronics', 'Clothing', 'Home', 'Sports'], 20),\n",
        "    'units_sold': np.random.poisson(lam=20, size=20),  # Poisson distribution for sales\n",
        "    'sale_date': pd.date_range(start='2023-01-01', periods=20, freq='D')\n",
        "}\n",
        "\n",
        "sales_data = pd.DataFrame(data)\n",
        "\n",
        "# Display the first few rows of the dataset\n",
        "print(\"Sales Data:\")\n",
        "print(sales_data)"
      ]
    },
    {
      "cell_type": "code",
      "execution_count": 3,
      "metadata": {
        "id": "A4KLJbm-bqAg"
      },
      "outputs": [],
      "source": [
        "# Save the DataFrame as a CSV file\n",
        "sales_data.to_csv('sales_data.csv', index=False)"
      ]
    },
    {
      "cell_type": "code",
      "execution_count": 4,
      "metadata": {
        "colab": {
          "base_uri": "https://localhost:8080/",
          "height": 36
        },
        "id": "Fo6swHKJbqDz",
        "outputId": "a9847cde-979c-4f1e-dec8-29010233497a"
      },
      "outputs": [
        {
          "data": {
            "text/plain": [
              "'c:\\\\Users\\\\shali\\\\Desktop\\\\Data Science\\\\MY_NIT_ALL_TASKS\\\\Nit Project\\\\Sales Analysis\\\\Sales analysis destructive'"
            ]
          },
          "execution_count": 4,
          "metadata": {},
          "output_type": "execute_result"
        }
      ],
      "source": [
        "# Path location\n",
        "import os\n",
        "os.getcwd()"
      ]
    },
    {
      "cell_type": "markdown",
      "metadata": {
        "id": "Kfx_BIc8eE-Z"
      },
      "source": [
        "# Step 3 : Descriptive Statistics"
      ]
    },
    {
      "cell_type": "code",
      "execution_count": 5,
      "metadata": {
        "colab": {
          "base_uri": "https://localhost:8080/"
        },
        "id": "sC2-IKr7bqHS",
        "outputId": "43c23ab7-42a3-4c09-dd8a-3df72e352297"
      },
      "outputs": [
        {
          "name": "stdout",
          "output_type": "stream",
          "text": [
            "\n",
            "Descriptive Statistics for Units Sold:\n",
            "count    20.000000\n",
            "mean     18.800000\n",
            "std       3.302312\n",
            "min      13.000000\n",
            "25%      17.000000\n",
            "50%      18.500000\n",
            "75%      21.000000\n",
            "max      25.000000\n",
            "Name: units_sold, dtype: float64\n",
            "\n",
            "Statistical Analysis:\n",
            "Mean Units Sold: 18.8\n",
            "Median Units Sold: 18.5\n",
            "Mode Units Sold: 17\n",
            "Variance of Units Sold: 10.905263157894737\n",
            "Standard Deviation of Units Sold: 3.302311789927586\n",
            "\n",
            "Category Statistics:\n",
            "      Category  Total Units Sold  Average Units Sold  Std Dev of Units Sold\n",
            "0     Clothing                21           21.000000                    NaN\n",
            "1  Electronics                73           18.250000               2.217356\n",
            "2         Home               181           20.111111               3.723051\n",
            "3       Sports               101           16.833333               2.714160\n"
          ]
        }
      ],
      "source": [
        "# Descriptive statistics\n",
        "descriptive_stats = sales_data['units_sold'].describe()\n",
        "\n",
        "# Display descriptive statistics\n",
        "print(\"\\nDescriptive Statistics for Units Sold:\")\n",
        "print(descriptive_stats)\n",
        "\n",
        "# Additional statistics\n",
        "mean_sales = sales_data['units_sold'].mean()\n",
        "median_sales = sales_data['units_sold'].median()\n",
        "mode_sales = sales_data['units_sold'].mode()[0]\n",
        "variance_sales = sales_data['units_sold'].var()\n",
        "std_deviation_sales = sales_data['units_sold'].std()\n",
        "\n",
        "# Group by category and calculate total and average sales\n",
        "category_stats = sales_data.groupby('category')['units_sold'].agg(['sum', 'mean', 'std']).reset_index()\n",
        "category_stats.columns = ['Category', 'Total Units Sold', 'Average Units Sold', 'Std Dev of Units Sold']\n",
        "\n",
        "# Display the results\n",
        "print(\"\\nStatistical Analysis:\")\n",
        "print(f\"Mean Units Sold: {mean_sales}\")\n",
        "print(f\"Median Units Sold: {median_sales}\")\n",
        "print(f\"Mode Units Sold: {mode_sales}\")\n",
        "print(f\"Variance of Units Sold: {variance_sales}\")\n",
        "print(f\"Standard Deviation of Units Sold: {std_deviation_sales}\")\n",
        "print(\"\\nCategory Statistics:\")\n",
        "print(category_stats)"
      ]
    },
    {
      "cell_type": "markdown",
      "metadata": {
        "id": "9EOGcG20e8RQ"
      },
      "source": [
        "# Step 4 : Inferential Statistics"
      ]
    },
    {
      "cell_type": "code",
      "execution_count": 6,
      "metadata": {
        "colab": {
          "base_uri": "https://localhost:8080/"
        },
        "id": "75vB7ZPdbqKn",
        "outputId": "a2aab4e8-d6a5-470c-a08f-e22ba4402704"
      },
      "outputs": [
        {
          "name": "stdout",
          "output_type": "stream",
          "text": [
            "\n",
            "Confidence Interval for the Mean of Units Sold:\n",
            "(np.float64(17.254470507823573), np.float64(20.34552949217643))\n"
          ]
        }
      ],
      "source": [
        "# Confidence Interval for the mean of units sold\n",
        "confidence_level = 0.95\n",
        "degrees_freedom = len(sales_data['units_sold']) - 1\n",
        "sample_mean = mean_sales\n",
        "sample_standard_error = std_deviation_sales / np.sqrt(len(sales_data['units_sold']))\n",
        "\n",
        "# t-score for the confidence level\n",
        "t_score = stats.t.ppf((1 + confidence_level) / 2, degrees_freedom)\n",
        "margin_of_error = t_score * sample_standard_error\n",
        "\n",
        "confidence_interval = (sample_mean - margin_of_error, sample_mean + margin_of_error)\n",
        "print(\"\\nConfidence Interval for the Mean of Units Sold:\")\n",
        "print(confidence_interval)"
      ]
    },
    {
      "cell_type": "code",
      "execution_count": 4,
      "metadata": {
        "colab": {
          "base_uri": "https://localhost:8080/"
        },
        "id": "cvuX9G0RbqN3",
        "outputId": "13df411c-6e8a-4084-9368-5a18b9cb17f0"
      },
      "outputs": [
        {
          "name": "stdout",
          "output_type": "stream",
          "text": [
            "\n",
            "Confidence Interval for the Mean of Units Sold:\n",
            "(np.float64(16.687430485978535), np.float64(20.912569514021467))\n"
          ]
        }
      ],
      "source": [
        "# Confidence Interval for the mean of units sold\n",
        "confidence_level = 0.99\n",
        "degrees_freedom = len(sales_data['units_sold']) - 1\n",
        "sample_mean = mean_sales\n",
        "sample_standard_error = std_deviation_sales / np.sqrt(len(sales_data['units_sold']))\n",
        "\n",
        "# t-score for the confidence level\n",
        "t_score = stats.t.ppf((1 + confidence_level) / 2, degrees_freedom)\n",
        "margin_of_error = t_score * sample_standard_error\n",
        "\n",
        "confidence_interval = (sample_mean - margin_of_error, sample_mean + margin_of_error)\n",
        "print(\"\\nConfidence Interval for the Mean of Units Sold:\")\n",
        "print(confidence_interval)"
      ]
    },
    {
      "cell_type": "markdown",
      "metadata": {
        "id": "Z666KogqtNz5"
      },
      "source": [
        "# Hypothesis Testing"
      ]
    },
    {
      "cell_type": "code",
      "execution_count": 5,
      "metadata": {
        "colab": {
          "base_uri": "https://localhost:8080/"
        },
        "id": "o2k0y7QnbqRA",
        "outputId": "b914fff5-ff3f-451b-c7a5-cbf5f23100cf"
      },
      "outputs": [
        {
          "name": "stdout",
          "output_type": "stream",
          "text": [
            "\n",
            "Hypothesis Testing (t-test):\n",
            "T-statistic: -1.6250928099424466, P-value: 0.12061572226781002\n",
            "Fail to reject the null hypothesis: The mean units sold is not significantly different from 20.\n"
          ]
        }
      ],
      "source": [
        "# Hypothesis Testing (t-test)\n",
        "# Null hypothesis: Mean units sold is equal to 20\n",
        "# Alternative hypothesis: Mean units sold is not equal to 20\n",
        "\n",
        "t_statistic, p_value = stats.ttest_1samp(sales_data['units_sold'], 20)\n",
        "\n",
        "print(\"\\nHypothesis Testing (t-test):\")\n",
        "print(f\"T-statistic: {t_statistic}, P-value: {p_value}\")\n",
        "\n",
        "if p_value < 0.05:\n",
        "    print(\"Reject the null hypothesis: The mean units sold is significantly different from 20.\")\n",
        "else:\n",
        "    print(\"Fail to reject the null hypothesis: The mean units sold is not significantly different from 20.\")"
      ]
    },
    {
      "cell_type": "markdown",
      "metadata": {
        "id": "Ky9Op4kctVlU"
      },
      "source": [
        "# Step 5 : Visualizations"
      ]
    },
    {
      "cell_type": "code",
      "execution_count": 11,
      "metadata": {
        "colab": {
          "base_uri": "https://localhost:8080/",
          "height": 1000
        },
        "id": "JFw4rQsobqUI",
        "outputId": "f01728cf-f44e-4fea-c8be-8c56fb22087d"
      },
      "outputs": [
        {
          "data": {
            "image/png": "[encoded data removed]",
            "text/plain": [
              "<Figure size 1000x600 with 1 Axes>"
            ]
          },
          "metadata": {},
          "output_type": "display_data"
        },
        {
          "data": {
            "image/png": "[encoded data removed]",
            "text/plain": [
              "<Figure size 1000x600 with 1 Axes>"
            ]
          },
          "metadata": {},
          "output_type": "display_data"
        },
        {
          "data": {
            "image/png": "[encoded data removed]",
            "text/plain": [
              "<Figure size 1000x600 with 1 Axes>"
            ]
          },
          "metadata": {},
          "output_type": "display_data"
        }
      ],
      "source": [
        "import seaborn as sns\n",
        "import matplotlib.pyplot as plt\n",
        "\n",
        "# Additional statistics\n",
        "median_sales = sales_data['units_sold'].median()\n",
        "mode_sales = sales_data['units_sold'].mode()[0]\n",
        "\n",
        "# Group by category and calculate total and average sales\n",
        "category_stats = sales_data.groupby('category')['units_sold'].agg(['sum', 'mean', 'std']).reset_index()\n",
        "category_stats.columns = ['Category', 'Total Units Sold', 'Average Units Sold', 'Std Dev of Units Sold']\n",
        "\n",
        "# Visualizations\n",
        "sns.set(style=\"whitegrid\")\n",
        "\n",
        "# Plot distribution of units sold\n",
        "plt.figure(figsize=(10, 6))\n",
        "sns.histplot(sales_data['units_sold'], bins=10, kde=True)\n",
        "plt.title('Distribution of Units Sold')\n",
        "plt.xlabel('Units Sold')\n",
        "plt.ylabel('Frequency')\n",
        "plt.axvline(mean_sales, color='red', linestyle='--', label='Mean')\n",
        "plt.axvline(median_sales, color='blue', linestyle='--', label='Median')\n",
        "plt.axvline(mode_sales, color='green', linestyle='--', label='Mode')\n",
        "plt.legend()\n",
        "plt.show()\n",
        "\n",
        "# Boxplot for units sold by category\n",
        "plt.figure(figsize=(10, 6))\n",
        "sns.boxplot(x='category', y='units_sold', data=sales_data)\n",
        "plt.title('Boxplot of Units Sold by Category')\n",
        "plt.xlabel('Category')\n",
        "plt.ylabel('Units Sold')\n",
        "plt.show()\n",
        "\n",
        "# Bar plot for total units sold by category\n",
        "plt.figure(figsize=(10, 6))\n",
        "sns.barplot(x='Category', y='Total Units Sold', data=category_stats)\n",
        "plt.title('Total Units Sold by Category')\n",
        "plt.xlabel('Category')\n",
        "plt.ylabel('Total Units Sold')\n",
        "plt.show()"
      ]
    },
    {
      "cell_type": "code",
      "execution_count": null,
      "metadata": {
        "id": "hzgKT7_lbqXK"
      },
      "outputs": [],
      "source": []
    },
    {
      "cell_type": "code",
      "execution_count": 21,
      "metadata": {
        "colab": {
          "base_uri": "https://localhost:8080/"
        },
        "id": "Q0EZW0PDbqdj",
        "outputId": "3c97b826-27e8-4631-edf7-9d0ec1aafc3f"
      },
      "outputs": [
        {
          "name": "stdout",
          "output_type": "stream",
          "text": [
            "Requirement already satisfied: gradio in /usr/local/lib/python3.11/dist-packages (5.38.2)\n",
            "Requirement already satisfied: pandas in /usr/local/lib/python3.11/dist-packages (2.2.2)\n",
            "Requirement already satisfied: numpy in /usr/local/lib/python3.11/dist-packages (2.0.2)\n",
            "Requirement already satisfied: matplotlib in /usr/local/lib/python3.11/dist-packages (3.10.0)\n",
            "Requirement already satisfied: seaborn in /usr/local/lib/python3.11/dist-packages (0.13.2)\n",
            "Requirement already satisfied: scipy in /usr/local/lib/python3.11/dist-packages (1.16.0)\n",
            "Requirement already satisfied: aiofiles<25.0,>=22.0 in /usr/local/lib/python3.11/dist-packages (from gradio) (24.1.0)\n",
            "Requirement already satisfied: anyio<5.0,>=3.0 in /usr/local/lib/python3.11/dist-packages (from gradio) (4.9.0)\n",
            "Requirement already satisfied: brotli>=1.1.0 in /usr/local/lib/python3.11/dist-packages (from gradio) (1.1.0)\n",
            "Requirement already satisfied: fastapi<1.0,>=0.115.2 in /usr/local/lib/python3.11/dist-packages (from gradio) (0.116.1)\n",
            "Requirement already satisfied: ffmpy in /usr/local/lib/python3.11/dist-packages (from gradio) (0.6.1)\n",
            "Requirement already satisfied: gradio-client==1.11.0 in /usr/local/lib/python3.11/dist-packages (from gradio) (1.11.0)\n",
            "Requirement already satisfied: groovy~=0.1 in /usr/local/lib/python3.11/dist-packages (from gradio) (0.1.2)\n",
            "Requirement already satisfied: httpx<1.0,>=0.24.1 in /usr/local/lib/python3.11/dist-packages (from gradio) (0.28.1)\n",
            "Requirement already satisfied: huggingface-hub>=0.28.1 in /usr/local/lib/python3.11/dist-packages (from gradio) (0.34.1)\n",
            "Requirement already satisfied: jinja2<4.0 in /usr/local/lib/python3.11/dist-packages (from gradio) (3.1.6)\n",
            "Requirement already satisfied: markupsafe<4.0,>=2.0 in /usr/local/lib/python3.11/dist-packages (from gradio) (3.0.2)\n",
            "Requirement already satisfied: orjson~=3.0 in /usr/local/lib/python3.11/dist-packages (from gradio) (3.11.1)\n",
            "Requirement already satisfied: packaging in /usr/local/lib/python3.11/dist-packages (from gradio) (25.0)\n",
            "Requirement already satisfied: pillow<12.0,>=8.0 in /usr/local/lib/python3.11/dist-packages (from gradio) (11.3.0)\n",
            "Requirement already satisfied: pydantic<2.12,>=2.0 in /usr/local/lib/python3.11/dist-packages (from gradio) (2.11.7)\n",
            "Requirement already satisfied: pydub in /usr/local/lib/python3.11/dist-packages (from gradio) (0.25.1)\n",
            "Requirement already satisfied: python-multipart>=0.0.18 in /usr/local/lib/python3.11/dist-packages (from gradio) (0.0.20)\n",
            "Requirement already satisfied: pyyaml<7.0,>=5.0 in /usr/local/lib/python3.11/dist-packages (from gradio) (6.0.2)\n",
            "Requirement already satisfied: ruff>=0.9.3 in /usr/local/lib/python3.11/dist-packages (from gradio) (0.12.5)\n",
            "Requirement already satisfied: safehttpx<0.2.0,>=0.1.6 in /usr/local/lib/python3.11/dist-packages (from gradio) (0.1.6)\n",
            "Requirement already satisfied: semantic-version~=2.0 in /usr/local/lib/python3.11/dist-packages (from gradio) (2.10.0)\n",
            "Requirement already satisfied: starlette<1.0,>=0.40.0 in /usr/local/lib/python3.11/dist-packages (from gradio) (0.47.2)\n",
            "Requirement already satisfied: tomlkit<0.14.0,>=0.12.0 in /usr/local/lib/python3.11/dist-packages (from gradio) (0.13.3)\n",
            "Requirement already satisfied: typer<1.0,>=0.12 in /usr/local/lib/python3.11/dist-packages (from gradio) (0.16.0)\n",
            "Requirement already satisfied: typing-extensions~=4.0 in /usr/local/lib/python3.11/dist-packages (from gradio) (4.14.1)\n",
            "Requirement already satisfied: uvicorn>=0.14.0 in /usr/local/lib/python3.11/dist-packages (from gradio) (0.35.0)\n",
            "Requirement already satisfied: fsspec in /usr/local/lib/python3.11/dist-packages (from gradio-client==1.11.0->gradio) (2025.3.0)\n",
            "Requirement already satisfied: websockets<16.0,>=10.0 in /usr/local/lib/python3.11/dist-packages (from gradio-client==1.11.0->gradio) (15.0.1)\n",
            "Requirement already satisfied: python-dateutil>=2.8.2 in /usr/local/lib/python3.11/dist-packages (from pandas) (2.9.0.post0)\n",
            "Requirement already satisfied: pytz>=2020.1 in /usr/local/lib/python3.11/dist-packages (from pandas) (2025.2)\n",
            "Requirement already satisfied: tzdata>=2022.7 in /usr/local/lib/python3.11/dist-packages (from pandas) (2025.2)\n",
            "Requirement already satisfied: contourpy>=1.0.1 in /usr/local/lib/python3.11/dist-packages (from matplotlib) (1.3.2)\n",
            "Requirement already satisfied: cycler>=0.10 in /usr/local/lib/python3.11/dist-packages (from matplotlib) (0.12.1)\n",
            "Requirement already satisfied: fonttools>=4.22.0 in /usr/local/lib/python3.11/dist-packages (from matplotlib) (4.59.0)\n",
            "Requirement already satisfied: kiwisolver>=1.3.1 in /usr/local/lib/python3.11/dist-packages (from matplotlib) (1.4.8)\n",
            "Requirement already satisfied: pyparsing>=2.3.1 in /usr/local/lib/python3.11/dist-packages (from matplotlib) (3.2.3)\n",
            "Requirement already satisfied: idna>=2.8 in /usr/local/lib/python3.11/dist-packages (from anyio<5.0,>=3.0->gradio) (3.10)\n",
            "Requirement already satisfied: sniffio>=1.1 in /usr/local/lib/python3.11/dist-packages (from anyio<5.0,>=3.0->gradio) (1.3.1)\n",
            "Requirement already satisfied: certifi in /usr/local/lib/python3.11/dist-packages (from httpx<1.0,>=0.24.1->gradio) (2025.7.14)\n",
            "Requirement already satisfied: httpcore==1.* in /usr/local/lib/python3.11/dist-packages (from httpx<1.0,>=0.24.1->gradio) (1.0.9)\n",
            "Requirement already satisfied: h11>=0.16 in /usr/local/lib/python3.11/dist-packages (from httpcore==1.*->httpx<1.0,>=0.24.1->gradio) (0.16.0)\n",
            "Requirement already satisfied: filelock in /usr/local/lib/python3.11/dist-packages (from huggingface-hub>=0.28.1->gradio) (3.18.0)\n",
            "Requirement already satisfied: requests in /usr/local/lib/python3.11/dist-packages (from huggingface-hub>=0.28.1->gradio) (2.32.3)\n",
            "Requirement already satisfied: tqdm>=4.42.1 in /usr/local/lib/python3.11/dist-packages (from huggingface-hub>=0.28.1->gradio) (4.67.1)\n",
            "Requirement already satisfied: hf-xet<2.0.0,>=1.1.3 in /usr/local/lib/python3.11/dist-packages (from huggingface-hub>=0.28.1->gradio) (1.1.5)\n",
            "Requirement already satisfied: annotated-types>=0.6.0 in /usr/local/lib/python3.11/dist-packages (from pydantic<2.12,>=2.0->gradio) (0.7.0)\n",
            "Requirement already satisfied: pydantic-core==2.33.2 in /usr/local/lib/python3.11/dist-packages (from pydantic<2.12,>=2.0->gradio) (2.33.2)\n",
            "Requirement already satisfied: typing-inspection>=0.4.0 in /usr/local/lib/python3.11/dist-packages (from pydantic<2.12,>=2.0->gradio) (0.4.1)\n",
            "Requirement already satisfied: six>=1.5 in /usr/local/lib/python3.11/dist-packages (from python-dateutil>=2.8.2->pandas) (1.17.0)\n",
            "Requirement already satisfied: click>=8.0.0 in /usr/local/lib/python3.11/dist-packages (from typer<1.0,>=0.12->gradio) (8.2.1)\n",
            "Requirement already satisfied: shellingham>=1.3.0 in /usr/local/lib/python3.11/dist-packages (from typer<1.0,>=0.12->gradio) (1.5.4)\n",
            "Requirement already satisfied: rich>=10.11.0 in /usr/local/lib/python3.11/dist-packages (from typer<1.0,>=0.12->gradio) (13.9.4)\n",
            "Requirement already satisfied: markdown-it-py>=2.2.0 in /usr/local/lib/python3.11/dist-packages (from rich>=10.11.0->typer<1.0,>=0.12->gradio) (3.0.0)\n",
            "Requirement already satisfied: pygments<3.0.0,>=2.13.0 in /usr/local/lib/python3.11/dist-packages (from rich>=10.11.0->typer<1.0,>=0.12->gradio) (2.19.2)\n",
            "Requirement already satisfied: charset-normalizer<4,>=2 in /usr/local/lib/python3.11/dist-packages (from requests->huggingface-hub>=0.28.1->gradio) (3.4.2)\n",
            "Requirement already satisfied: urllib3<3,>=1.21.1 in /usr/local/lib/python3.11/dist-packages (from requests->huggingface-hub>=0.28.1->gradio) (2.5.0)\n",
            "Requirement already satisfied: mdurl~=0.1 in /usr/local/lib/python3.11/dist-packages (from markdown-it-py>=2.2.0->rich>=10.11.0->typer<1.0,>=0.12->gradio) (0.1.2)\n"
          ]
        }
      ],
      "source": [
        "pip install gradio pandas numpy matplotlib seaborn scipy\n"
      ]
    },
    {
      "cell_type": "code",
      "execution_count": 24,
      "metadata": {
        "colab": {
          "base_uri": "https://localhost:8080/",
          "height": 650
        },
        "id": "TgIMx_kdbqh7",
        "outputId": "780c1a40-ce81-4a4c-d9d0-aac1c0722176"
      },
      "outputs": [
        {
          "name": "stdout",
          "output_type": "stream",
          "text": [
            "It looks like you are running Gradio on a hosted Jupyter notebook, which requires `share=True`. Automatically setting `share=True` (you can turn this off by setting `share=False` in `launch()` explicitly).\n",
            "\n",
            "Colab notebook detected. To show errors in colab notebook, set debug=True in launch()\n",
            "* Running on public URL: https://481b5b8836f0655665.gradio.live\n",
            "\n",
            "This share link expires in 1 week. For free permanent hosting and GPU upgrades, run `gradio deploy` from the terminal in the working directory to deploy to Hugging Face Spaces (https://huggingface.co/spaces)\n"
          ]
        },
        {
          "data": {
            "text/html": [
              "<div><iframe src=\"https://481b5b8836f0655665.gradio.live\" width=\"100%\" height=\"500\" allow=\"autoplay; camera; microphone; clipboard-read; clipboard-write;\" frameborder=\"0\" allowfullscreen></iframe></div>"
            ],
            "text/plain": [
              "<IPython.core.display.HTML object>"
            ]
          },
          "metadata": {},
          "output_type": "display_data"
        },
        {
          "data": {
            "text/plain": []
          },
          "execution_count": 24,
          "metadata": {},
          "output_type": "execute_result"
        }
      ],
      "source": [
        "import gradio as gr\n",
        "import pandas as pd\n",
        "import numpy as np\n",
        "import matplotlib.pyplot as plt\n",
        "import seaborn as sns\n",
        "from scipy import stats\n",
        "\n",
        "# Generate synthetic sales data\n",
        "def generate_data():\n",
        "    np.random.seed(42)\n",
        "    data = {\n",
        "        'product_id': range(1, 21),\n",
        "        'product_name': [f'Product {i}' for i in range(1, 21)],\n",
        "        'category': np.random.choice(['Electronics', 'Clothing', 'Home', 'Sports'], 20),\n",
        "        'units_sold': np.random.poisson(lam=20, size=20),\n",
        "        'sale_date': pd.date_range(start='2023-01-01', periods=20, freq='D')\n",
        "    }\n",
        "    return pd.DataFrame(data)\n",
        "\n",
        "sales_data = generate_data()\n",
        "\n",
        "# Analysis and Visualizations\n",
        "def analyze_data():\n",
        "    # Descriptive Stats\n",
        "    descriptive_stats = sales_data['units_sold'].describe().round(2).to_frame().reset_index()\n",
        "    mean_sales = sales_data['units_sold'].mean()\n",
        "    median_sales = sales_data['units_sold'].median()\n",
        "    mode_sales = sales_data['units_sold'].mode()[0]\n",
        "\n",
        "    # Category-wise stats\n",
        "    category_stats = sales_data.groupby('category')['units_sold'].agg(['sum', 'mean', 'std']).reset_index()\n",
        "    category_stats.columns = ['Category', 'Total Units Sold', 'Average Units Sold', 'Std Dev of Units Sold']\n",
        "\n",
        "    # Confidence Interval\n",
        "    confidence_level = 0.95\n",
        "    df = len(sales_data['units_sold']) - 1\n",
        "    sample_se = sales_data['units_sold'].std() / np.sqrt(len(sales_data['units_sold']))\n",
        "    t_score = stats.t.ppf((1 + confidence_level) / 2, df)\n",
        "    margin_error = t_score * sample_se\n",
        "    ci = (mean_sales - margin_error, mean_sales + margin_error)\n",
        "\n",
        "    # Hypothesis Testing\n",
        "    t_stat, p_val = stats.ttest_1samp(sales_data['units_sold'], 20)\n",
        "    hypothesis_result = (\n",
        "        \"Reject the null hypothesis (Significant difference from 20)\"\n",
        "        if p_val < 0.05 else\n",
        "        \"Fail to reject the null hypothesis (No significant difference from 20)\"\n",
        "    )\n",
        "\n",
        "    return descriptive_stats, category_stats, f\"Mean: {mean_sales:.2f}, Median: {median_sales:.2f}, Mode: {mode_sales}\", f\"{ci}\", f\"T-stat: {t_stat:.3f}, P-value: {p_val:.3f}\", hypothesis_result\n",
        "\n",
        "# Histogram plot\n",
        "def plot_histogram():\n",
        "    fig, ax = plt.subplots(figsize=(8, 5))\n",
        "    mean = sales_data['units_sold'].mean()\n",
        "    median = sales_data['units_sold'].median()\n",
        "    mode = sales_data['units_sold'].mode()[0]\n",
        "\n",
        "    sns.histplot(sales_data['units_sold'], bins=10, kde=True, ax=ax)\n",
        "    ax.axvline(mean, color='red', linestyle='--', label='Mean')\n",
        "    ax.axvline(median, color='blue', linestyle='--', label='Median')\n",
        "    ax.axvline(mode, color='green', linestyle='--', label='Mode')\n",
        "    ax.set_title(\"Distribution of Units Sold\")\n",
        "    ax.set_xlabel(\"Units Sold\")\n",
        "    ax.set_ylabel(\"Frequency\")\n",
        "    ax.legend()\n",
        "    return fig\n",
        "\n",
        "# Boxplot\n",
        "def plot_boxplot():\n",
        "    fig, ax = plt.subplots(figsize=(8, 5))\n",
        "    sns.boxplot(x='category', y='units_sold', data=sales_data, ax=ax)\n",
        "    ax.set_title(\"Boxplot of Units Sold by Category\")\n",
        "    ax.set_xlabel(\"Category\")\n",
        "    ax.set_ylabel(\"Units Sold\")\n",
        "    return fig\n",
        "\n",
        "# Barplot\n",
        "def plot_barplot():\n",
        "    fig, ax = plt.subplots(figsize=(8, 5))\n",
        "    category_stats = sales_data.groupby('category')['units_sold'].sum().reset_index()\n",
        "    category_stats.columns = ['Category', 'Total Units Sold']\n",
        "    sns.barplot(x='Category', y='Total Units Sold', data=category_stats, ax=ax)\n",
        "    ax.set_title(\"Total Units Sold by Category\")\n",
        "    ax.set_xlabel(\"Category\")\n",
        "    ax.set_ylabel(\"Units Sold\")\n",
        "    return fig\n",
        "\n",
        "# Gradio UI\n",
        "with gr.Blocks(theme=gr.themes.Soft()) as demo:\n",
        "    gr.Markdown(\"# 📊 Sales Data Analysis Dashboard\")\n",
        "    gr.Markdown(\"Analyze synthetic retail sales data with descriptive and inferential statistics + plots\")\n",
        "\n",
        "    with gr.Tab(\"📈 Data & Stats\"):\n",
        "        btn = gr.Button(\"Run Analysis\")\n",
        "        desc_table = gr.Dataframe()\n",
        "        cat_table = gr.Dataframe()\n",
        "        basic_stats = gr.Textbox(label=\"Mean, Median, Mode\")\n",
        "        ci_text = gr.Textbox(label=\"95% Confidence Interval\")\n",
        "        hypo_text = gr.Textbox(label=\"T-Test Results\")\n",
        "        hypo_decision = gr.Textbox(label=\"Decision\")\n",
        "\n",
        "        btn.click(analyze_data, outputs=[desc_table, cat_table, basic_stats, ci_text, hypo_text, hypo_decision])\n",
        "\n",
        "    with gr.Tab(\"📊 Histogram\"):\n",
        "        gr.Plot(plot_histogram)\n",
        "\n",
        "    with gr.Tab(\"🧊 Boxplot\"):\n",
        "        gr.Plot(plot_boxplot)\n",
        "sssssss\n",
        "    with gr.Tab(\"📦 Category-wise Sales\"):\n",
        "        gr.Plot(plot_barplot)\n",
        "\n",
        "demo.launch()\n"
      ]
    },
    {
      "cell_type": "code",
      "execution_count": null,
      "metadata": {
        "id": "g5wijY_IbqmJ"
      },
      "outputs": [],
      "source": []
    }
  ],
  "metadata": {
    "accelerator": "GPU",
    "colab": {
      "gpuType": "T4",
      "provenance": []
    },
    "kernelspec": {
      "display_name": "Python 3",
      "name": "python3"
    },
    "language_info": {
      "codemirror_mode": {
        "name": "ipython",
        "version": 3
      },
      "file_extension": ".py",
      "mimetype": "text/x-python",
      "name": "python",
      "nbconvert_exporter": "python",
      "pygments_lexer": "ipython3",
      "version": "3.13.3"
    }
  },
  "nbformat": 4,
  "nbformat_minor": 0
}
