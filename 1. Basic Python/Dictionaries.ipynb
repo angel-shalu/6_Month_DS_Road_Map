{
 "cells": [
  {
   "cell_type": "markdown",
   "id": "d902252b-9d3f-405c-b289-bef066070a85",
   "metadata": {},
   "source": [
    "# Python Basics: Dictionaries"
   ]
  },
  {
   "cell_type": "markdown",
   "id": "f02a36e0-c0d4-43eb-ba89-3c277560f25e",
   "metadata": {},
   "source": [
    "Today I explored **dictionaries** in Python — one of the most powerful built-in data structures. A dictionary is a collection of **key-value pairs**, enclosed in **curly braces `{}`** and separated by a **colon `:`**.\n",
    "\n",
    "#### Key Properties of Dictionaries:\n",
    "\n",
    "* Dictionaries are **mutable** (we can add, update, or remove items).\n",
    "* Keys must be **unique** and **immutable** (like strings, numbers, or tuples).\n",
    "* Values can be **any data type**, including lists, tuples, or even other dictionaries.\n",
    "\n",
    "---\n",
    "\n",
    "#### 📘 Topics Covered:\n",
    "\n",
    "* Creating dictionaries using `{}` or `dict()`\n",
    "* Using **integer**, **string**, and **mixed-type** keys\n",
    "* Accessing values using `[]` or `.get()`\n",
    "* Working with nested data (lists, tuples, and dictionaries as values)\n",
    "* Creating dictionaries from a sequence of keys using `fromkeys()`\n",
    "* Updating, adding, and removing items using:\n",
    "\n",
    "  * `update()`, `pop()`, `popitem()`, `del`, and `clear()`\n",
    "* Copying dictionaries using `copy()`\n",
    "* Looping through keys and values using `for` loop\n",
    "* Checking membership using `in`\n",
    "* Using built-in functions: `all()`, `any()`, `len()`, `id()`\n",
    "\n",
    "---\n",
    "\n",
    "####  Real-life Example:\n",
    "\n",
    "Dictionaries are often used to store structured data like:\n",
    "\n",
    "```python\n",
    "employee = {\n",
    "  'Name': 'Shalu',\n",
    "  'ID': 2207,\n",
    "  'DOB': 2004,\n",
    "}\n",
    "```\n",
    "\n",
    "You can nest lists or even other dictionaries as values, and update or access any part easily."
   ]
  },
  {
   "cell_type": "markdown",
   "id": "ebe06ef1-e4e6-47a7-9b0f-c5ee3d6beccc",
   "metadata": {},
   "source": [
    "# Create Dictionary "
   ]
  },
  {
   "cell_type": "code",
   "execution_count": 1,
   "id": "f177326c-e219-4b1d-9419-808a8254a01c",
   "metadata": {},
   "outputs": [
    {
     "data": {
      "text/plain": [
       "{}"
      ]
     },
     "execution_count": 1,
     "metadata": {},
     "output_type": "execute_result"
    }
   ],
   "source": [
    "mydict = dict() # empty dictionary \n",
    "mydict "
   ]
  },
  {
   "cell_type": "code",
   "execution_count": 2,
   "id": "4179425a-465d-4f54-b39d-38afbc4c3df1",
   "metadata": {},
   "outputs": [
    {
     "data": {
      "text/plain": [
       "{}"
      ]
     },
     "execution_count": 2,
     "metadata": {},
     "output_type": "execute_result"
    }
   ],
   "source": [
    "mydict = {} # empty dictionary \n",
    "mydict "
   ]
  },
  {
   "cell_type": "code",
   "execution_count": 3,
   "id": "12dd2e0d-ea1c-4a8c-87e2-91bf955b9d03",
   "metadata": {},
   "outputs": [
    {
     "data": {
      "text/plain": [
       "{1: 'one', 2: 'two', 3: 'three'}"
      ]
     },
     "execution_count": 3,
     "metadata": {},
     "output_type": "execute_result"
    }
   ],
   "source": [
    "mydict = {1:'one' , 2:'two' , 3:'three'} # dictionary with integer keys \n",
    "mydict "
   ]
  },
  {
   "cell_type": "code",
   "execution_count": 4,
   "id": "d1925617-1c1e-4480-99a6-f453ff3b88df",
   "metadata": {},
   "outputs": [
    {
     "data": {
      "text/plain": [
       "{1: 'one', 2: 'two', 3: 'three'}"
      ]
     },
     "execution_count": 4,
     "metadata": {},
     "output_type": "execute_result"
    }
   ],
   "source": [
    "mydict = dict({1:'one' , 2:'two' , 3:'three'}) # Create dictionary using dict() \n",
    "mydict "
   ]
  },
  {
   "cell_type": "code",
   "execution_count": 5,
   "id": "2045d3bc-7b58-45cb-890a-57aae685b69c",
   "metadata": {},
   "outputs": [
    {
     "data": {
      "text/plain": [
       "{'A': 'one', 'B': 'two', 'C': 'three'}"
      ]
     },
     "execution_count": 5,
     "metadata": {},
     "output_type": "execute_result"
    }
   ],
   "source": [
    "mydict = {'A':'one' , 'B':'two' , 'C':'three'} # dictionary with character keys \n",
    "mydict "
   ]
  },
  {
   "cell_type": "code",
   "execution_count": 6,
   "id": "ac555482-c849-4180-92ea-d886fde444c1",
   "metadata": {},
   "outputs": [
    {
     "data": {
      "text/plain": [
       "{1: 'one', 'A': 'two', 3: 'three'}"
      ]
     },
     "execution_count": 6,
     "metadata": {},
     "output_type": "execute_result"
    }
   ],
   "source": [
    "mydict = {1:'one' , 'A':'two' , 3:'three'} # dictionary with mixed keys \n",
    "mydict"
   ]
  },
  {
   "cell_type": "code",
   "execution_count": 7,
   "id": "3c0dbe8e-89cd-46ad-b442-14d07469fb20",
   "metadata": {},
   "outputs": [
    {
     "data": {
      "text/plain": [
       "dict_keys([1, 'A', 3])"
      ]
     },
     "execution_count": 7,
     "metadata": {},
     "output_type": "execute_result"
    }
   ],
   "source": [
    "mydict.keys() # Return Dictionary Keys using keys() method "
   ]
  },
  {
   "cell_type": "code",
   "execution_count": 8,
   "id": "f0f8af3a-cbaa-4f90-ba63-8ad0af9a6de8",
   "metadata": {},
   "outputs": [
    {
     "data": {
      "text/plain": [
       "dict_values(['one', 'two', 'three'])"
      ]
     },
     "execution_count": 8,
     "metadata": {},
     "output_type": "execute_result"
    }
   ],
   "source": [
    "mydict.values() # Return Dictionary Values using values() method "
   ]
  },
  {
   "cell_type": "code",
   "execution_count": 9,
   "id": "c6e16fd1-ba71-4b8c-8353-8a4ff6487e5a",
   "metadata": {},
   "outputs": [
    {
     "data": {
      "text/plain": [
       "dict_items([(1, 'one'), ('A', 'two'), (3, 'three')])"
      ]
     },
     "execution_count": 9,
     "metadata": {},
     "output_type": "execute_result"
    }
   ],
   "source": [
    "mydict.items() # Access each key-value pair within a dictionary "
   ]
  },
  {
   "cell_type": "code",
   "execution_count": 10,
   "id": "ad2c0283-d5f3-44b4-ab01-cd0854f8f4d9",
   "metadata": {},
   "outputs": [
    {
     "data": {
      "text/plain": [
       "{1: 'one', 2: 'two', 'A': ['asif', 'john', 'Maria']}"
      ]
     },
     "execution_count": 10,
     "metadata": {},
     "output_type": "execute_result"
    }
   ],
   "source": [
    "mydict = {1:'one' , 2:'two' , 'A':['asif' , 'john' , 'Maria']} # dictionary with \n",
    "mydict "
   ]
  },
  {
   "cell_type": "code",
   "execution_count": 12,
   "id": "f70090d4-8140-4034-97da-e1ffb47924de",
   "metadata": {},
   "outputs": [
    {
     "data": {
      "text/plain": [
       "{1: 'one',\n",
       " 2: 'two',\n",
       " 'A': ['asif', 'john', 'Maria'],\n",
       " 'B': ('Bat', 'cat', 'hat')}"
      ]
     },
     "execution_count": 12,
     "metadata": {},
     "output_type": "execute_result"
    }
   ],
   "source": [
    "mydict = {1:'one' , 2:'two' , 'A':['asif' , 'john' , 'Maria'], 'B':('Bat' , 'cat', 'hat')} \n",
    "mydict "
   ]
  },
  {
   "cell_type": "code",
   "execution_count": 1,
   "id": "6f36d181-0b13-4b94-ae96-fd98e5f63df1",
   "metadata": {},
   "outputs": [
    {
     "data": {
      "text/plain": [
       "{1: 'one',\n",
       " 2: 'two',\n",
       " 'A': {'Name': 'Angel', 'Age': 20},\n",
       " 'B': ('Bat', 'cat', 'hat')}"
      ]
     },
     "execution_count": 1,
     "metadata": {},
     "output_type": "execute_result"
    }
   ],
   "source": [
    "mydict = {1:'one' , 2:'two' , 'A':{'Name':'Angel' , 'Age' :20}, 'B':('Bat' , 'cat', 'hat')} \n",
    "mydict "
   ]
  },
  {
   "cell_type": "code",
   "execution_count": 14,
   "id": "f6189324-f39b-492f-b974-17627d7bb256",
   "metadata": {},
   "outputs": [
    {
     "data": {
      "text/plain": [
       "{'c': None, 'd': None, 'a': None, 'b': None}"
      ]
     },
     "execution_count": 14,
     "metadata": {},
     "output_type": "execute_result"
    }
   ],
   "source": [
    "keys = {'a' , 'b' , 'c' , 'd'} \n",
    "mydict3 = dict.fromkeys(keys) # Create a dictionary from a sequence of keys \n",
    "mydict3 "
   ]
  },
  {
   "cell_type": "code",
   "execution_count": 15,
   "id": "13a30aef-f46a-4276-8bb9-89f9bbd7a7fa",
   "metadata": {},
   "outputs": [
    {
     "data": {
      "text/plain": [
       "{'c': 10, 'd': 10, 'a': 10, 'b': 10}"
      ]
     },
     "execution_count": 15,
     "metadata": {},
     "output_type": "execute_result"
    }
   ],
   "source": [
    "keys = {'a' , 'b' , 'c' , 'd'} \n",
    "value = 10 \n",
    "mydict3 = dict.fromkeys(keys , value) # Create a dictionary from a sequence of \n",
    "mydict3 "
   ]
  },
  {
   "cell_type": "code",
   "execution_count": 16,
   "id": "0bc0bf8d-ffad-4384-925c-2867f09f8ef2",
   "metadata": {},
   "outputs": [
    {
     "data": {
      "text/plain": [
       "{'c': [10, 20, 30], 'd': [10, 20, 30], 'a': [10, 20, 30], 'b': [10, 20, 30]}"
      ]
     },
     "execution_count": 16,
     "metadata": {},
     "output_type": "execute_result"
    }
   ],
   "source": [
    "keys = {'a' , 'b' , 'c' , 'd'} \n",
    "value = [10,20,30] \n",
    "mydict3 = dict.fromkeys(keys , value) # Create a dictionary from a sequence of \n",
    "mydict3 "
   ]
  },
  {
   "cell_type": "code",
   "execution_count": 17,
   "id": "1ebff66b-07b0-41f0-89d6-3e4351f4eb22",
   "metadata": {},
   "outputs": [
    {
     "data": {
      "text/plain": [
       "{'c': [10, 20, 30, 40],\n",
       " 'd': [10, 20, 30, 40],\n",
       " 'a': [10, 20, 30, 40],\n",
       " 'b': [10, 20, 30, 40]}"
      ]
     },
     "execution_count": 17,
     "metadata": {},
     "output_type": "execute_result"
    }
   ],
   "source": [
    "value.append(40) \n",
    "mydict3 "
   ]
  },
  {
   "cell_type": "markdown",
   "id": "0813bc76-5fd5-4fb2-8db9-10c6db8123c8",
   "metadata": {},
   "source": [
    "# Accessing Items "
   ]
  },
  {
   "cell_type": "code",
   "execution_count": 43,
   "id": "5e546954-3b0b-4617-8d09-3093f3c92d29",
   "metadata": {},
   "outputs": [
    {
     "data": {
      "text/plain": [
       "{1: 'one', 2: 'two', 3: 'three', 4: 'four'}"
      ]
     },
     "execution_count": 43,
     "metadata": {},
     "output_type": "execute_result"
    }
   ],
   "source": [
    "mydict = {1:'one' , 2:'two' , 3:'three' , 4:'four'} \n",
    "mydict "
   ]
  },
  {
   "cell_type": "code",
   "execution_count": 44,
   "id": "c79f8721-6e12-4e81-9b75-31bc9a51394f",
   "metadata": {},
   "outputs": [
    {
     "data": {
      "text/plain": [
       "'one'"
      ]
     },
     "execution_count": 44,
     "metadata": {},
     "output_type": "execute_result"
    }
   ],
   "source": [
    "mydict[1] # Access item using key "
   ]
  },
  {
   "cell_type": "code",
   "execution_count": 45,
   "id": "2b176e52-19ef-4365-bf66-327ea1a446fc",
   "metadata": {},
   "outputs": [
    {
     "data": {
      "text/plain": [
       "'one'"
      ]
     },
     "execution_count": 45,
     "metadata": {},
     "output_type": "execute_result"
    }
   ],
   "source": [
    "mydict.get(1) # Access item using get() method "
   ]
  },
  {
   "cell_type": "code",
   "execution_count": 46,
   "id": "f5e8306f-930a-4ceb-8e3a-7df8bc27df4f",
   "metadata": {},
   "outputs": [
    {
     "data": {
      "text/plain": [
       "{'Name': 'Alok', 'ID': 743, 'DOB': 2006, 'job': 'study'}"
      ]
     },
     "execution_count": 46,
     "metadata": {},
     "output_type": "execute_result"
    }
   ],
   "source": [
    "mydict1 = {'Name':'Alok' , 'ID': 743 , 'DOB': 2006 , 'job' :'study'} \n",
    "mydict1 "
   ]
  },
  {
   "cell_type": "code",
   "execution_count": 47,
   "id": "4bace18a-ab3f-44f5-bd23-34010814a388",
   "metadata": {},
   "outputs": [
    {
     "data": {
      "text/plain": [
       "'Alok'"
      ]
     },
     "execution_count": 47,
     "metadata": {},
     "output_type": "execute_result"
    }
   ],
   "source": [
    "mydict1['Name'] # Access item using key "
   ]
  },
  {
   "cell_type": "code",
   "execution_count": 48,
   "id": "18e60315-44d9-4fa8-a51b-131f11230ec9",
   "metadata": {},
   "outputs": [
    {
     "data": {
      "text/plain": [
       "'study'"
      ]
     },
     "execution_count": 48,
     "metadata": {},
     "output_type": "execute_result"
    }
   ],
   "source": [
    "mydict1.get('job') # Access item using get() method "
   ]
  },
  {
   "cell_type": "markdown",
   "id": "e38c85c0-f437-42eb-bf93-8db1d40a9448",
   "metadata": {},
   "source": [
    "# Add, Remove & Change Items "
   ]
  },
  {
   "cell_type": "code",
   "execution_count": 2,
   "id": "cd4dab5e-98b2-4bca-92e1-01045a42c2b5",
   "metadata": {},
   "outputs": [
    {
     "data": {
      "text/plain": [
       "{'Name': 'Shalu', 'ID': 2207, 'DOB': 2004, 'Address': 'Bihar'}"
      ]
     },
     "execution_count": 2,
     "metadata": {},
     "output_type": "execute_result"
    }
   ],
   "source": [
    "mydict1 = {'Name':'Shalu' , 'ID': 2207 , 'DOB': 2004 , 'Address' : 'Bihar'} \n",
    "mydict1 "
   ]
  },
  {
   "cell_type": "code",
   "execution_count": 3,
   "id": "7fdfcdca-bc7b-473e-8e5e-3fbcd81575f3",
   "metadata": {},
   "outputs": [
    {
     "data": {
      "text/plain": [
       "{'Name': 'Shalu', 'ID': 2207, 'DOB': 2001, 'Address': 'Patna'}"
      ]
     },
     "execution_count": 3,
     "metadata": {},
     "output_type": "execute_result"
    }
   ],
   "source": [
    "mydict1['DOB'] = 2001 # Changing Dictionary Items \n",
    "mydict1['Address'] = 'Patna' \n",
    "mydict1 "
   ]
  },
  {
   "cell_type": "code",
   "execution_count": 4,
   "id": "a1d6a267-9469-4936-b206-215ca7c12b8e",
   "metadata": {},
   "outputs": [
    {
     "data": {
      "text/plain": [
       "{'Name': 'Shalu', 'ID': 2207, 'DOB': 1995, 'Address': 'Patna'}"
      ]
     },
     "execution_count": 4,
     "metadata": {},
     "output_type": "execute_result"
    }
   ],
   "source": [
    "dict1 = {'DOB':1995} \n",
    "mydict1.update(dict1) \n",
    "mydict1 "
   ]
  },
  {
   "cell_type": "code",
   "execution_count": 5,
   "id": "219c947f-25d6-4e62-92cc-61efc274e961",
   "metadata": {},
   "outputs": [
    {
     "data": {
      "text/plain": [
       "{'Name': 'Shalu', 'ID': 2207, 'DOB': 1995, 'Address': 'Patna', 'Job': 'No'}"
      ]
     },
     "execution_count": 5,
     "metadata": {},
     "output_type": "execute_result"
    }
   ],
   "source": [
    "mydict1['Job'] = 'No' # Adding items in the dictionary \n",
    "mydict1 "
   ]
  },
  {
   "cell_type": "code",
   "execution_count": 6,
   "id": "32b2a0f5-07e8-4fa7-aef1-0d8f1ea37b99",
   "metadata": {},
   "outputs": [
    {
     "data": {
      "text/plain": [
       "{'Name': 'Shalu', 'ID': 2207, 'DOB': 1995, 'Address': 'Patna'}"
      ]
     },
     "execution_count": 6,
     "metadata": {},
     "output_type": "execute_result"
    }
   ],
   "source": [
    "mydict1.pop('Job') # Removing items in the dictionary using Pop method \n",
    "mydict1 "
   ]
  },
  {
   "cell_type": "code",
   "execution_count": 7,
   "id": "5c2e86b4-8b1e-4072-a6f8-2b76aa22b3c4",
   "metadata": {},
   "outputs": [
    {
     "data": {
      "text/plain": [
       "('Address', 'Patna')"
      ]
     },
     "execution_count": 7,
     "metadata": {},
     "output_type": "execute_result"
    }
   ],
   "source": [
    "mydict1.popitem() # A random item is removed "
   ]
  },
  {
   "cell_type": "code",
   "execution_count": 8,
   "id": "a54e7bb6-83e1-4311-84ef-13f2463187f3",
   "metadata": {},
   "outputs": [
    {
     "data": {
      "text/plain": [
       "{'Name': 'Shalu', 'ID': 2207, 'DOB': 1995}"
      ]
     },
     "execution_count": 8,
     "metadata": {},
     "output_type": "execute_result"
    }
   ],
   "source": [
    "mydict1 "
   ]
  },
  {
   "cell_type": "code",
   "execution_count": 9,
   "id": "a8097458-faaf-4647-8b67-32928e138bbe",
   "metadata": {},
   "outputs": [
    {
     "data": {
      "text/plain": [
       "{'Name': 'Shalu', 'DOB': 1995}"
      ]
     },
     "execution_count": 9,
     "metadata": {},
     "output_type": "execute_result"
    }
   ],
   "source": [
    "del[mydict1['ID']] # Removing item using del method \n",
    "mydict1 "
   ]
  },
  {
   "cell_type": "code",
   "execution_count": 10,
   "id": "cbd50fc5-45fa-4df8-a9fa-15c59c1d7f14",
   "metadata": {},
   "outputs": [
    {
     "data": {
      "text/plain": [
       "{}"
      ]
     },
     "execution_count": 10,
     "metadata": {},
     "output_type": "execute_result"
    }
   ],
   "source": [
    "mydict1.clear() # Delete all items of the dictionary using clear method \n",
    "mydict1 "
   ]
  },
  {
   "cell_type": "code",
   "execution_count": 11,
   "id": "b34df8dd-ecac-4949-baad-3d2c32561936",
   "metadata": {},
   "outputs": [
    {
     "ename": "NameError",
     "evalue": "name 'mydict1' is not defined",
     "output_type": "error",
     "traceback": [
      "\u001b[31m---------------------------------------------------------------------------\u001b[39m",
      "\u001b[31mNameError\u001b[39m                                 Traceback (most recent call last)",
      "\u001b[36mCell\u001b[39m\u001b[36m \u001b[39m\u001b[32mIn[11]\u001b[39m\u001b[32m, line 2\u001b[39m\n\u001b[32m      1\u001b[39m \u001b[38;5;28;01mdel\u001b[39;00m mydict1 \u001b[38;5;66;03m# Delete the dictionary object \u001b[39;00m\n\u001b[32m----> \u001b[39m\u001b[32m2\u001b[39m \u001b[43mmydict1\u001b[49m \n",
      "\u001b[31mNameError\u001b[39m: name 'mydict1' is not defined"
     ]
    }
   ],
   "source": [
    "del mydict1 # Delete the dictionary object \n",
    "mydict1 "
   ]
  },
  {
   "cell_type": "markdown",
   "id": "6dfb5b14-433d-499b-9c85-6925d67bbd8a",
   "metadata": {},
   "source": [
    "# Copy Dictionary "
   ]
  },
  {
   "cell_type": "code",
   "execution_count": 14,
   "id": "a056c5a6-0f3e-47d2-b8c5-9b02f13af074",
   "metadata": {},
   "outputs": [
    {
     "data": {
      "text/plain": [
       "{'Name': 'Shalu', 'ID': 2207, 'DOB': 2004, 'Address': 'Bhopal'}"
      ]
     },
     "execution_count": 14,
     "metadata": {},
     "output_type": "execute_result"
    }
   ],
   "source": [
    "mydict = {'Name':'Shalu' , 'ID': 2207 , 'DOB': 2004 , 'Address' : 'Bhopal'} \n",
    "mydict "
   ]
  },
  {
   "cell_type": "code",
   "execution_count": 15,
   "id": "ace93c1b-d65d-4652-9910-36a76687d5b8",
   "metadata": {},
   "outputs": [],
   "source": [
    "mydict1 = mydict # Create a new reference \"mydict1\" "
   ]
  },
  {
   "cell_type": "code",
   "execution_count": 16,
   "id": "d9eaf33a-dcdb-47cd-977f-d81de59c17a1",
   "metadata": {},
   "outputs": [
    {
     "data": {
      "text/plain": [
       "(2751198996544, 2751198996544)"
      ]
     },
     "execution_count": 16,
     "metadata": {},
     "output_type": "execute_result"
    }
   ],
   "source": [
    "id(mydict) , id(mydict1) # The address of both mydict & mydict1 will be the same "
   ]
  },
  {
   "cell_type": "code",
   "execution_count": 17,
   "id": "f32dc95e-1b9b-4bb4-9ecc-8023d6a19178",
   "metadata": {},
   "outputs": [],
   "source": [
    "mydict2 = mydict.copy() # Create a copy of the dictionary "
   ]
  },
  {
   "cell_type": "code",
   "execution_count": 18,
   "id": "8a0d6d70-3eb1-472e-b60a-5c63631ee430",
   "metadata": {},
   "outputs": [
    {
     "data": {
      "text/plain": [
       "2751198812032"
      ]
     },
     "execution_count": 18,
     "metadata": {},
     "output_type": "execute_result"
    }
   ],
   "source": [
    "id(mydict2) # The address of mydict2 will be different from mydict because mydic"
   ]
  },
  {
   "cell_type": "code",
   "execution_count": 19,
   "id": "6401fdc8-8ba9-4b1a-9eb9-5f00200abff3",
   "metadata": {},
   "outputs": [],
   "source": [
    "mydict['Address'] = 'Mumbai' "
   ]
  },
  {
   "cell_type": "code",
   "execution_count": 20,
   "id": "b7148670-05d4-47fc-ab0d-26af719974c5",
   "metadata": {},
   "outputs": [
    {
     "data": {
      "text/plain": [
       "{'Name': 'Shalu', 'ID': 2207, 'DOB': 2004, 'Address': 'Mumbai'}"
      ]
     },
     "execution_count": 20,
     "metadata": {},
     "output_type": "execute_result"
    }
   ],
   "source": [
    "mydict "
   ]
  },
  {
   "cell_type": "code",
   "execution_count": 21,
   "id": "56c0d6de-8804-4c58-a25a-e9215d35d996",
   "metadata": {},
   "outputs": [
    {
     "data": {
      "text/plain": [
       "{'Name': 'Shalu', 'ID': 2207, 'DOB': 2004, 'Address': 'Mumbai'}"
      ]
     },
     "execution_count": 21,
     "metadata": {},
     "output_type": "execute_result"
    }
   ],
   "source": [
    "mydict1 # mydict1 will be also impacted as it is pointing to the same dictionary"
   ]
  },
  {
   "cell_type": "code",
   "execution_count": 22,
   "id": "4778a256-5d32-46bc-b882-42a8793e24fd",
   "metadata": {},
   "outputs": [
    {
     "data": {
      "text/plain": [
       "{'Name': 'Shalu', 'ID': 2207, 'DOB': 2004, 'Address': 'Bhopal'}"
      ]
     },
     "execution_count": 22,
     "metadata": {},
     "output_type": "execute_result"
    }
   ],
   "source": [
    "mydict2 # Copy of list won't be impacted due to the changes made in the original "
   ]
  },
  {
   "cell_type": "markdown",
   "id": "243231f6-d74e-49ab-af7e-88ad52a39137",
   "metadata": {},
   "source": [
    "# Loop through a Dictionary "
   ]
  },
  {
   "cell_type": "code",
   "execution_count": 24,
   "id": "fa25ad4e-f8c1-4f14-b15d-8fa0772e65c9",
   "metadata": {},
   "outputs": [
    {
     "data": {
      "text/plain": [
       "{'Name': 'Shalu', 'ID': 2207, 'DOB': 2004, 'Address': 'MP'}"
      ]
     },
     "execution_count": 24,
     "metadata": {},
     "output_type": "execute_result"
    }
   ],
   "source": [
    "mydict1 = {'Name':'Shalu' , 'ID': 2207 , 'DOB': 2004 , 'Address' : 'MP' }\n",
    "mydict1 "
   ]
  },
  {
   "cell_type": "code",
   "execution_count": 25,
   "id": "b0f3e61a-de4a-410b-9918-235593e21baa",
   "metadata": {},
   "outputs": [
    {
     "name": "stdout",
     "output_type": "stream",
     "text": [
      "Name : Shalu\n",
      "ID : 2207\n",
      "DOB : 2004\n",
      "Address : MP\n"
     ]
    }
   ],
   "source": [
    "for i in mydict1: \n",
    "    print(i , ':' , mydict1[i]) # Key & value pair "
   ]
  },
  {
   "cell_type": "code",
   "execution_count": 26,
   "id": "4d24451b-a13b-48ba-b1cd-04428d858e10",
   "metadata": {},
   "outputs": [
    {
     "name": "stdout",
     "output_type": "stream",
     "text": [
      "Shalu\n",
      "2207\n",
      "2004\n",
      "MP\n"
     ]
    }
   ],
   "source": [
    "for i in mydict1: \n",
    "    print(mydict1[i]) # Dictionary items "
   ]
  },
  {
   "cell_type": "markdown",
   "id": "0eb12b36-4e3c-4d67-a2fc-357807dbda35",
   "metadata": {},
   "source": [
    "# Dictionary Membership "
   ]
  },
  {
   "cell_type": "code",
   "execution_count": 29,
   "id": "29b1de93-92b8-455a-aa86-c7227416f527",
   "metadata": {},
   "outputs": [
    {
     "data": {
      "text/plain": [
       "{'Name': 'Shalu', 'ID': 2207, 'DOB': 2004, 'Address': 'MP'}"
      ]
     },
     "execution_count": 29,
     "metadata": {},
     "output_type": "execute_result"
    }
   ],
   "source": [
    "mydict1 = {'Name':'Shalu' , 'ID': 2207 , 'DOB': 2004 , 'Address' : 'MP' }\n",
    "mydict1 "
   ]
  },
  {
   "cell_type": "code",
   "execution_count": 30,
   "id": "f5cf7c2f-3cbc-4e0d-8f8a-058feeb7391f",
   "metadata": {},
   "outputs": [
    {
     "data": {
      "text/plain": [
       "True"
      ]
     },
     "execution_count": 30,
     "metadata": {},
     "output_type": "execute_result"
    }
   ],
   "source": [
    "'Name' in mydict1 # Test if a key is in a dictionary or not. "
   ]
  },
  {
   "cell_type": "code",
   "execution_count": 32,
   "id": "9a8a0f1e-c26d-44b2-bdb1-e7544cb8c479",
   "metadata": {},
   "outputs": [
    {
     "data": {
      "text/plain": [
       "False"
      ]
     },
     "execution_count": 32,
     "metadata": {},
     "output_type": "execute_result"
    }
   ],
   "source": [
    "'Shalu' in mydict1 # Membership test can be only done for keys. "
   ]
  },
  {
   "cell_type": "code",
   "execution_count": 34,
   "id": "8bd212af-3906-4798-9a2d-c4b6fd11079d",
   "metadata": {},
   "outputs": [
    {
     "data": {
      "text/plain": [
       "True"
      ]
     },
     "execution_count": 34,
     "metadata": {},
     "output_type": "execute_result"
    }
   ],
   "source": [
    "'ID' in mydict1 "
   ]
  },
  {
   "cell_type": "code",
   "execution_count": 35,
   "id": "37c16ea5-0c9b-4db5-bc36-e80ee5301f58",
   "metadata": {},
   "outputs": [
    {
     "data": {
      "text/plain": [
       "True"
      ]
     },
     "execution_count": 35,
     "metadata": {},
     "output_type": "execute_result"
    }
   ],
   "source": [
    "'Address' in mydict1 "
   ]
  },
  {
   "cell_type": "markdown",
   "id": "0f975949-5c88-4692-bc50-f362f52fee0c",
   "metadata": {},
   "source": [
    "# All / Any \n",
    "The all() method returns: \n",
    "### True - If all all keys of the dictionary are true \n",
    "### False - If any key of the dictionary is false \n",
    "The any() function returns True if any key of the dictionary is True. If not, any() returns False. "
   ]
  },
  {
   "cell_type": "code",
   "execution_count": 37,
   "id": "3c7cbbe0-983e-47c7-8d03-a3637598d483",
   "metadata": {},
   "outputs": [
    {
     "data": {
      "text/plain": [
       "{'Name': 'Shalu', 'ID': 2207, 'DOB': 2004, 'Address': 'MP'}"
      ]
     },
     "execution_count": 37,
     "metadata": {},
     "output_type": "execute_result"
    }
   ],
   "source": [
    "mydict1 = {'Name':'Shalu' , 'ID': 2207 , 'DOB': 2004 , 'Address' : 'MP' }\n",
    "mydict1 "
   ]
  },
  {
   "cell_type": "code",
   "execution_count": 39,
   "id": "f80ec8f0-f470-486b-a09a-88ece4237a10",
   "metadata": {},
   "outputs": [
    {
     "data": {
      "text/plain": [
       "True"
      ]
     },
     "execution_count": 39,
     "metadata": {},
     "output_type": "execute_result"
    }
   ],
   "source": [
    "all(mydict1) # Will Return false as one value is false (Value 0) "
   ]
  },
  {
   "cell_type": "code",
   "execution_count": null,
   "id": "7e608449",
   "metadata": {},
   "outputs": [],
   "source": []
  }
 ],
 "metadata": {
  "kernelspec": {
   "display_name": "Python 3",
   "language": "python",
   "name": "python3"
  },
  "language_info": {
   "codemirror_mode": {
    "name": "ipython",
    "version": 3
   },
   "file_extension": ".py",
   "mimetype": "text/x-python",
   "name": "python",
   "nbconvert_exporter": "python",
   "pygments_lexer": "ipython3",
   "version": "3.13.3"
  }
 },
 "nbformat": 4,
 "nbformat_minor": 5
}
