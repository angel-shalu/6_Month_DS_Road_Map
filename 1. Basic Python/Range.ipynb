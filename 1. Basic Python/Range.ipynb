{
 "cells": [
  {
   "cell_type": "markdown",
   "id": "9d0b7009-05e6-4b56-adc4-9e2c2f3c7cc9",
   "metadata": {},
   "source": [
    "Python Basics: `range()` Function"
   ]
  },
  {
   "cell_type": "markdown",
   "id": "e1bd53a6-84fc-401e-89b7-dd748efe7b4e",
   "metadata": {},
   "source": [
    "Today I learned about the **`range()` function**, which is used to generate a sequence of numbers in Python. It is commonly used with loops, especially `for` loops.\n",
    "\n",
    "---\n",
    "\n",
    "####  Key Properties of `range()`:\n",
    "\n",
    "* `range(start, stop, step)` is the format.\n",
    "* **Start** is optional and defaults to 0.\n",
    "* **Stop** is required — it defines where the sequence ends (not included).\n",
    "* **Step** is optional and defines the increment (or decrement for negative step).\n",
    "\n",
    "---\n",
    "\n",
    "#### Topics Covered:\n",
    "\n",
    "* Creating ranges with different start, stop, and step values\n",
    "* Using `range()` in `for` loops\n",
    "* Converting ranges to lists for viewing\n",
    "* Using `range()` to loop backward or skip steps\n",
    "\n",
    "---\n",
    "\n",
    "####  Examples:\n",
    "\n",
    "```python\n",
    "# Basic range from 0 to 4\n",
    "for i in range(5):\n",
    "    print(i)\n",
    "# Output: 0, 1, 2, 3, 4\n",
    "\n",
    "# Range from 2 to 9\n",
    "for i in range(2, 10):\n",
    "    print(i)\n",
    "# Output: 2, 3, 4, 5, 6, 7, 8, 9\n",
    "\n",
    "# Range with step of 2\n",
    "for i in range(0, 10, 2):\n",
    "    print(i)\n",
    "# Output: 0, 2, 4, 6, 8\n",
    "\n",
    "# Reverse range\n",
    "for i in range(10, 0, -2):\n",
    "    print(i)\n",
    "# Output: 10, 8, 6, 4, 2\n",
    "```\n",
    "\n",
    "---\n",
    "\n",
    "The `range()` function is a simple but powerful tool when working with **loops, indexing, and number sequences** in Python.\n",
    "\n"
   ]
  },
  {
   "cell_type": "markdown",
   "id": "a904a677-ab3e-482c-b5e3-862f5463584a",
   "metadata": {},
   "source": [
    "# 1. range(stop) – Only One Argument\n",
    "## Starts from 0, goes up to stop - 1."
   ]
  },
  {
   "cell_type": "code",
   "execution_count": null,
   "id": "0993fd07-a5ae-4390-a26c-0f86e8bb290a",
   "metadata": {},
   "outputs": [
    {
     "name": "stdout",
     "output_type": "stream",
     "text": [
      "0\n",
      "1\n",
      "2\n",
      "3\n",
      "4\n"
     ]
    }
   ],
   "source": [
    "for i in range(5):\n",
    "    print(i)"
   ]
  },
  {
   "cell_type": "markdown",
   "id": "c09ff6eb-791a-433e-a902-7492c9c15105",
   "metadata": {},
   "source": [
    "# 2. range(start, stop) – Two Arguments\n",
    "## Starts from start, goes up to stop - 1."
   ]
  },
  {
   "cell_type": "code",
   "execution_count": 2,
   "id": "cfdb8db2-4269-4adf-9f12-4beed042470a",
   "metadata": {},
   "outputs": [
    {
     "name": "stdout",
     "output_type": "stream",
     "text": [
      "2\n",
      "3\n",
      "4\n",
      "5\n",
      "6\n"
     ]
    }
   ],
   "source": [
    "for i in range(2, 7):\n",
    "    print(i)"
   ]
  },
  {
   "cell_type": "markdown",
   "id": "5872a0c9-6aa8-4832-9f02-af71eb5ba120",
   "metadata": {},
   "source": [
    "# 3. range(start, stop, step) – Three Arguments\n",
    "## Starts from start, increases by step, goes up to stop - 1."
   ]
  },
  {
   "cell_type": "code",
   "execution_count": 3,
   "id": "45b7cad9-4ada-42ae-9554-ba53dd35e0c3",
   "metadata": {},
   "outputs": [
    {
     "name": "stdout",
     "output_type": "stream",
     "text": [
      "1\n",
      "3\n",
      "5\n",
      "7\n",
      "9\n"
     ]
    }
   ],
   "source": [
    "# Positive step\n",
    "for i in range(1, 10, 2):\n",
    "    print(i)"
   ]
  },
  {
   "cell_type": "code",
   "execution_count": 4,
   "id": "24262784-51e8-405c-b903-a415be08a823",
   "metadata": {},
   "outputs": [
    {
     "name": "stdout",
     "output_type": "stream",
     "text": [
      "10\n",
      "8\n",
      "6\n",
      "4\n",
      "2\n"
     ]
    }
   ],
   "source": [
    "# Negative step (counting backwards)\n",
    "for i in range(10, 0, -2):\n",
    "    print(i)"
   ]
  },
  {
   "cell_type": "markdown",
   "id": "d4e8ff2b-ee90-456e-ade2-e49ba0680fb4",
   "metadata": {},
   "source": [
    "## Bonus: Convert range to list"
   ]
  },
  {
   "cell_type": "code",
   "execution_count": 5,
   "id": "f0a11444-9928-4c3d-89e3-e02c706fb80a",
   "metadata": {},
   "outputs": [
    {
     "name": "stdout",
     "output_type": "stream",
     "text": [
      "[0, 1, 2, 3, 4]\n"
     ]
    }
   ],
   "source": [
    "print(list(range(5)))"
   ]
  },
  {
   "cell_type": "markdown",
   "id": "a8a43993-2572-4a67-8d3a-dc8ff65c55f5",
   "metadata": {},
   "source": [
    "### Doesn’t support floats.\n"
   ]
  },
  {
   "cell_type": "code",
   "execution_count": 7,
   "id": "6dce249f-f2e8-44ca-abd1-d5f91259ed32",
   "metadata": {},
   "outputs": [
    {
     "ename": "TypeError",
     "evalue": "'float' object cannot be interpreted as an integer",
     "output_type": "error",
     "traceback": [
      "\u001b[1;31m---------------------------------------------------------------------------\u001b[0m",
      "\u001b[1;31mTypeError\u001b[0m                                 Traceback (most recent call last)",
      "Cell \u001b[1;32mIn[7], line 1\u001b[0m\n\u001b[1;32m----> 1\u001b[0m \u001b[38;5;28mrange\u001b[39m(\u001b[38;5;241m1.0\u001b[39m, \u001b[38;5;241m5.0\u001b[39m)\n",
      "\u001b[1;31mTypeError\u001b[0m: 'float' object cannot be interpreted as an integer"
     ]
    }
   ],
   "source": [
    "range(1.0, 5.0)  # ❌ This will cause an error\n"
   ]
  },
  {
   "cell_type": "code",
   "execution_count": null,
   "id": "9539a416-ef84-48da-85fb-4f704c45cfdf",
   "metadata": {},
   "outputs": [],
   "source": []
  }
 ],
 "metadata": {
  "kernelspec": {
   "display_name": "Python 3 (ipykernel)",
   "language": "python",
   "name": "python3"
  },
  "language_info": {
   "codemirror_mode": {
    "name": "ipython",
    "version": 3
   },
   "file_extension": ".py",
   "mimetype": "text/x-python",
   "name": "python",
   "nbconvert_exporter": "python",
   "pygments_lexer": "ipython3",
   "version": "3.12.7"
  }
 },
 "nbformat": 4,
 "nbformat_minor": 5
}
