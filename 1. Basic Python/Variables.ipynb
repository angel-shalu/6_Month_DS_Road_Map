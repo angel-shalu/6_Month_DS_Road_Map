{
 "cells": [
  {
   "cell_type": "markdown",
   "id": "2a16df59-3721-4de3-98ca-b583c2b822f4",
   "metadata": {},
   "source": [
    "# Python Basics: Variables, Printing & Multiple Assignments"
   ]
  },
  {
   "cell_type": "markdown",
   "id": "f4df7268-4cfa-49e3-95d0-1cdce5105b8d",
   "metadata": {},
   "source": [
    "# Variables in Python\n"
   ]
  },
  {
   "cell_type": "code",
   "execution_count": 3,
   "id": "727cf3b0-264c-4cb1-a3e0-6764f0efc370",
   "metadata": {},
   "outputs": [],
   "source": [
    "# Variables in Python \n",
    "\n",
    "first_name = 'Shalini'\n",
    "last_name = 'Kumari'\n",
    "country = 'India'\n",
    "city = 'Patna'\n",
    "age = 800\n",
    "is_married = False\n",
    "skills = ['Python']\n",
    "person_info = {\n",
    "    'firstname':'Angel', \n",
    "    'lastname':'Raj', \n",
    "    'country':'India',\n",
    "    'city':'Bhopal'\n",
    "    }"
   ]
  },
  {
   "cell_type": "markdown",
   "id": "01bb372b-4adc-4598-9c48-fafd01f198fa",
   "metadata": {},
   "source": [
    "# Printing the values stored in the variables\n"
   ]
  },
  {
   "cell_type": "code",
   "execution_count": 4,
   "id": "ece2c05a-7898-42a6-afff-0575a845a905",
   "metadata": {},
   "outputs": [
    {
     "name": "stdout",
     "output_type": "stream",
     "text": [
      "First name: Shalini\n",
      "First name length: 7\n",
      "Last name:  Kumari\n",
      "Last name length:  6\n",
      "Country:  India\n",
      "City:  Patna\n",
      "Age:  800\n",
      "Married:  False\n",
      "Skills:  ['Python']\n",
      "Person information:  {'firstname': 'Angel', 'lastname': 'Raj', 'country': 'India', 'city': 'Bhopal'}\n"
     ]
    }
   ],
   "source": [
    "# Printing the values stored in the variables\n",
    "\n",
    "print('First name:', first_name)\n",
    "print('First name length:', len(first_name))\n",
    "print('Last name: ', last_name)\n",
    "print('Last name length: ', len(last_name))\n",
    "print('Country: ', country)\n",
    "print('City: ', city)\n",
    "print('Age: ', age)\n",
    "print('Married: ', is_married)\n",
    "print('Skills: ', skills)\n",
    "print('Person information: ', person_info)\n"
   ]
  },
  {
   "cell_type": "markdown",
   "id": "6ec05ed3-7f3c-4264-a4c2-d7d4495ca1b9",
   "metadata": {},
   "source": [
    "# Declaring multiple variables in one line\n"
   ]
  },
  {
   "cell_type": "code",
   "execution_count": 5,
   "id": "1a4a1bc0-b522-4653-b10e-096cfa0758d3",
   "metadata": {},
   "outputs": [],
   "source": [
    "# Declaring multiple variables in one line\n",
    "\n",
    "first_name, last_name, country, age, is_married = 'Malhar', 'Poonawala', 'Ireland', 250, True"
   ]
  },
  {
   "cell_type": "markdown",
   "id": "2d25c39f-042e-4785-a442-c73972116045",
   "metadata": {},
   "source": [
    "# Printing the values stored in the  Multiple variables in a line"
   ]
  },
  {
   "cell_type": "code",
   "execution_count": 6,
   "id": "62320aed-4f95-40ae-88ce-d82f14b0b5e5",
   "metadata": {},
   "outputs": [
    {
     "name": "stdout",
     "output_type": "stream",
     "text": [
      "Malhar Poonawala Ireland 250 True\n",
      "First name: Malhar\n",
      "Last name:  Poonawala\n",
      "Country:  Ireland\n",
      "Age:  250\n",
      "Married:  True\n"
     ]
    }
   ],
   "source": [
    "print(first_name, last_name, country, age, is_married)\n",
    "print('First name:', first_name)\n",
    "print('Last name: ', last_name)\n",
    "print('Country: ', country)\n",
    "print('Age: ', age)\n",
    "print('Married: ', is_married)"
   ]
  }
 ],
 "metadata": {
  "kernelspec": {
   "display_name": "Python 3",
   "language": "python",
   "name": "python3"
  },
  "language_info": {
   "codemirror_mode": {
    "name": "ipython",
    "version": 3
   },
   "file_extension": ".py",
   "mimetype": "text/x-python",
   "name": "python",
   "nbconvert_exporter": "python",
   "pygments_lexer": "ipython3",
   "version": "3.13.3"
  }
 },
 "nbformat": 4,
 "nbformat_minor": 5
}
