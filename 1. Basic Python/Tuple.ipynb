{
 "cells": [
  {
   "cell_type": "markdown",
   "id": "42324a9d-ffc5-4ae7-be38-1410935005fa",
   "metadata": {},
   "source": [
    "# Tuples in Python"
   ]
  },
  {
   "cell_type": "markdown",
   "id": "de3f0940-8e2c-478f-9575-b9589bbe2578",
   "metadata": {},
   "source": [
    "Today I learned about **tuples** in Python. A tuple is a collection used to store multiple items in a single variable. Unlike lists, tuples are **immutable**, which means once created, their values cannot be changed.\n",
    "\n",
    "You create a tuple by placing items inside **parentheses** like this:\n",
    "`t = (1, 'Two', 3.0)`\n",
    "\n",
    "Tuples are useful when you want to make sure the data stays unchanged. For example, **bank records** or fixed settings can be stored as tuples.\n",
    "\n",
    "Although tuples themselves can't be modified, they can contain **mutable objects** like lists. If a list is inside a tuple, you can still change the list’s contents:\n",
    "\n",
    "* Example:\n",
    "  `t = (1, ['a', 'b', 'd'], 0)`\n",
    "  Change: `t[1][2] = 'c'`\n",
    "  Result: `(1, ['a', 'b', 'c'], 0)`\n",
    "  So yes, **it's okay to change the list inside a tuple**.\n",
    "\n",
    "Tuples support only two main functions:\n",
    "\n",
    "* `index()` – tells you the position of an item\n",
    "* `count()` – counts how many times an item appears\n",
    "\n",
    "Functions like `append()`, `remove()`, or `sort()` won’t work on tuples, because they are designed for lists which are changeable.\n",
    "\n",
    "Tuples can be:\n",
    "\n",
    "* Nested (you can have a tuple inside a tuple)\n",
    "* Contain lists (you can have a list inside a tuple)\n",
    "\n",
    "An **empty tuple** is written like this: `()`\n",
    "\n",
    "Also, tuples (like strings and lists) are **iterable and ordered**. This means their items can be looped through, and they have a fixed order.\n",
    "\n",
    "You can also create a tuple using the **tuple() constructor**."
   ]
  },
  {
   "cell_type": "markdown",
   "id": "52b7f40c-4e0e-422a-9572-9445d09191bb",
   "metadata": {},
   "source": [
    "# Tuple creation"
   ]
  },
  {
   "cell_type": "code",
   "execution_count": 1,
   "id": "1f9db7ab-c77c-43a9-ba8a-63829de091e9",
   "metadata": {},
   "outputs": [
    {
     "data": {
      "text/plain": [
       "6"
      ]
     },
     "execution_count": 1,
     "metadata": {},
     "output_type": "execute_result"
    }
   ],
   "source": [
    "tup1 = () # Empty tuple\n",
    "tup2 = (10,20,30,60) # tuple of integers numbers \n",
    "tup3 = (10.77,30.66,60.89) # tuple of flots numbers\n",
    "tup4 = (\"one\",'two','Three') # tuple of strings\n",
    "tup5 = (\"Shalini\",25,(50,100),(150,90)) #nested tuples\n",
    "tup6 = (100,'Shalu',17.765) #tuple of mix data types\n",
    "tup7 = ('Shalu',25,[50,100],[150,90],{'Jonny','Sins'},(99,22,33))\n",
    "len(tup7) #Length of list"
   ]
  },
  {
   "cell_type": "code",
   "execution_count": 2,
   "id": "9479423f-cb47-41d5-9582-d2050b242f00",
   "metadata": {},
   "outputs": [
    {
     "name": "stdout",
     "output_type": "stream",
     "text": [
      "tup1 : ()\n",
      "tup2 : (10, 20, 30, 60)\n",
      "tup3 : (10.77, 30.66, 60.89)\n",
      "tup4 : ('one', 'two', 'Three')\n",
      "tup5 : ('Shalini', 25, (50, 100), (150, 90))\n",
      "tup6 : (100, 'Shalu', 17.765)\n",
      "tup7 : ('Shalu', 25, [50, 100], [150, 90], {'Sins', 'Jonny'}, (99, 22, 33))\n"
     ]
    }
   ],
   "source": [
    "print('tup1 :',tup1)\n",
    "print('tup2 :',tup2)\n",
    "print('tup3 :',tup3)\n",
    "print('tup4 :',tup4)\n",
    "print('tup5 :',tup5)\n",
    "print('tup6 :',tup6)\n",
    "print('tup7 :',tup7)"
   ]
  },
  {
   "cell_type": "markdown",
   "id": "1c99a4b0-6c07-4928-8329-edccdd48cc60",
   "metadata": {},
   "source": [
    "# Tuple Indexing "
   ]
  },
  {
   "cell_type": "code",
   "execution_count": 3,
   "id": "6501522d-7420-484c-8c35-b47283857f3d",
   "metadata": {},
   "outputs": [
    {
     "data": {
      "text/plain": [
       "10"
      ]
     },
     "execution_count": 3,
     "metadata": {},
     "output_type": "execute_result"
    }
   ],
   "source": [
    "tup2[0] # Retreive first element of the tuple "
   ]
  },
  {
   "cell_type": "code",
   "execution_count": 4,
   "id": "e44eaf8f-a245-4bde-8ed2-eceebbdb0879",
   "metadata": {},
   "outputs": [
    {
     "data": {
      "text/plain": [
       "'one'"
      ]
     },
     "execution_count": 4,
     "metadata": {},
     "output_type": "execute_result"
    }
   ],
   "source": [
    "tup4[0] # Retreive first element of the tuple "
   ]
  },
  {
   "cell_type": "code",
   "execution_count": 6,
   "id": "dd82d2db-0b9c-4479-9943-d54ab324d7db",
   "metadata": {},
   "outputs": [
    {
     "data": {
      "text/plain": [
       "'o'"
      ]
     },
     "execution_count": 6,
     "metadata": {},
     "output_type": "execute_result"
    }
   ],
   "source": [
    "tup4[0][0] #Nested Indexing - Access the frist character of the first tuple element"
   ]
  },
  {
   "cell_type": "code",
   "execution_count": 7,
   "id": "83f19867-2df0-4c88-b647-88da1aa29e98",
   "metadata": {},
   "outputs": [
    {
     "data": {
      "text/plain": [
       "'Three'"
      ]
     },
     "execution_count": 7,
     "metadata": {},
     "output_type": "execute_result"
    }
   ],
   "source": [
    "tup4[-1] # Last item of the tuple"
   ]
  },
  {
   "cell_type": "markdown",
   "id": "ac7803ec-2f79-4780-8d0b-5ec1aaa346fe",
   "metadata": {},
   "source": [
    "# Tuple Slicing "
   ]
  },
  {
   "cell_type": "code",
   "execution_count": 5,
   "id": "ebcf8475-63b0-448d-a29a-0b1d7059e1ca",
   "metadata": {},
   "outputs": [],
   "source": [
    "mytuple = ('one','two','three','four','five','six','seven','eight')"
   ]
  },
  {
   "cell_type": "code",
   "execution_count": 6,
   "id": "6e74f0b8-c156-4e03-a9d7-7e5a470bb076",
   "metadata": {},
   "outputs": [
    {
     "data": {
      "text/plain": [
       "('one', 'two', 'three')"
      ]
     },
     "execution_count": 6,
     "metadata": {},
     "output_type": "execute_result"
    }
   ],
   "source": [
    "mytuple[0:3] #Return all items from 0th to 3rd index location"
   ]
  },
  {
   "cell_type": "code",
   "execution_count": 7,
   "id": "0dae6be7-01be-4d03-ae45-92904de74e22",
   "metadata": {},
   "outputs": [
    {
     "data": {
      "text/plain": [
       "('three', 'four', 'five')"
      ]
     },
     "execution_count": 7,
     "metadata": {},
     "output_type": "execute_result"
    }
   ],
   "source": [
    "mytuple[2:5] #Return all items from 2th to 5th index location"
   ]
  },
  {
   "cell_type": "code",
   "execution_count": 11,
   "id": "5f9fb7c5-e5f9-4954-8705-23004914dd2a",
   "metadata": {},
   "outputs": [
    {
     "data": {
      "text/plain": [
       "('one', 'two', 'three')"
      ]
     },
     "execution_count": 11,
     "metadata": {},
     "output_type": "execute_result"
    }
   ],
   "source": [
    "mytuple[:3] #Return first three items"
   ]
  },
  {
   "cell_type": "code",
   "execution_count": 12,
   "id": "9775eb74-0cd0-4f63-ae06-d5ef6109dd31",
   "metadata": {},
   "outputs": [
    {
     "data": {
      "text/plain": [
       "('one', 'two')"
      ]
     },
     "execution_count": 12,
     "metadata": {},
     "output_type": "execute_result"
    }
   ],
   "source": [
    "mytuple[:2] #Return first 2 items"
   ]
  },
  {
   "cell_type": "code",
   "execution_count": 13,
   "id": "8bc90d89-edba-4472-8922-2759f8dcec17",
   "metadata": {},
   "outputs": [
    {
     "data": {
      "text/plain": [
       "('six', 'seven', 'eight')"
      ]
     },
     "execution_count": 13,
     "metadata": {},
     "output_type": "execute_result"
    }
   ],
   "source": [
    "mytuple[-3:] #Return last three items"
   ]
  },
  {
   "cell_type": "code",
   "execution_count": 14,
   "id": "53ff0c34-70fa-4f1e-8b4a-0c3e35fe8986",
   "metadata": {},
   "outputs": [
    {
     "data": {
      "text/plain": [
       "('seven', 'eight')"
      ]
     },
     "execution_count": 14,
     "metadata": {},
     "output_type": "execute_result"
    }
   ],
   "source": [
    "mytuple[-2:] #Return last 2 items"
   ]
  },
  {
   "cell_type": "code",
   "execution_count": 15,
   "id": "ddff51a7-3547-4773-855a-4c2443f45426",
   "metadata": {},
   "outputs": [
    {
     "data": {
      "text/plain": [
       "'eight'"
      ]
     },
     "execution_count": 15,
     "metadata": {},
     "output_type": "execute_result"
    }
   ],
   "source": [
    "mytuple[-1] #Return last item of tuple"
   ]
  },
  {
   "cell_type": "code",
   "execution_count": 16,
   "id": "083b7fe7-e8fe-4c4f-bcc5-6912df2e959f",
   "metadata": {},
   "outputs": [
    {
     "data": {
      "text/plain": [
       "('one', 'two', 'three', 'four', 'five', 'six', 'seven', 'eight')"
      ]
     },
     "execution_count": 16,
     "metadata": {},
     "output_type": "execute_result"
    }
   ],
   "source": [
    "mytuple[:] # Return whole tuple"
   ]
  },
  {
   "cell_type": "markdown",
   "id": "81d88e24-6ed3-4c49-b5fc-cda99e61f82b",
   "metadata": {},
   "source": [
    "# Remove & change items"
   ]
  },
  {
   "cell_type": "code",
   "execution_count": 17,
   "id": "8a5643bd-206c-49b4-a6dd-1d4a9cd91773",
   "metadata": {},
   "outputs": [
    {
     "data": {
      "text/plain": [
       "('one', 'two', 'three', 'four', 'five', 'six', 'seven', 'eight')"
      ]
     },
     "execution_count": 17,
     "metadata": {},
     "output_type": "execute_result"
    }
   ],
   "source": [
    "mytuple"
   ]
  },
  {
   "cell_type": "code",
   "execution_count": 18,
   "id": "754f6595-ef74-4936-a4b3-d7a453878453",
   "metadata": {},
   "outputs": [
    {
     "ename": "TypeError",
     "evalue": "'tuple' object doesn't support item deletion",
     "output_type": "error",
     "traceback": [
      "\u001b[1;31m---------------------------------------------------------------------------\u001b[0m",
      "\u001b[1;31mTypeError\u001b[0m                                 Traceback (most recent call last)",
      "Cell \u001b[1;32mIn[18], line 1\u001b[0m\n\u001b[1;32m----> 1\u001b[0m \u001b[38;5;28;01mdel\u001b[39;00m mytuple[\u001b[38;5;241m0\u001b[39m]\n",
      "\u001b[1;31mTypeError\u001b[0m: 'tuple' object doesn't support item deletion"
     ]
    }
   ],
   "source": [
    "del mytuple[0] # Tuples are immutable which means we can not DELETE tuple items "
   ]
  },
  {
   "cell_type": "code",
   "execution_count": 19,
   "id": "a1b2dd4a-5b8d-4354-9d61-4bb8aa14e5b0",
   "metadata": {},
   "outputs": [
    {
     "ename": "TypeError",
     "evalue": "'tuple' object does not support item assignment",
     "output_type": "error",
     "traceback": [
      "\u001b[1;31m---------------------------------------------------------------------------\u001b[0m",
      "\u001b[1;31mTypeError\u001b[0m                                 Traceback (most recent call last)",
      "Cell \u001b[1;32mIn[19], line 1\u001b[0m\n\u001b[1;32m----> 1\u001b[0m mytuple[\u001b[38;5;241m0\u001b[39m] \u001b[38;5;241m=\u001b[39m \u001b[38;5;241m1\u001b[39m\n",
      "\u001b[1;31mTypeError\u001b[0m: 'tuple' object does not support item assignment"
     ]
    }
   ],
   "source": [
    " mytuple[0] = 1 # Tuples are immutable which means we can not CHANGE tuple items "
   ]
  },
  {
   "cell_type": "code",
   "execution_count": null,
   "id": "c3b65b0c-d57d-4edc-a437-2ad10515dc1c",
   "metadata": {},
   "outputs": [],
   "source": [
    "del mytuple # Deleting entire tuple object is possible"
   ]
  },
  {
   "cell_type": "markdown",
   "id": "4b2445c0-adb9-4241-bad2-127030b97499",
   "metadata": {},
   "source": [
    "# Loop Through a Tuple"
   ]
  },
  {
   "cell_type": "code",
   "execution_count": 20,
   "id": "3bbff7ff-44b4-4e8f-a5fd-3001f9e36c6c",
   "metadata": {},
   "outputs": [
    {
     "data": {
      "text/plain": [
       "('one', 'two', 'three', 'four', 'five', 'six', 'seven', 'eight')"
      ]
     },
     "execution_count": 20,
     "metadata": {},
     "output_type": "execute_result"
    }
   ],
   "source": [
    "mytuple"
   ]
  },
  {
   "cell_type": "code",
   "execution_count": 21,
   "id": "7216ba30-7267-46fc-8013-4d1560eee006",
   "metadata": {},
   "outputs": [
    {
     "name": "stdout",
     "output_type": "stream",
     "text": [
      "one\n",
      "two\n",
      "three\n",
      "four\n",
      "five\n",
      "six\n",
      "seven\n",
      "eight\n"
     ]
    }
   ],
   "source": [
    "for i in mytuple:\n",
    "    print(i)"
   ]
  },
  {
   "cell_type": "code",
   "execution_count": 22,
   "id": "1e206c15-7e40-4687-a939-664eccf72842",
   "metadata": {},
   "outputs": [
    {
     "name": "stdout",
     "output_type": "stream",
     "text": [
      "(0, 'one')\n",
      "(1, 'two')\n",
      "(2, 'three')\n",
      "(3, 'four')\n",
      "(4, 'five')\n",
      "(5, 'six')\n",
      "(6, 'seven')\n",
      "(7, 'eight')\n"
     ]
    }
   ],
   "source": [
    "for i in enumerate(mytuple):\n",
    "    print(i)"
   ]
  },
  {
   "cell_type": "markdown",
   "id": "81d893ad-0fa5-4806-b690-701ca2a6fd8a",
   "metadata": {},
   "source": [
    "# Tuple Membership"
   ]
  },
  {
   "cell_type": "code",
   "execution_count": 23,
   "id": "0b9f8149-3bea-4ec3-a35d-a7d50f4f676e",
   "metadata": {},
   "outputs": [
    {
     "data": {
      "text/plain": [
       "True"
      ]
     },
     "execution_count": 23,
     "metadata": {},
     "output_type": "execute_result"
    }
   ],
   "source": [
    "mytuple\n",
    "'one' in mytuple # Check of 'one' exist in the tuple"
   ]
  },
  {
   "cell_type": "code",
   "execution_count": 24,
   "id": "95ca537f-bce5-4baf-9a21-63cb42a7d62e",
   "metadata": {},
   "outputs": [
    {
     "data": {
      "text/plain": [
       "False"
      ]
     },
     "execution_count": 24,
     "metadata": {},
     "output_type": "execute_result"
    }
   ],
   "source": [
    "'ten' in mytuple # Check of 'ten' exist in the tuple"
   ]
  },
  {
   "cell_type": "code",
   "execution_count": 25,
   "id": "83cf9a27-a98e-44ff-b10a-1ca57e3b5569",
   "metadata": {},
   "outputs": [
    {
     "name": "stdout",
     "output_type": "stream",
     "text": [
      "Yes, Three is present in the Tuple\n"
     ]
    }
   ],
   "source": [
    "if 'three' in mytuple:    # Check if 'three' exist in the List\n",
    "    print('Yes, Three is present in the Tuple')\n",
    "else:\n",
    "     print('No, Three is not present in the Tuple')"
   ]
  },
  {
   "cell_type": "code",
   "execution_count": 26,
   "id": "5c772ab3-4587-4f0a-bbb4-2c26b9eb13b5",
   "metadata": {},
   "outputs": [
    {
     "name": "stdout",
     "output_type": "stream",
     "text": [
      "No, Twenty is not present in the Tuple\n"
     ]
    }
   ],
   "source": [
    "if 'Twenty' in mytuple:    # Check if 'Twenty' exist in the List\n",
    "    print('Yes, Twenty is present in the Tuple')\n",
    "else:\n",
    "     print('No, Twenty is not present in the Tuple')"
   ]
  },
  {
   "cell_type": "markdown",
   "id": "92154c16-444b-4a72-a743-892449b63539",
   "metadata": {},
   "source": [
    "# Index Position"
   ]
  },
  {
   "cell_type": "code",
   "execution_count": 27,
   "id": "61d75a4a-a8d7-40ee-b380-3c7f1e22925d",
   "metadata": {},
   "outputs": [
    {
     "data": {
      "text/plain": [
       "('one', 'two', 'three', 'four', 'five', 'six', 'seven', 'eight')"
      ]
     },
     "execution_count": 27,
     "metadata": {},
     "output_type": "execute_result"
    }
   ],
   "source": [
    "mytuple"
   ]
  },
  {
   "cell_type": "code",
   "execution_count": 28,
   "id": "2547d6cc-c3d9-4726-8397-4ef5d57d9d4e",
   "metadata": {},
   "outputs": [
    {
     "data": {
      "text/plain": [
       "0"
      ]
     },
     "execution_count": 28,
     "metadata": {},
     "output_type": "execute_result"
    }
   ],
   "source": [
    "mytuple.index('one') #Index of first elemnts equal to 'one'"
   ]
  },
  {
   "cell_type": "code",
   "execution_count": 29,
   "id": "68b8f436-7917-47e5-a73a-3a0af7788f9a",
   "metadata": {},
   "outputs": [
    {
     "data": {
      "text/plain": [
       "4"
      ]
     },
     "execution_count": 29,
     "metadata": {},
     "output_type": "execute_result"
    }
   ],
   "source": [
    "mytuple.index('five') #Index of first elemnts equal to 'five'"
   ]
  },
  {
   "cell_type": "markdown",
   "id": "8193a0ae-e767-4983-965b-84d75b409fb6",
   "metadata": {},
   "source": [
    "# Sorting"
   ]
  },
  {
   "cell_type": "code",
   "execution_count": 30,
   "id": "3700f49d-384c-4c37-a097-054caa09e492",
   "metadata": {},
   "outputs": [],
   "source": [
    "mytuple1 = (1,4,5,7,33,12,34,76,89,90,1,2)"
   ]
  },
  {
   "cell_type": "code",
   "execution_count": 31,
   "id": "e105753b-e18c-448b-b2b4-3b29a1997586",
   "metadata": {},
   "outputs": [
    {
     "data": {
      "text/plain": [
       "(1, 4, 5, 7, 33, 12, 34, 76, 89, 90, 1, 2)"
      ]
     },
     "execution_count": 31,
     "metadata": {},
     "output_type": "execute_result"
    }
   ],
   "source": [
    "mytuple1"
   ]
  },
  {
   "cell_type": "code",
   "execution_count": 32,
   "id": "dc686006-4d02-4f0f-aa36-4a803fbe67a8",
   "metadata": {},
   "outputs": [
    {
     "data": {
      "text/plain": [
       "[1, 1, 2, 4, 5, 7, 12, 33, 34, 76, 89, 90]"
      ]
     },
     "execution_count": 32,
     "metadata": {},
     "output_type": "execute_result"
    }
   ],
   "source": [
    "sorted(mytuple1) # Retuen a new sorted list and does not change original tuple"
   ]
  },
  {
   "cell_type": "code",
   "execution_count": 33,
   "id": "f4f237a1-9dc8-4084-adaf-da17addac8d8",
   "metadata": {},
   "outputs": [
    {
     "data": {
      "text/plain": [
       "[90, 89, 76, 34, 33, 12, 7, 5, 4, 2, 1, 1]"
      ]
     },
     "execution_count": 33,
     "metadata": {},
     "output_type": "execute_result"
    }
   ],
   "source": [
    "sorted(mytuple1, reverse =True) #Sort in descending order"
   ]
  }
 ],
 "metadata": {
  "kernelspec": {
   "display_name": "Python 3",
   "language": "python",
   "name": "python3"
  },
  "language_info": {
   "codemirror_mode": {
    "name": "ipython",
    "version": 3
   },
   "file_extension": ".py",
   "mimetype": "text/x-python",
   "name": "python",
   "nbconvert_exporter": "python",
   "pygments_lexer": "ipython3",
   "version": "3.13.3"
  }
 },
 "nbformat": 4,
 "nbformat_minor": 5
}
