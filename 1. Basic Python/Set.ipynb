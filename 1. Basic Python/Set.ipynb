{
 "cells": [
  {
   "cell_type": "markdown",
   "id": "a7df84d6-7b6f-40b9-87a7-c4931fdc956a",
   "metadata": {},
   "source": [
    "\n",
    "# Sets in Python**"
   ]
  },
  {
   "cell_type": "markdown",
   "id": "50f825fb-e38a-4401-9c2e-b1699ca3234e",
   "metadata": {},
   "source": [
    "Today I learned about **sets** in Python — a built-in data structure used to store **unordered** collections of **unique items**. Sets are different from lists and tuples in several important ways:\n",
    "\n",
    "**Key Properties of Sets:**\n",
    "\n",
    "1. Unordered & unindexed collection of items\n",
    "2. Set elements are unique — duplicate elements are not allowed\n",
    "3. Set elements are immutable (cannot be changed)\n",
    "4. Set itself is mutable — we can add or remove items from it\n",
    "\n",
    "You can create a set using curly braces like this:\n",
    "`my_set = {1, 2, 3}`\n",
    "Or using the `set()` constructor:\n",
    "`another_set = set([1, 2, 2, 3])` → will automatically remove duplicates\n",
    "\n",
    "**Useful Set Methods:**\n",
    "\n",
    "* `add()` – adds a single item\n",
    "* `update()` – adds multiple items\n",
    "* `remove()` – removes an item (error if not found)\n",
    "* `discard()` – removes an item (no error if not found)\n",
    "* `pop()` – removes a random item\n",
    "* `clear()` – removes all items\n",
    "\n",
    "**Set Operations:**\n",
    "\n",
    "* `union()` – combines elements from both sets\n",
    "* `intersection()` – gets common elements\n",
    "* `difference()` – elements in one set but not the other\n",
    "* `symmetric_difference()` – elements not common to both sets\n",
    "\n",
    "**Comparison Methods:**\n",
    "\n",
    "* `issubset()` – checks if one set is a subset of another\n",
    "* `issuperset()` – checks if a set contains another set\n",
    "* `isdisjoint()` – checks if sets have no elements in common\n",
    "\n",
    "**Note:**\n",
    "Sets are mutable, but all elements stored in a set must be **immutable** (like numbers, strings, or tuples).\n"
   ]
  },
  {
   "cell_type": "markdown",
   "id": "ebc8e9e9-2d82-463a-abc0-9388e742adcf",
   "metadata": {},
   "source": [
    "# Set Creation"
   ]
  },
  {
   "cell_type": "code",
   "execution_count": 3,
   "id": "ed60a050-1396-4a91-9bcb-d0434b24b6e2",
   "metadata": {},
   "outputs": [
    {
     "data": {
      "text/plain": [
       "{1, 2, 3, 4, 5}"
      ]
     },
     "execution_count": 3,
     "metadata": {},
     "output_type": "execute_result"
    }
   ],
   "source": [
    "myset = {1,2,3,4,5} # Set of numbers \n",
    "myset "
   ]
  },
  {
   "cell_type": "code",
   "execution_count": 4,
   "id": "5dfa8cef-5241-463a-a331-9de33e09fa46",
   "metadata": {},
   "outputs": [
    {
     "data": {
      "text/plain": [
       "5"
      ]
     },
     "execution_count": 4,
     "metadata": {},
     "output_type": "execute_result"
    }
   ],
   "source": [
    "len(myset) #Length of the set "
   ]
  },
  {
   "cell_type": "code",
   "execution_count": 5,
   "id": "da874e4b-1c54-4651-929c-67852a283902",
   "metadata": {},
   "outputs": [
    {
     "data": {
      "text/plain": [
       "{1, 2, 3, 4, 5}"
      ]
     },
     "execution_count": 5,
     "metadata": {},
     "output_type": "execute_result"
    }
   ],
   "source": [
    "my_set = {1,1,2,2,3,4,5,5} \n",
    "my_set \n",
    "# Duplicate elements are not allowed. "
   ]
  },
  {
   "cell_type": "code",
   "execution_count": 6,
   "id": "6e90a8a8-b46c-46f2-809a-a7b95ab81242",
   "metadata": {},
   "outputs": [
    {
     "data": {
      "text/plain": [
       "{1.79, 2.08, 3.99, 4.56, 5.45}"
      ]
     },
     "execution_count": 6,
     "metadata": {},
     "output_type": "execute_result"
    }
   ],
   "source": [
    "myset1 = {1.79,2.08,3.99,4.56,5.45} # Set of float numbers \n",
    "myset1 "
   ]
  },
  {
   "cell_type": "code",
   "execution_count": 7,
   "id": "f98b8f6b-8507-4767-91af-fd8bd95f0b8f",
   "metadata": {},
   "outputs": [
    {
     "data": {
      "text/plain": [
       "{'Asif', 'John', 'Tyrion'}"
      ]
     },
     "execution_count": 7,
     "metadata": {},
     "output_type": "execute_result"
    }
   ],
   "source": [
    "myset2 = {'Asif' , 'John' , 'Tyrion'} # Set of Strings \n",
    "myset2 "
   ]
  },
  {
   "cell_type": "code",
   "execution_count": 8,
   "id": "71860576-6ae6-4a82-ac5f-d46591d84084",
   "metadata": {},
   "outputs": [
    {
     "data": {
      "text/plain": [
       "{(11, 22, 32), 10, 20, 'Hola'}"
      ]
     },
     "execution_count": 8,
     "metadata": {},
     "output_type": "execute_result"
    }
   ],
   "source": [
    "myset3 = {10,20, \"Hola\", (11, 22, 32)} # Mixed datatypes \n",
    "myset3 "
   ]
  },
  {
   "cell_type": "code",
   "execution_count": 9,
   "id": "f33fefea-725b-44e0-94d2-f83852c0a856",
   "metadata": {},
   "outputs": [
    {
     "ename": "TypeError",
     "evalue": "unhashable type: 'list'",
     "output_type": "error",
     "traceback": [
      "\u001b[1;31m---------------------------------------------------------------------------\u001b[0m",
      "\u001b[1;31mTypeError\u001b[0m                                 Traceback (most recent call last)",
      "Cell \u001b[1;32mIn[9], line 1\u001b[0m\n\u001b[1;32m----> 1\u001b[0m myset3 \u001b[38;5;241m=\u001b[39m {\u001b[38;5;241m10\u001b[39m,\u001b[38;5;241m20\u001b[39m, \u001b[38;5;124m\"\u001b[39m\u001b[38;5;124mHola\u001b[39m\u001b[38;5;124m\"\u001b[39m, [\u001b[38;5;241m11\u001b[39m, \u001b[38;5;241m22\u001b[39m, \u001b[38;5;241m32\u001b[39m]} \u001b[38;5;66;03m# set doesn't allow mutable items like li \u001b[39;00m\n\u001b[0;32m      2\u001b[0m myset3\n",
      "\u001b[1;31mTypeError\u001b[0m: unhashable type: 'list'"
     ]
    }
   ],
   "source": [
    "myset3 = {10,20, \"Hola\", [11, 22, 32]} # set doesn't allow mutable items like li \n",
    "myset3 "
   ]
  },
  {
   "cell_type": "code",
   "execution_count": 10,
   "id": "063db966-dd67-4083-9ef0-a0e20a17a29a",
   "metadata": {},
   "outputs": [
    {
     "name": "stdout",
     "output_type": "stream",
     "text": [
      "<class 'set'>\n"
     ]
    }
   ],
   "source": [
    "myset4 = set() # Create an empty set \n",
    "print(type(myset4)) "
   ]
  },
  {
   "cell_type": "code",
   "execution_count": 11,
   "id": "07c9abcb-4843-4edf-8d78-99d53e3d327f",
   "metadata": {},
   "outputs": [
    {
     "data": {
      "text/plain": [
       "{'four', 'one', 'three', 'two'}"
      ]
     },
     "execution_count": 11,
     "metadata": {},
     "output_type": "execute_result"
    }
   ],
   "source": [
    "my_set1 = set(('one' , 'two' , 'three' , 'four')) \n",
    "my_set1 "
   ]
  },
  {
   "cell_type": "code",
   "execution_count": 12,
   "id": "f126a040-05d8-4852-812a-5368458dac38",
   "metadata": {},
   "outputs": [
    {
     "name": "stdout",
     "output_type": "stream",
     "text": [
      "six\n",
      "five\n",
      "eight\n",
      "four\n",
      "two\n",
      "three\n",
      "seven\n",
      "one\n"
     ]
    }
   ],
   "source": [
    "myset = {'one', 'two', 'three', 'four', 'five', 'six', 'seven', 'eight'} \n",
    "for i in myset: \n",
    "    print(i)"
   ]
  },
  {
   "cell_type": "code",
   "execution_count": 13,
   "id": "82e2f497-b64a-4eb1-9376-926926323e8b",
   "metadata": {},
   "outputs": [
    {
     "name": "stdout",
     "output_type": "stream",
     "text": [
      "(0, 'six')\n",
      "(1, 'five')\n",
      "(2, 'eight')\n",
      "(3, 'four')\n",
      "(4, 'two')\n",
      "(5, 'three')\n",
      "(6, 'seven')\n",
      "(7, 'one')\n"
     ]
    }
   ],
   "source": [
    "for i in enumerate(myset): \n",
    "    print(i) "
   ]
  },
  {
   "cell_type": "markdown",
   "id": "ff2ab494-0bbb-4885-86fa-4042be9d5390",
   "metadata": {},
   "source": [
    "# Set Membership"
   ]
  },
  {
   "cell_type": "code",
   "execution_count": 14,
   "id": "72c5847c-0097-4005-807b-d9ce09b6e79b",
   "metadata": {},
   "outputs": [
    {
     "data": {
      "text/plain": [
       "{'eight', 'five', 'four', 'one', 'seven', 'six', 'three', 'two'}"
      ]
     },
     "execution_count": 14,
     "metadata": {},
     "output_type": "execute_result"
    }
   ],
   "source": [
    "myset"
   ]
  },
  {
   "cell_type": "code",
   "execution_count": 15,
   "id": "8e4cf3c5-cef6-4ae0-9800-cc7a433901f8",
   "metadata": {},
   "outputs": [
    {
     "data": {
      "text/plain": [
       "True"
      ]
     },
     "execution_count": 15,
     "metadata": {},
     "output_type": "execute_result"
    }
   ],
   "source": [
    "'one' in myset # Check if 'one' exist in the set "
   ]
  },
  {
   "cell_type": "code",
   "execution_count": 16,
   "id": "ba9fd993-c1eb-4f78-8770-2c097ef29661",
   "metadata": {},
   "outputs": [
    {
     "data": {
      "text/plain": [
       "False"
      ]
     },
     "execution_count": 16,
     "metadata": {},
     "output_type": "execute_result"
    }
   ],
   "source": [
    "'ten' in myset # Check if 'ten' exist in the set "
   ]
  },
  {
   "cell_type": "code",
   "execution_count": 1,
   "id": "7032056e-a28a-4b4c-b00b-65975c08aaf2",
   "metadata": {},
   "outputs": [
    {
     "ename": "NameError",
     "evalue": "name 'myset' is not defined",
     "output_type": "error",
     "traceback": [
      "\u001b[31m---------------------------------------------------------------------------\u001b[39m",
      "\u001b[31mNameError\u001b[39m                                 Traceback (most recent call last)",
      "\u001b[36mCell\u001b[39m\u001b[36m \u001b[39m\u001b[32mIn[1]\u001b[39m\u001b[32m, line 1\u001b[39m\n\u001b[32m----> \u001b[39m\u001b[32m1\u001b[39m \u001b[38;5;28;01mif\u001b[39;00m \u001b[33m'\u001b[39m\u001b[33mthree\u001b[39m\u001b[33m'\u001b[39m \u001b[38;5;129;01min\u001b[39;00m \u001b[43mmyset\u001b[49m: \u001b[38;5;66;03m# Check if 'three' exist in the set \u001b[39;00m\n\u001b[32m      2\u001b[39m     \u001b[38;5;28mprint\u001b[39m(\u001b[33m'\u001b[39m\u001b[33mThree is present in the set\u001b[39m\u001b[33m'\u001b[39m) \n\u001b[32m      3\u001b[39m \u001b[38;5;28;01melse\u001b[39;00m: \n",
      "\u001b[31mNameError\u001b[39m: name 'myset' is not defined"
     ]
    }
   ],
   "source": [
    "if 'three' in myset: # Check if 'three' exist in the set \n",
    "    print('Three is present in the set') \n",
    "else: \n",
    "    print('Three is not present in the set')"
   ]
  },
  {
   "cell_type": "code",
   "execution_count": 18,
   "id": "d3281cbf-5737-4b04-9b55-881d492ceb55",
   "metadata": {},
   "outputs": [
    {
     "name": "stdout",
     "output_type": "stream",
     "text": [
      "eleven is not present in the set\n"
     ]
    }
   ],
   "source": [
    "if 'eleven' in myset: # Check if 'eleven' exist in the list \n",
    "    print('eleven is present in the set') \n",
    "else: \n",
    "    print('eleven is not present in the set') "
   ]
  },
  {
   "cell_type": "markdown",
   "id": "5f48e208-a1c9-49cd-982b-4806f83f1f03",
   "metadata": {},
   "source": [
    "# Add & Remove Items"
   ]
  },
  {
   "cell_type": "code",
   "execution_count": 19,
   "id": "6f9a4bea-7671-4b6c-84d3-708d46931ecc",
   "metadata": {},
   "outputs": [
    {
     "data": {
      "text/plain": [
       "{'eight', 'five', 'four', 'one', 'seven', 'six', 'three', 'two'}"
      ]
     },
     "execution_count": 19,
     "metadata": {},
     "output_type": "execute_result"
    }
   ],
   "source": [
    "myset "
   ]
  },
  {
   "cell_type": "code",
   "execution_count": 20,
   "id": "91729e6c-c8a7-4704-988d-39b34bbb56b6",
   "metadata": {},
   "outputs": [
    {
     "data": {
      "text/plain": [
       "{'NINE', 'eight', 'five', 'four', 'one', 'seven', 'six', 'three', 'two'}"
      ]
     },
     "execution_count": 20,
     "metadata": {},
     "output_type": "execute_result"
    }
   ],
   "source": [
    "myset.add('NINE') # Add item to a set using add() method \n",
    "myset "
   ]
  },
  {
   "cell_type": "code",
   "execution_count": 21,
   "id": "07ee87b3-a6f2-448f-89e9-d941120bddff",
   "metadata": {},
   "outputs": [
    {
     "data": {
      "text/plain": [
       "{'ELEVEN',\n",
       " 'NINE',\n",
       " 'TEN',\n",
       " 'TWELVE',\n",
       " 'eight',\n",
       " 'five',\n",
       " 'four',\n",
       " 'one',\n",
       " 'seven',\n",
       " 'six',\n",
       " 'three',\n",
       " 'two'}"
      ]
     },
     "execution_count": 21,
     "metadata": {},
     "output_type": "execute_result"
    }
   ],
   "source": [
    "myset.update(['TEN' , 'ELEVEN' , 'TWELVE']) # Add multiple item to a set using \n",
    "myset "
   ]
  },
  {
   "cell_type": "code",
   "execution_count": 22,
   "id": "8df8d326-66d3-46ed-b443-14adc0a60377",
   "metadata": {},
   "outputs": [
    {
     "data": {
      "text/plain": [
       "{'ELEVEN',\n",
       " 'TEN',\n",
       " 'TWELVE',\n",
       " 'eight',\n",
       " 'five',\n",
       " 'four',\n",
       " 'one',\n",
       " 'seven',\n",
       " 'six',\n",
       " 'three',\n",
       " 'two'}"
      ]
     },
     "execution_count": 22,
     "metadata": {},
     "output_type": "execute_result"
    }
   ],
   "source": [
    "myset.remove('NINE') # remove item in a set using remove() method \n",
    "myset "
   ]
  },
  {
   "cell_type": "code",
   "execution_count": 23,
   "id": "5db951d8-dfef-4e5e-b0a3-e3b7645b31b5",
   "metadata": {},
   "outputs": [
    {
     "data": {
      "text/plain": [
       "{'ELEVEN',\n",
       " 'TWELVE',\n",
       " 'eight',\n",
       " 'five',\n",
       " 'four',\n",
       " 'one',\n",
       " 'seven',\n",
       " 'six',\n",
       " 'three',\n",
       " 'two'}"
      ]
     },
     "execution_count": 23,
     "metadata": {},
     "output_type": "execute_result"
    }
   ],
   "source": [
    "myset.discard('TEN') # remove item from a set using discard() method \n",
    "myset "
   ]
  },
  {
   "cell_type": "code",
   "execution_count": 24,
   "id": "6c3176b2-aefa-4cbe-a95c-52296a33cf61",
   "metadata": {},
   "outputs": [
    {
     "data": {
      "text/plain": [
       "set()"
      ]
     },
     "execution_count": 24,
     "metadata": {},
     "output_type": "execute_result"
    }
   ],
   "source": [
    "myset.clear() # Delete all items in a set \n",
    "myset "
   ]
  },
  {
   "cell_type": "code",
   "execution_count": 25,
   "id": "df68893d-92f2-4f79-ae96-14bc1e7043ef",
   "metadata": {},
   "outputs": [
    {
     "ename": "NameError",
     "evalue": "name 'myset' is not defined",
     "output_type": "error",
     "traceback": [
      "\u001b[1;31m---------------------------------------------------------------------------\u001b[0m",
      "\u001b[1;31mNameError\u001b[0m                                 Traceback (most recent call last)",
      "Cell \u001b[1;32mIn[25], line 2\u001b[0m\n\u001b[0;32m      1\u001b[0m \u001b[38;5;28;01mdel\u001b[39;00m myset \u001b[38;5;66;03m# Delete the set object \u001b[39;00m\n\u001b[1;32m----> 2\u001b[0m myset\n",
      "\u001b[1;31mNameError\u001b[0m: name 'myset' is not defined"
     ]
    }
   ],
   "source": [
    "del myset # Delete the set object \n",
    "myset "
   ]
  },
  {
   "cell_type": "markdown",
   "id": "6f6b4bcf-7ef2-42a6-ac45-26a7ab333e10",
   "metadata": {},
   "source": [
    "# Copy Set"
   ]
  },
  {
   "cell_type": "code",
   "execution_count": 26,
   "id": "47bcb5b5-7d72-4a36-a223-e49ad1caf669",
   "metadata": {},
   "outputs": [
    {
     "data": {
      "text/plain": [
       "{'eight', 'five', 'four', 'one', 'seven', 'six', 'three', 'two'}"
      ]
     },
     "execution_count": 26,
     "metadata": {},
     "output_type": "execute_result"
    }
   ],
   "source": [
    "myset = {'one', 'two', 'three', 'four', 'five', 'six', 'seven', 'eight'} \n",
    "myset"
   ]
  },
  {
   "cell_type": "code",
   "execution_count": 27,
   "id": "69a86816-9a98-4c93-89b5-a84286874e1f",
   "metadata": {},
   "outputs": [
    {
     "data": {
      "text/plain": [
       "{'eight', 'five', 'four', 'one', 'seven', 'six', 'three', 'two'}"
      ]
     },
     "execution_count": 27,
     "metadata": {},
     "output_type": "execute_result"
    }
   ],
   "source": [
    "myset1 = myset # Create a new reference \"myset1\" \n",
    "myset1 "
   ]
  },
  {
   "cell_type": "code",
   "execution_count": 28,
   "id": "0b9500a9-226f-456d-aa6f-88c8a191a999",
   "metadata": {},
   "outputs": [
    {
     "data": {
      "text/plain": [
       "(2021026422496, 2021026422496)"
      ]
     },
     "execution_count": 28,
     "metadata": {},
     "output_type": "execute_result"
    }
   ],
   "source": [
    "id(myset) , id(myset1) # The address of both myset & myset1 will be the same as \n"
   ]
  },
  {
   "cell_type": "code",
   "execution_count": 29,
   "id": "d9def0d6-7ea4-4f00-aea9-49484cf5114b",
   "metadata": {},
   "outputs": [
    {
     "data": {
      "text/plain": [
       "{'eight', 'five', 'four', 'one', 'seven', 'six', 'three', 'two'}"
      ]
     },
     "execution_count": 29,
     "metadata": {},
     "output_type": "execute_result"
    }
   ],
   "source": [
    "my_set = myset.copy() # Create a copy of the list \n",
    "my_set "
   ]
  },
  {
   "cell_type": "code",
   "execution_count": 30,
   "id": "665c1af6-7acc-49f6-8630-7e03fc6d5db9",
   "metadata": {},
   "outputs": [
    {
     "data": {
      "text/plain": [
       "2021026424288"
      ]
     },
     "execution_count": 30,
     "metadata": {},
     "output_type": "execute_result"
    }
   ],
   "source": [
    "id(my_set) # The address of my_set will be different from myset because my_set i \n"
   ]
  },
  {
   "cell_type": "code",
   "execution_count": 31,
   "id": "4fb76099-6143-4978-8862-de8be7d563c0",
   "metadata": {},
   "outputs": [
    {
     "data": {
      "text/plain": [
       "{'eight', 'five', 'four', 'nine', 'one', 'seven', 'six', 'three', 'two'}"
      ]
     },
     "execution_count": 31,
     "metadata": {},
     "output_type": "execute_result"
    }
   ],
   "source": [
    "myset.add('nine') \n",
    "myset "
   ]
  },
  {
   "cell_type": "code",
   "execution_count": 32,
   "id": "725586c6-a2c1-4d98-a06f-2719cf3caeb2",
   "metadata": {},
   "outputs": [
    {
     "data": {
      "text/plain": [
       "{'eight', 'five', 'four', 'nine', 'one', 'seven', 'six', 'three', 'two'}"
      ]
     },
     "execution_count": 32,
     "metadata": {},
     "output_type": "execute_result"
    }
   ],
   "source": [
    " myset1 # myset1 will be also impacted as it is pointing to the same Set"
   ]
  },
  {
   "cell_type": "code",
   "execution_count": 33,
   "id": "0cb4918a-1173-4836-bd09-643fd2c26cdf",
   "metadata": {},
   "outputs": [
    {
     "data": {
      "text/plain": [
       "{'eight', 'five', 'four', 'one', 'seven', 'six', 'three', 'two'}"
      ]
     },
     "execution_count": 33,
     "metadata": {},
     "output_type": "execute_result"
    }
   ],
   "source": [
    "my_set # Copy of the set won't be impacted due to changes made on the original S "
   ]
  },
  {
   "cell_type": "markdown",
   "id": "b93990df-b72d-46fa-b35e-35f4f4dc2625",
   "metadata": {},
   "source": [
    "# Set Operation"
   ]
  },
  {
   "cell_type": "markdown",
   "id": "6c86e69c-70f9-4db7-809b-481900c2e7af",
   "metadata": {},
   "source": [
    "## Union"
   ]
  },
  {
   "cell_type": "code",
   "execution_count": 34,
   "id": "f55ec2a9-057f-4d74-8818-f10d6c108875",
   "metadata": {},
   "outputs": [],
   "source": [
    "A = {1,2,3,4,5} \n",
    "B = {4,5,6,7,8} \n",
    "C = {8,9,10}"
   ]
  },
  {
   "cell_type": "code",
   "execution_count": 35,
   "id": "1b315883-f00f-4ecd-ab16-806f58173db3",
   "metadata": {},
   "outputs": [
    {
     "data": {
      "text/plain": [
       "{1, 2, 3, 4, 5, 6, 7, 8}"
      ]
     },
     "execution_count": 35,
     "metadata": {},
     "output_type": "execute_result"
    }
   ],
   "source": [
    "A | B # Union of A and B (All elements from both sets. NO DUPLICATES) "
   ]
  },
  {
   "cell_type": "code",
   "execution_count": null,
   "id": "4156e507-cb65-418c-91e9-3c3987440a2c",
   "metadata": {},
   "outputs": [],
   "source": []
  },
  {
   "cell_type": "code",
   "execution_count": 36,
   "id": "ab8498cf-0e45-48eb-b5c4-1f8604bdd2a0",
   "metadata": {},
   "outputs": [
    {
     "data": {
      "text/plain": [
       "{1, 2, 3, 4, 5, 6, 7, 8}"
      ]
     },
     "execution_count": 36,
     "metadata": {},
     "output_type": "execute_result"
    }
   ],
   "source": [
    "A.union(B) # Union of A and B "
   ]
  },
  {
   "cell_type": "code",
   "execution_count": 37,
   "id": "e243cfa6-34a9-43a7-8056-67fa627f3bdd",
   "metadata": {},
   "outputs": [
    {
     "data": {
      "text/plain": [
       "{1, 2, 3, 4, 5, 6, 7, 8, 9, 10}"
      ]
     },
     "execution_count": 37,
     "metadata": {},
     "output_type": "execute_result"
    }
   ],
   "source": [
    "A.union(B, C) # Union of A, B and C. "
   ]
  },
  {
   "cell_type": "code",
   "execution_count": 38,
   "id": "7f8eefcc-94e8-4bba-b490-5a16f5bbba07",
   "metadata": {},
   "outputs": [
    {
     "data": {
      "text/plain": [
       "{1, 2, 3, 4, 5, 6, 7, 8, 9, 10}"
      ]
     },
     "execution_count": 38,
     "metadata": {},
     "output_type": "execute_result"
    }
   ],
   "source": [
    "\n",
    "\"\"\" \n",
    "Updates the set calling the update() method with union of A , B & C. \n",
    "For below example Set A will be updated with union of A,B & C. \n",
    "\"\"\" \n",
    "A.update(B,C) \n",
    "A "
   ]
  },
  {
   "cell_type": "markdown",
   "id": "47f2a88d-85b3-4d52-9f49-3b6bd25c1a3a",
   "metadata": {},
   "source": [
    "## Intersection"
   ]
  },
  {
   "cell_type": "code",
   "execution_count": 39,
   "id": "29fae25a-2689-4bf8-a64e-a4b01f3e83c4",
   "metadata": {},
   "outputs": [],
   "source": [
    "A = {1,2,3,4,5} \n",
    "B = {4,5,6,7,8} "
   ]
  },
  {
   "cell_type": "code",
   "execution_count": 40,
   "id": "4269fa93-5a7b-4286-90ef-966fa4d179e8",
   "metadata": {},
   "outputs": [
    {
     "data": {
      "text/plain": [
       "{4, 5}"
      ]
     },
     "execution_count": 40,
     "metadata": {},
     "output_type": "execute_result"
    }
   ],
   "source": [
    "A & B # Intersection of A and B (Common items in both sets) "
   ]
  },
  {
   "cell_type": "code",
   "execution_count": 42,
   "id": "9795126a-bd0d-4e93-98aa-646ce35d9fb2",
   "metadata": {},
   "outputs": [
    {
     "data": {
      "text/plain": [
       "{4, 5}"
      ]
     },
     "execution_count": 42,
     "metadata": {},
     "output_type": "execute_result"
    }
   ],
   "source": [
    "A.intersection(B) #Intersection of A and B "
   ]
  },
  {
   "cell_type": "code",
   "execution_count": 43,
   "id": "2cd7fc3d-b222-4de6-a633-d011232400c4",
   "metadata": {},
   "outputs": [
    {
     "data": {
      "text/plain": [
       "{4, 5}"
      ]
     },
     "execution_count": 43,
     "metadata": {},
     "output_type": "execute_result"
    }
   ],
   "source": [
    "\"\"\"\n",
    "Updates the set calling the intersection_update() method with the intersection o \n",
    "For below example Set A will be updated with the intersection of A & B. \n",
    "\"\"\" \n",
    "A.intersection_update(B) \n",
    "A "
   ]
  },
  {
   "cell_type": "markdown",
   "id": "734a7fee-d506-442d-93ff-75e3e22d74c0",
   "metadata": {},
   "source": [
    "## Difference"
   ]
  },
  {
   "cell_type": "code",
   "execution_count": 44,
   "id": "00c56d5f-04d5-4144-bcc7-0ae55e73844d",
   "metadata": {},
   "outputs": [],
   "source": [
    "A = {1,2,3,4,5} \n",
    "B = {4,5,6,7,8} "
   ]
  },
  {
   "cell_type": "code",
   "execution_count": 45,
   "id": "d4c90ae9-95e8-4379-b5be-113f1c6ee699",
   "metadata": {},
   "outputs": [
    {
     "data": {
      "text/plain": [
       "{1, 2, 3}"
      ]
     },
     "execution_count": 45,
     "metadata": {},
     "output_type": "execute_result"
    }
   ],
   "source": [
    "A - B # set of elements that are only in A but not in B "
   ]
  },
  {
   "cell_type": "code",
   "execution_count": 46,
   "id": "c011197c-0138-4e2d-983b-af417bd3f40f",
   "metadata": {},
   "outputs": [
    {
     "data": {
      "text/plain": [
       "{1, 2, 3}"
      ]
     },
     "execution_count": 46,
     "metadata": {},
     "output_type": "execute_result"
    }
   ],
   "source": [
    "A.difference(B) # Difference of sets "
   ]
  },
  {
   "cell_type": "code",
   "execution_count": 47,
   "id": "5ebcfe75-7b0a-42ba-98b6-df9216f45b2f",
   "metadata": {},
   "outputs": [
    {
     "data": {
      "text/plain": [
       "{6, 7, 8}"
      ]
     },
     "execution_count": 47,
     "metadata": {},
     "output_type": "execute_result"
    }
   ],
   "source": [
    "B- A # set of elements that are only in B but not in A "
   ]
  },
  {
   "cell_type": "code",
   "execution_count": 48,
   "id": "9eae4fa2-0984-4797-90bb-3e97a170e3b8",
   "metadata": {},
   "outputs": [
    {
     "data": {
      "text/plain": [
       "{6, 7, 8}"
      ]
     },
     "execution_count": 48,
     "metadata": {},
     "output_type": "execute_result"
    }
   ],
   "source": [
    "B.difference(A) "
   ]
  },
  {
   "cell_type": "code",
   "execution_count": 49,
   "id": "69d01b94-25fe-431c-a013-bbd028dce34b",
   "metadata": {},
   "outputs": [
    {
     "data": {
      "text/plain": [
       "{6, 7, 8}"
      ]
     },
     "execution_count": 49,
     "metadata": {},
     "output_type": "execute_result"
    }
   ],
   "source": [
    "\"\"\" \n",
    "Updates the set calling the difference_update() method with the difference of se \n",
    "For below example Set B will be updated with the difference of B & A. \n",
    "\"\"\" \n",
    "B.difference_update(A) \n",
    "B "
   ]
  },
  {
   "cell_type": "markdown",
   "id": "e849806f-b80b-48d7-921d-0cb48910fcad",
   "metadata": {},
   "source": [
    "## Symmetric Difference"
   ]
  },
  {
   "cell_type": "code",
   "execution_count": 50,
   "id": "62b5179d-a527-4bb9-94d3-7a418573ddae",
   "metadata": {},
   "outputs": [],
   "source": [
    "A = {1,2,3,4,5} \n",
    "B = {4,5,6,7,8} "
   ]
  },
  {
   "cell_type": "code",
   "execution_count": 51,
   "id": "97898463-765b-4ad2-ba6d-a6057499873b",
   "metadata": {},
   "outputs": [
    {
     "data": {
      "text/plain": [
       "{1, 2, 3, 6, 7, 8}"
      ]
     },
     "execution_count": 51,
     "metadata": {},
     "output_type": "execute_result"
    }
   ],
   "source": [
    "A ^ B # Symmetric difference (Set of elements in A and B but not in both. \"EXCLUDE SAME\""
   ]
  },
  {
   "cell_type": "code",
   "execution_count": 52,
   "id": "40a035a2-89a5-4de5-ab77-76c7e3909c13",
   "metadata": {},
   "outputs": [
    {
     "data": {
      "text/plain": [
       "{1, 2, 3, 6, 7, 8}"
      ]
     },
     "execution_count": 52,
     "metadata": {},
     "output_type": "execute_result"
    }
   ],
   "source": [
    "A.symmetric_difference(B) # Symmetric difference of sets "
   ]
  },
  {
   "cell_type": "code",
   "execution_count": 53,
   "id": "65fd2c82-4cf1-48d0-8b74-6cb78e1a1ce6",
   "metadata": {},
   "outputs": [
    {
     "data": {
      "text/plain": [
       "{1, 2, 3, 6, 7, 8}"
      ]
     },
     "execution_count": 53,
     "metadata": {},
     "output_type": "execute_result"
    }
   ],
   "source": [
    "\n",
    "\"\"\" \n",
    "Updates the set calling the symmetric_difference_update() method with the symmet \n",
    "For below example Set A will be updated with the symmetric difference of A & B. \n",
    "\"\"\" \n",
    "A.symmetric_difference_update(B) \n",
    "A "
   ]
  },
  {
   "cell_type": "markdown",
   "id": "0eb4db72-6005-41ab-b69c-2de14cf50ccb",
   "metadata": {},
   "source": [
    "# Subset , Superset & Disjoint "
   ]
  },
  {
   "cell_type": "code",
   "execution_count": 54,
   "id": "3eb25eb1-0bf4-4069-a15e-90b9aa3db04f",
   "metadata": {},
   "outputs": [],
   "source": [
    "A = {1,2,3,4,5,6,7,8,9} \n",
    "B = {3,4,5,6,7,8} \n",
    "C = {10,20,30,40}"
   ]
  },
  {
   "cell_type": "code",
   "execution_count": 55,
   "id": "89a35d9b-ae91-4954-a233-a183a09049ca",
   "metadata": {},
   "outputs": [
    {
     "data": {
      "text/plain": [
       "True"
      ]
     },
     "execution_count": 55,
     "metadata": {},
     "output_type": "execute_result"
    }
   ],
   "source": [
    " B.issubset(A) # Set B is said to be the subset of set A if all elements of B are in A"
   ]
  },
  {
   "cell_type": "code",
   "execution_count": 56,
   "id": "4bb15ef4-1394-4d34-ba4d-713ba744a5fe",
   "metadata": {},
   "outputs": [
    {
     "data": {
      "text/plain": [
       "True"
      ]
     },
     "execution_count": 56,
     "metadata": {},
     "output_type": "execute_result"
    }
   ],
   "source": [
    "A.issuperset(B) "
   ]
  },
  {
   "cell_type": "code",
   "execution_count": 57,
   "id": "4877eb6c-1c8d-47d1-ad63-00c6df2273e0",
   "metadata": {},
   "outputs": [
    {
     "data": {
      "text/plain": [
       "True"
      ]
     },
     "execution_count": 57,
     "metadata": {},
     "output_type": "execute_result"
    }
   ],
   "source": [
    "C.isdisjoint(A) # Two sets are said to be disjoint sets if they have no common elemets"
   ]
  },
  {
   "cell_type": "code",
   "execution_count": 58,
   "id": "0ba16390-2a7e-41cd-a084-015dc67d6e80",
   "metadata": {},
   "outputs": [
    {
     "data": {
      "text/plain": [
       "False"
      ]
     },
     "execution_count": 58,
     "metadata": {},
     "output_type": "execute_result"
    }
   ],
   "source": [
    "B.isdisjoint(A) # Two sets are said to be disjoint sets if they have no common elements"
   ]
  },
  {
   "cell_type": "markdown",
   "id": "0f3ea70e-2dfc-4732-8d16-2db6b63a07c1",
   "metadata": {},
   "source": [
    "## Other builtin function"
   ]
  },
  {
   "cell_type": "code",
   "execution_count": 59,
   "id": "655e5225-de5f-49cc-b2dd-985e13a822ea",
   "metadata": {},
   "outputs": [
    {
     "data": {
      "text/plain": [
       "{1, 2, 3, 4, 5, 6, 7, 8, 9}"
      ]
     },
     "execution_count": 59,
     "metadata": {},
     "output_type": "execute_result"
    }
   ],
   "source": [
    "A"
   ]
  },
  {
   "cell_type": "code",
   "execution_count": 60,
   "id": "d3171caf-ab5d-44e7-92e1-6331de94920e",
   "metadata": {},
   "outputs": [
    {
     "data": {
      "text/plain": [
       "45"
      ]
     },
     "execution_count": 60,
     "metadata": {},
     "output_type": "execute_result"
    }
   ],
   "source": [
    "sum(A)"
   ]
  },
  {
   "cell_type": "code",
   "execution_count": 61,
   "id": "e5acefd7-351f-4c95-a158-03478f5acd35",
   "metadata": {},
   "outputs": [
    {
     "data": {
      "text/plain": [
       "9"
      ]
     },
     "execution_count": 61,
     "metadata": {},
     "output_type": "execute_result"
    }
   ],
   "source": [
    "max(A) "
   ]
  },
  {
   "cell_type": "code",
   "execution_count": 62,
   "id": "ebca1e46-fe22-481a-b0cd-04f0c5d2f18b",
   "metadata": {},
   "outputs": [
    {
     "data": {
      "text/plain": [
       "1"
      ]
     },
     "execution_count": 62,
     "metadata": {},
     "output_type": "execute_result"
    }
   ],
   "source": [
    "min(A) "
   ]
  },
  {
   "cell_type": "code",
   "execution_count": 63,
   "id": "c9b13428-b005-49cb-aa8a-4d5ddeaf6d0a",
   "metadata": {},
   "outputs": [
    {
     "data": {
      "text/plain": [
       "9"
      ]
     },
     "execution_count": 63,
     "metadata": {},
     "output_type": "execute_result"
    }
   ],
   "source": [
    "len(A) "
   ]
  },
  {
   "cell_type": "code",
   "execution_count": 64,
   "id": "1df5f1c6-f327-44f9-91be-dea031b121e2",
   "metadata": {},
   "outputs": [
    {
     "data": {
      "text/plain": [
       "[(0, 1), (1, 2), (2, 3), (3, 4), (4, 5), (5, 6), (6, 7), (7, 8), (8, 9)]"
      ]
     },
     "execution_count": 64,
     "metadata": {},
     "output_type": "execute_result"
    }
   ],
   "source": [
    "list(enumerate(A)) "
   ]
  },
  {
   "cell_type": "code",
   "execution_count": 65,
   "id": "444e5710-a280-45d2-9b94-2061dd8bcb49",
   "metadata": {},
   "outputs": [
    {
     "data": {
      "text/plain": [
       "[9, 8, 7, 6, 5, 4, 3, 2, 1]"
      ]
     },
     "execution_count": 65,
     "metadata": {},
     "output_type": "execute_result"
    }
   ],
   "source": [
    "D= sorted(A,reverse=True) \n",
    "D "
   ]
  },
  {
   "cell_type": "code",
   "execution_count": null,
   "id": "dc6b9b7b-d439-464f-ac14-3f9252354b65",
   "metadata": {},
   "outputs": [],
   "source": [
    "sorted(D) "
   ]
  }
 ],
 "metadata": {
  "kernelspec": {
   "display_name": "Python 3",
   "language": "python",
   "name": "python3"
  },
  "language_info": {
   "codemirror_mode": {
    "name": "ipython",
    "version": 3
   },
   "file_extension": ".py",
   "mimetype": "text/x-python",
   "name": "python",
   "nbconvert_exporter": "python",
   "pygments_lexer": "ipython3",
   "version": "3.13.3"
  }
 },
 "nbformat": 4,
 "nbformat_minor": 5
}
