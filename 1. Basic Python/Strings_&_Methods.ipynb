{
 "cells": [
  {
   "cell_type": "markdown",
   "id": "8758851c-2c53-4b37-ade2-796cfef8d88a",
   "metadata": {},
   "source": [
    "\n",
    "# Strings and String Methods in Python**"
   ]
  },
  {
   "cell_type": "markdown",
   "id": "ef5b3008-6ea3-41a0-b9f6-b7ed74ff128c",
   "metadata": {},
   "source": [
    "\n",
    "Today, I explored Python **strings** in depth. I learned how to define strings using single or double quotes, and how to handle multi-line strings using triple quotes. I practiced **string concatenation**, **indexing**, **slicing**, and **unpacking characters**.\n",
    "\n",
    "I also learned about **escape sequences** such as `\\n` (newline), `\\t` (tab), and `\\\\` (backslash), which help format strings in a readable way.\n",
    "\n",
    "A major part of today's learning was discovering **string methods**—powerful built-in functions like `capitalize()`, `count()`, `find()`, `replace()`, `split()`, `join()`, and many more. These methods help manipulate and analyze strings efficiently, which is a crucial skill in real-world Python programming, especially in data cleaning and user input processing.\n"
   ]
  },
  {
   "cell_type": "markdown",
   "id": "3c1531fb-032a-4d5a-92c2-c9236590abc4",
   "metadata": {},
   "source": [
    "# Key Concepts Practiced:\n",
    "\n",
    "* String declaration (`'Hello'`, `\"World\"`)\n",
    "* Multiline strings (`'''...'''`, `\"\"\"...\"\"\"`)\n",
    "* String length with `len()`\n",
    "* Concatenation and formatting using `+` and `.format()`\n",
    "* Indexing, slicing, and negative indexing\n",
    "* Escape characters for formatting (`\\n`, `\\t`, etc.)\n",
    "* String methods:\n",
    "\n",
    "  * `capitalize()`, `count()`, `endswith()`, `find()`, `index()`\n",
    "  * `isalnum()`, `isalpha()`, `isdigit()`, `isdecimal()`, `isidentifier()`\n",
    "  * `islower()`, `isupper()`, `isnumeric()`, `strip()`, `replace()`\n",
    "  * `split()`, `join()`, `title()`, `swapcase()`, `startswith()`\n",
    "\n"
   ]
  },
  {
   "cell_type": "markdown",
   "id": "9fb1c807-b3fc-4b83-a644-d2c4973c426c",
   "metadata": {},
   "source": [
    "# Single line comment"
   ]
  },
  {
   "cell_type": "code",
   "execution_count": 1,
   "id": "19abada6-5695-46b3-9b31-7cfa880f1a99",
   "metadata": {},
   "outputs": [
    {
     "name": "stdout",
     "output_type": "stream",
     "text": [
      "P\n",
      "1\n",
      "Hello, World!\n",
      "13\n",
      "I hope you are enjoying 30 days of python challenge\n"
     ]
    }
   ],
   "source": [
    "# Single line comment\n",
    "letter = 'P'                # A string could be a single character or a bunch of texts\n",
    "print(letter)               # P\n",
    "print(len(letter))          # 1\n",
    "greeting = 'Hello, World!'  # String could be  a single or double quote,\"Hello, World!\"\n",
    "print(greeting)             # Hello, World!\n",
    "print(len(greeting))        # 13\n",
    "sentence = \"I hope you are enjoying 30 days of python challenge\"\n",
    "print(sentence)\n"
   ]
  },
  {
   "cell_type": "markdown",
   "id": "d687c2ab-098b-4a77-85ca-b49653c11eb7",
   "metadata": {},
   "source": [
    "# Multiline String"
   ]
  },
  {
   "cell_type": "code",
   "execution_count": 5,
   "id": "36d20b29-00e2-43d1-9be7-2dce799183f0",
   "metadata": {},
   "outputs": [
    {
     "name": "stdout",
     "output_type": "stream",
     "text": [
      "I am a teacher and enjoy teaching.\n",
      "I didn't find anything as rewarding as empowering people.\n",
      "That is why I created 30 days of python.\n"
     ]
    }
   ],
   "source": [
    "# Multiline String\n",
    "multiline_string = '''I am a teacher and enjoy teaching.\n",
    "I didn't find anything as rewarding as empowering people.\n",
    "That is why I created 30 days of python.'''\n",
    "print(multiline_string)"
   ]
  },
  {
   "cell_type": "markdown",
   "id": "d8bb136b-c260-475e-9a14-d4c70e2b2338",
   "metadata": {},
   "source": [
    "#### Another way of doing the same thing"
   ]
  },
  {
   "cell_type": "code",
   "execution_count": null,
   "id": "fa07d9be-3677-4d1f-9ad3-72f8ef0ce46b",
   "metadata": {},
   "outputs": [],
   "source": [
    "# Another way of doing the same thing\n",
    "multiline_string = \"\"\"I am a teacher and enjoy teaching.\n",
    "I didn't find anything as rewarding as empowering people.\n",
    "That is why I created 30 days of python.\"\"\"\n",
    "print(multiline_string)"
   ]
  },
  {
   "cell_type": "code",
   "execution_count": null,
   "id": "cf10c298-5f78-4ef7-8131-a214afacf771",
   "metadata": {},
   "outputs": [],
   "source": []
  },
  {
   "cell_type": "code",
   "execution_count": null,
   "id": "5aec38ad-cbc2-4b7d-9ace-4b399c2e5d9d",
   "metadata": {},
   "outputs": [
    {
     "name": "stdout",
     "output_type": "stream",
     "text": [
      "Shalini Kumari\n",
      "7\n",
      "6\n",
      "True\n",
      "14\n"
     ]
    }
   ],
   "source": [
    "# String Concatenation\n",
    "first_name = 'Shalini'\n",
    "last_name = 'Kumari'\n",
    "space = ' '\n",
    "full_name = first_name  +  space + last_name\n",
    "print(full_name) # Shalini Kumari\n",
    "# Checking length of a string using len() builtin function\n",
    "print(len(first_name))  # 6\n",
    "print(len(last_name))   # 7\n",
    "print(len(first_name) > len(last_name)) # True\n",
    "print(len(full_name)) # 14\n"
   ]
  },
  {
   "cell_type": "markdown",
   "id": "510f4c78-ffb0-444c-86e7-dc86fd28ca3a",
   "metadata": {},
   "source": [
    "# Unpacking characters "
   ]
  },
  {
   "cell_type": "code",
   "execution_count": 3,
   "id": "d47334b0-bc26-4064-ad81-82dddcee426b",
   "metadata": {},
   "outputs": [
    {
     "name": "stdout",
     "output_type": "stream",
     "text": [
      "P\n",
      "y\n",
      "t\n",
      "h\n",
      "o\n",
      "n\n"
     ]
    }
   ],
   "source": [
    "#### Unpacking characters \n",
    "language = 'Python'\n",
    "a,b,c,d,e,f = language # unpacking sequence characters into variables\n",
    "print(a) # P\n",
    "print(b) # y\n",
    "print(c) # t \n",
    "print(d) # h\n",
    "print(e) # o\n",
    "print(f) # n"
   ]
  },
  {
   "cell_type": "markdown",
   "id": "cd65b3dd-2fe8-49b6-9fb2-87fbff37d997",
   "metadata": {},
   "source": [
    "# Accessing characters in strings by index"
   ]
  },
  {
   "cell_type": "code",
   "execution_count": 4,
   "id": "f99c23cc-5e79-4a13-950f-f54cfb603fd4",
   "metadata": {},
   "outputs": [
    {
     "name": "stdout",
     "output_type": "stream",
     "text": [
      "P\n",
      "y\n",
      "n\n"
     ]
    }
   ],
   "source": [
    "# Accessing characters in strings by index\n",
    "language = 'Python'\n",
    "first_letter = language[0]\n",
    "print(first_letter) # P\n",
    "second_letter = language[1]\n",
    "print(second_letter) # y\n",
    "last_index = len(language) - 1\n",
    "last_letter = language[last_index]\n",
    "print(last_letter) # n"
   ]
  },
  {
   "cell_type": "code",
   "execution_count": 9,
   "id": "4632dcc3-62a8-4589-a030-41e08bf65ec2",
   "metadata": {},
   "outputs": [
    {
     "name": "stdout",
     "output_type": "stream",
     "text": [
      "n\n",
      "o\n"
     ]
    }
   ],
   "source": [
    "# If we want to start from right end we can use negative indexing. -1 is the last index\n",
    "language = 'Python'\n",
    "last_letter = language[-1]\n",
    "print(last_letter) # n\n",
    "second_last = language[-2]\n",
    "print(second_last) # o\n"
   ]
  },
  {
   "cell_type": "markdown",
   "id": "0263c27b-5805-4b06-8f4f-1113ddd23452",
   "metadata": {},
   "source": [
    "# Slicing"
   ]
  },
  {
   "cell_type": "code",
   "execution_count": 10,
   "id": "7f291e76-6fd8-42f2-9637-ff24debd0ff1",
   "metadata": {},
   "outputs": [
    {
     "name": "stdout",
     "output_type": "stream",
     "text": [
      "hon\n",
      "hon\n",
      "hon\n"
     ]
    }
   ],
   "source": [
    "# Slicing\n",
    "language = 'Python'\n",
    "first_three = language[0:3] # starts at zero index and up to 3 but not include 3\n",
    "last_three = language[3:6]\n",
    "print(last_three) # hon\n",
    "# Another way\n",
    "last_three = language[-3:]\n",
    "print(last_three)   # hon\n",
    "last_three = language[3:]\n",
    "print(last_three)   # hon\n"
   ]
  },
  {
   "cell_type": "code",
   "execution_count": 11,
   "id": "2ca87f08-1c02-4238-b74e-047a7b674016",
   "metadata": {},
   "outputs": [
    {
     "name": "stdout",
     "output_type": "stream",
     "text": [
      "Pto\n"
     ]
    }
   ],
   "source": [
    "# Skipping character while splitting Python strings\n",
    "language = 'Python'\n",
    "pto = language[0:6:2] # \n",
    "print(pto) # pto\n"
   ]
  },
  {
   "cell_type": "markdown",
   "id": "04255ef2-558e-4907-bee1-f56fc2de1431",
   "metadata": {},
   "source": [
    "# Escape sequence"
   ]
  },
  {
   "cell_type": "code",
   "execution_count": 12,
   "id": "5314b9c6-357d-42b4-a82a-af376a96044a",
   "metadata": {},
   "outputs": [
    {
     "name": "stdout",
     "output_type": "stream",
     "text": [
      "I hope every one enjoying the python challenge.\n",
      "Do you ?\n",
      "Days\tTopics\tExercises\n",
      "Day 1\t3\t5\n",
      "Day 2\t3\t5\n",
      "Day 3\t3\t5\n",
      "Day 4\t3\t5\n",
      "This is a back slash  symbol (\\)\n",
      "In every programming language it starts with \"Hello, World!\"\n"
     ]
    }
   ],
   "source": [
    "# Escape sequence\n",
    "print('I hope every one enjoying the python challenge.\\nDo you ?') # line break\n",
    "print('Days\\tTopics\\tExercises')\n",
    "print('Day 1\\t3\\t5')\n",
    "print('Day 2\\t3\\t5')\n",
    "print('Day 3\\t3\\t5')\n",
    "print('Day 4\\t3\\t5')\n",
    "print('This is a back slash  symbol (\\\\)') # To write a back slash\n",
    "print('In every programming language it starts with \\\"Hello, World!\\\"')"
   ]
  },
  {
   "cell_type": "markdown",
   "id": "32668d7a-23e6-4678-a474-67ceb9affbeb",
   "metadata": {},
   "source": [
    "# String Methods"
   ]
  },
  {
   "cell_type": "markdown",
   "id": "250fd1e6-74eb-4d66-b5e4-2273bfcb42c8",
   "metadata": {},
   "source": [
    "### capitalize(): Converts the first character the string to Capital Letter\n"
   ]
  },
  {
   "cell_type": "code",
   "execution_count": 13,
   "id": "fa1d9778-5bb7-4c7f-b1a3-cf37f08ed4fc",
   "metadata": {},
   "outputs": [
    {
     "name": "stdout",
     "output_type": "stream",
     "text": [
      "Thirty days of python\n"
     ]
    }
   ],
   "source": [
    "# capitalize(): Converts the first character the string to Capital Letter\n",
    "\n",
    "challenge = 'thirty days of python'\n",
    "print(challenge.capitalize()) # 'Thirty days of python'"
   ]
  },
  {
   "cell_type": "markdown",
   "id": "4c42d346-84e3-4c46-8848-849cd648b0ca",
   "metadata": {},
   "source": [
    "###  count(): returns occurrences of substring in string, count(substring, start=.., end=..)"
   ]
  },
  {
   "cell_type": "code",
   "execution_count": 14,
   "id": "452aef6c-1118-4263-b781-c00bbfa1b585",
   "metadata": {},
   "outputs": [
    {
     "name": "stdout",
     "output_type": "stream",
     "text": [
      "3\n",
      "1\n",
      "2\n"
     ]
    }
   ],
   "source": [
    "# count(): returns occurrences of substring in string, count(substring, start=.., end=..)\n",
    "\n",
    "challenge = 'thirty days of python'\n",
    "print(challenge.count('y')) # 3\n",
    "print(challenge.count('y', 7, 14)) # 1\n",
    "print(challenge.count('th')) # 2`"
   ]
  },
  {
   "cell_type": "markdown",
   "id": "49bb3aa3-56a9-4da7-b80b-7a87eb7ea731",
   "metadata": {},
   "source": [
    "### endswith(): Checks if a string ends with a specified ending"
   ]
  },
  {
   "cell_type": "code",
   "execution_count": 15,
   "id": "f07668dc-410c-4e10-8673-d0f68eee40c4",
   "metadata": {},
   "outputs": [
    {
     "name": "stdout",
     "output_type": "stream",
     "text": [
      "True\n",
      "False\n"
     ]
    }
   ],
   "source": [
    "# endswith(): Checks if a string ends with a specified ending\n",
    "\n",
    "challenge = 'thirty days of python'\n",
    "print(challenge.endswith('on'))   # True\n",
    "print(challenge.endswith('tion')) # False"
   ]
  },
  {
   "cell_type": "markdown",
   "id": "0eaf3159-8903-41b1-8dff-41abac77981c",
   "metadata": {},
   "source": [
    "### expandtabs(): Replaces tab character with spaces, default tab size is 8. It takes tab size argument"
   ]
  },
  {
   "cell_type": "code",
   "execution_count": 16,
   "id": "b54be51b-6749-4425-ac93-19f76551d8e0",
   "metadata": {},
   "outputs": [
    {
     "name": "stdout",
     "output_type": "stream",
     "text": [
      "thirty  days    of      python\n",
      "thirty    days      of        python\n"
     ]
    }
   ],
   "source": [
    "# expandtabs(): Replaces tab character with spaces, default tab size is 8. It takes tab size argument\n",
    "\n",
    "challenge = 'thirty\\tdays\\tof\\tpython'\n",
    "print(challenge.expandtabs())   # 'thirty  days    of      python'\n",
    "print(challenge.expandtabs(10)) # 'thirty    days      of        python'"
   ]
  },
  {
   "cell_type": "markdown",
   "id": "a22e6784-ba14-4eb6-94c2-749d528f0682",
   "metadata": {},
   "source": [
    "### find(): Returns the index of first occurrence of substring"
   ]
  },
  {
   "cell_type": "code",
   "execution_count": 17,
   "id": "f4a3b481-6c85-45b8-be2c-88b9b6281ded",
   "metadata": {},
   "outputs": [
    {
     "name": "stdout",
     "output_type": "stream",
     "text": [
      "5\n",
      "0\n"
     ]
    }
   ],
   "source": [
    "# find(): Returns the index of first occurrence of substring\n",
    "\n",
    "challenge = 'thirty days of python'\n",
    "print(challenge.find('y'))  # 5\n",
    "print(challenge.find('th')) # 0\n"
   ]
  },
  {
   "cell_type": "markdown",
   "id": "d93c32bb-892a-47e2-bb9f-398e1e2fe45c",
   "metadata": {},
   "source": [
    "### format()\tformats string into nicer output  "
   ]
  },
  {
   "cell_type": "code",
   "execution_count": null,
   "id": "8115b5b1-e289-40fa-b1bd-cbc6111f5ecc",
   "metadata": {},
   "outputs": [
    {
     "name": "stdout",
     "output_type": "stream",
     "text": [
      "I am Shalini Kumari. I live in India.\n"
     ]
    }
   ],
   "source": [
    "# format()\tformats string into nicer output    \n",
    "first_name = 'Shalini'\n",
    "last_name = 'Kumari'\n",
    "country = 'India'\n",
    "sentence = 'I am {} {}. I live in {}.'.format(first_name, last_name, country)\n",
    "print(sentence) # I am Shalini Kumari. I live in India."
   ]
  },
  {
   "cell_type": "code",
   "execution_count": 9,
   "id": "2a1786f9-fe59-4d39-8d1b-3bf9b0e02f53",
   "metadata": {},
   "outputs": [
    {
     "name": "stdout",
     "output_type": "stream",
     "text": [
      "The area of circle with 10 is 3.14\n"
     ]
    }
   ],
   "source": [
    "radius = 10\n",
    "pi = 3.14\n",
    "area = pi # radius ## 2\n",
    "result = 'The area of circle with {} is {}'.format(str(radius), str(area))\n",
    "print(result) # The area of circle with 10 is 314.0"
   ]
  },
  {
   "cell_type": "markdown",
   "id": "9092c630-5610-4078-8114-7fe9c4b010ed",
   "metadata": {},
   "source": [
    "### index(): Returns the index of substring\n"
   ]
  },
  {
   "cell_type": "code",
   "execution_count": 20,
   "id": "73e4a0f7-6e2f-4dc9-af29-f6f77852947e",
   "metadata": {},
   "outputs": [
    {
     "name": "stdout",
     "output_type": "stream",
     "text": [
      "5\n",
      "0\n"
     ]
    }
   ],
   "source": [
    "# index(): Returns the index of substring\n",
    "challenge = 'thirty days of python'\n",
    "print(challenge.find('y'))  # 5\n",
    "print(challenge.find('th')) # 0"
   ]
  },
  {
   "cell_type": "markdown",
   "id": "56ff37d0-51a3-43cc-93cb-68d5114c8be1",
   "metadata": {},
   "source": [
    "### isalnum(): Checks alphanumeric character"
   ]
  },
  {
   "cell_type": "code",
   "execution_count": 21,
   "id": "986b894f-912f-426e-ade3-689ee328fdfd",
   "metadata": {},
   "outputs": [
    {
     "name": "stdout",
     "output_type": "stream",
     "text": [
      "True\n",
      "True\n",
      "False\n",
      "False\n"
     ]
    }
   ],
   "source": [
    "challenge = 'ThirtyDaysPython'\n",
    "print(challenge.isalnum()) # True\n",
    "\n",
    "challenge = '30DaysPython'\n",
    "print(challenge.isalnum()) # True\n",
    "\n",
    "challenge = 'thirty days of python'\n",
    "print(challenge.isalnum()) # False\n",
    "\n",
    "challenge = 'thirty days of python 2019'\n",
    "print(challenge.isalnum()) # False"
   ]
  },
  {
   "cell_type": "markdown",
   "id": "7dc3e0ba-e902-4fa3-a64e-550ef77d0f7e",
   "metadata": {},
   "source": [
    "### isalpha(): Checks if all characters are alphabets"
   ]
  },
  {
   "cell_type": "code",
   "execution_count": 22,
   "id": "033cfbe4-b7cb-41aa-9d68-2352c622719e",
   "metadata": {},
   "outputs": [
    {
     "name": "stdout",
     "output_type": "stream",
     "text": [
      "False\n",
      "False\n"
     ]
    }
   ],
   "source": [
    "# isalpha(): Checks if all characters are alphabets\n",
    "\n",
    "challenge = 'thirty days of python'\n",
    "print(challenge.isalpha()) # True\n",
    "num = '123'\n",
    "print(num.isalpha())      # False"
   ]
  },
  {
   "cell_type": "markdown",
   "id": "3c2b1c78-5e8a-433d-be05-469cf277869e",
   "metadata": {},
   "source": [
    "### isdecimal(): Checks Decimal Characters"
   ]
  },
  {
   "cell_type": "code",
   "execution_count": 23,
   "id": "d15f533e-c704-485b-9dfc-5d622a0fae8c",
   "metadata": {},
   "outputs": [
    {
     "name": "stdout",
     "output_type": "stream",
     "text": [
      "5\n",
      "0\n"
     ]
    }
   ],
   "source": [
    "# isdecimal(): Checks Decimal Characters\n",
    "\n",
    "challenge = 'thirty days of python'\n",
    "print(challenge.find('y'))  # 5\n",
    "print(challenge.find('th')) # 0"
   ]
  },
  {
   "cell_type": "markdown",
   "id": "8fce42e0-a73c-4416-9764-00c62eaa6c70",
   "metadata": {},
   "source": [
    "### isdigit(): Checks Digit Characters"
   ]
  },
  {
   "cell_type": "code",
   "execution_count": 26,
   "id": "8cd9ca74-1ab1-4c5f-8d1a-5c9b5288b0be",
   "metadata": {},
   "outputs": [
    {
     "name": "stdout",
     "output_type": "stream",
     "text": [
      "False\n",
      "True\n"
     ]
    }
   ],
   "source": [
    "# isdigit(): Checks Digit Characters\n",
    "\n",
    "challenge = 'Thirty'\n",
    "print(challenge.isdigit()) # False\n",
    "challenge = \"30\"\n",
    "print(challenge.isdigit()) # True"
   ]
  },
  {
   "cell_type": "markdown",
   "id": "c4a97ba5-d380-400d-9085-2d63ec27a6a2",
   "metadata": {},
   "source": [
    "### isdecimal():Checks decimal characters"
   ]
  },
  {
   "cell_type": "code",
   "execution_count": 27,
   "id": "21c1f7c3-3bc1-4d51-acaf-25d32507d0b7",
   "metadata": {},
   "outputs": [
    {
     "name": "stdout",
     "output_type": "stream",
     "text": [
      "True\n",
      "False\n"
     ]
    }
   ],
   "source": [
    "# isdecimal():Checks decimal characters\n",
    "\n",
    "num = '10'\n",
    "print(num.isdecimal()) # True\n",
    "num = '10.5'\n",
    "print(num.isdecimal()) # False"
   ]
  },
  {
   "cell_type": "markdown",
   "id": "26935cea-533c-4486-ad9e-d1aead0995b1",
   "metadata": {},
   "source": [
    "### isidentifier():Checks for valid identifier means it check if a string is a valid variable name"
   ]
  },
  {
   "cell_type": "code",
   "execution_count": 28,
   "id": "aaa771a2-e7df-42fe-94d1-a98b2bed1ec6",
   "metadata": {},
   "outputs": [
    {
     "name": "stdout",
     "output_type": "stream",
     "text": [
      "False\n",
      "True\n"
     ]
    }
   ],
   "source": [
    "# isidentifier():Checks for valid identifier means it check if a string is a valid variable name\n",
    "\n",
    "challenge = '30DaysOfPython'\n",
    "print(challenge.isidentifier()) # False, because it starts with a number\n",
    "challenge = 'thirty_days_of_python'\n",
    "print(challenge.isidentifier()) # True"
   ]
  },
  {
   "cell_type": "markdown",
   "id": "42397847-4d09-415d-8052-60376639677d",
   "metadata": {},
   "source": [
    "### islower():Checks if all alphabets in a string are lowercase\n",
    "\n"
   ]
  },
  {
   "cell_type": "code",
   "execution_count": 29,
   "id": "0a3b918c-e654-406f-ac1e-5b0f6dd12e4f",
   "metadata": {},
   "outputs": [
    {
     "name": "stdout",
     "output_type": "stream",
     "text": [
      "True\n",
      "False\n"
     ]
    }
   ],
   "source": [
    "# islower():Checks if all alphabets in a string are lowercase\n",
    "\n",
    "challenge = 'thirty days of python'\n",
    "print(challenge.islower()) # True\n",
    "challenge = 'Thirty days of python'\n",
    "print(challenge.islower()) # False"
   ]
  },
  {
   "cell_type": "markdown",
   "id": "0114deff-54de-4ae2-b213-68845a017271",
   "metadata": {},
   "source": [
    "### isupper(): returns if all characters are uppercase characters\n",
    "\n"
   ]
  },
  {
   "cell_type": "code",
   "execution_count": 30,
   "id": "29762f3b-85ec-46cb-becc-1f96d1f1f6bf",
   "metadata": {},
   "outputs": [
    {
     "name": "stdout",
     "output_type": "stream",
     "text": [
      "False\n",
      "True\n"
     ]
    }
   ],
   "source": [
    "# isupper(): returns if all characters are uppercase characters\n",
    "\n",
    "challenge = 'thirty days of python'\n",
    "print(challenge.isupper()) #  False\n",
    "challenge = 'THIRTY DAYS OF PYTHON'\n",
    "print(challenge.isupper()) # True"
   ]
  },
  {
   "cell_type": "markdown",
   "id": "6acfa595-9190-4618-8324-ae5beb359df9",
   "metadata": {},
   "source": [
    "### isnumeric():Checks numeric characters"
   ]
  },
  {
   "cell_type": "code",
   "execution_count": 31,
   "id": "23605cad-0f0e-4e12-a6a8-dd83f6ec7fa1",
   "metadata": {},
   "outputs": [
    {
     "name": "stdout",
     "output_type": "stream",
     "text": [
      "True\n",
      "False\n"
     ]
    }
   ],
   "source": [
    "# isnumeric():Checks numeric characters\n",
    "\n",
    "num = '10'\n",
    "print(num.isnumeric())      # True\n",
    "print('ten'.isnumeric())    # False\n"
   ]
  },
  {
   "cell_type": "markdown",
   "id": "f9f6ecf0-329d-426a-9f7f-286a89034bf0",
   "metadata": {},
   "source": [
    "### join(): Returns a concatenated string\n"
   ]
  },
  {
   "cell_type": "code",
   "execution_count": 32,
   "id": "bed38d4f-1f65-4d35-b73d-e1617001ddea",
   "metadata": {},
   "outputs": [
    {
     "name": "stdout",
     "output_type": "stream",
     "text": [
      "HTML#, CSS#, JavaScript#, React\n"
     ]
    }
   ],
   "source": [
    "# join(): Returns a concatenated string\n",
    "\n",
    "web_tech = ['HTML', 'CSS', 'JavaScript', 'React']\n",
    "result = '#, '.join(web_tech)\n",
    "print(result) # 'HTML# CSS# JavaScript# React'\n"
   ]
  },
  {
   "cell_type": "markdown",
   "id": "e0389004-6d1a-4215-819b-79b6363d94b1",
   "metadata": {},
   "source": [
    "### strip(): Removes both leading and trailing characters"
   ]
  },
  {
   "cell_type": "code",
   "execution_count": 33,
   "id": "abd7f20b-7c9d-403d-8b95-f2df068d6ded",
   "metadata": {},
   "outputs": [
    {
     "name": "stdout",
     "output_type": "stream",
     "text": [
      " thirty days of python \n"
     ]
    }
   ],
   "source": [
    "# strip(): Removes both leading and trailing characters\n",
    "\n",
    "challenge = ' thirty days of python '\n",
    "print(challenge.strip('y')) # 5"
   ]
  },
  {
   "cell_type": "markdown",
   "id": "b39c9071-417a-49d4-bab1-ff6f7e834c30",
   "metadata": {},
   "source": [
    "### replace(): Replaces substring inside"
   ]
  },
  {
   "cell_type": "code",
   "execution_count": 34,
   "id": "0541512a-2ce6-480f-918b-779eec8729a8",
   "metadata": {},
   "outputs": [
    {
     "name": "stdout",
     "output_type": "stream",
     "text": [
      "thirty days of coding\n"
     ]
    }
   ],
   "source": [
    "# replace(): Replaces substring inside\n",
    "\n",
    "challenge = 'thirty days of python'\n",
    "print(challenge.replace('python', 'coding')) # 'thirty days of coding'"
   ]
  },
  {
   "cell_type": "markdown",
   "id": "f324a04b-92a4-4bf1-9907-f1b3a794d95a",
   "metadata": {},
   "source": [
    "### split():Splits String from Left"
   ]
  },
  {
   "cell_type": "code",
   "execution_count": 35,
   "id": "bd9de36b-b173-4b6d-acc5-eed497c48b20",
   "metadata": {},
   "outputs": [
    {
     "name": "stdout",
     "output_type": "stream",
     "text": [
      "['thirty', 'days', 'of', 'python']\n"
     ]
    }
   ],
   "source": [
    "# split():Splits String from Left\n",
    "\n",
    "challenge = 'thirty days of python'\n",
    "print(challenge.split()) # ['thirty', 'days', 'of', 'python']"
   ]
  },
  {
   "cell_type": "markdown",
   "id": "395f10de-e850-446c-aea4-3fcefc669684",
   "metadata": {},
   "source": [
    "### title(): Returns a Title Cased String\n",
    "\n"
   ]
  },
  {
   "cell_type": "code",
   "execution_count": 36,
   "id": "a89f06fb-b5a8-4d2a-a683-40db183d7906",
   "metadata": {},
   "outputs": [
    {
     "name": "stdout",
     "output_type": "stream",
     "text": [
      "Thirty Days Of Python\n"
     ]
    }
   ],
   "source": [
    "# title(): Returns a Title Cased String\n",
    "\n",
    "challenge = 'thirty days of python'\n",
    "print(challenge.title()) # Thirty Days Of Python"
   ]
  },
  {
   "cell_type": "markdown",
   "id": "5ed103d2-f939-4837-8fea-ebfc1b3bea8f",
   "metadata": {},
   "source": [
    "### swapcase(): Checks if String Starts with the Specified String"
   ]
  },
  {
   "cell_type": "code",
   "execution_count": 37,
   "id": "bcfc26e7-bd37-4f90-a409-1e089e010132",
   "metadata": {},
   "outputs": [
    {
     "name": "stdout",
     "output_type": "stream",
     "text": [
      "THIRTY DAYS OF PYTHON\n",
      "tHIRTY dAYS oF pYTHON\n"
     ]
    }
   ],
   "source": [
    "# swapcase(): Checks if String Starts with the Specified String\n",
    "  \n",
    "challenge = 'thirty days of python'\n",
    "print(challenge.swapcase())   # THIRTY DAYS OF PYTHON\n",
    "challenge = 'Thirty Days Of Python'\n",
    "print(challenge.swapcase())  # tHIRTY dAYS oF pYTHON\n"
   ]
  },
  {
   "cell_type": "markdown",
   "id": "d961928f-6e21-45ac-a9fc-a2ed3b0b609a",
   "metadata": {},
   "source": [
    "### startswith(): Checks if String Starts with the Specified String"
   ]
  },
  {
   "cell_type": "code",
   "execution_count": 38,
   "id": "323ccc90-c5b7-4fb6-ad56-fb00f3ceb85f",
   "metadata": {},
   "outputs": [
    {
     "name": "stdout",
     "output_type": "stream",
     "text": [
      "True\n",
      "False\n"
     ]
    }
   ],
   "source": [
    "# startswith(): Checks if String Starts with the Specified String\n",
    "\n",
    "challenge = 'thirty days of python'\n",
    "print(challenge.startswith('thirty')) # True\n",
    "challenge = '30 days of python'\n",
    "print(challenge.startswith('thirty')) # False"
   ]
  },
  {
   "cell_type": "code",
   "execution_count": null,
   "id": "909eb181-0415-4f9d-abe4-a8258d9f03be",
   "metadata": {},
   "outputs": [],
   "source": []
  }
 ],
 "metadata": {
  "kernelspec": {
   "display_name": "Python 3",
   "language": "python",
   "name": "python3"
  },
  "language_info": {
   "codemirror_mode": {
    "name": "ipython",
    "version": 3
   },
   "file_extension": ".py",
   "mimetype": "text/x-python",
   "name": "python",
   "nbconvert_exporter": "python",
   "pygments_lexer": "ipython3",
   "version": "3.13.3"
  }
 },
 "nbformat": 4,
 "nbformat_minor": 5
}
