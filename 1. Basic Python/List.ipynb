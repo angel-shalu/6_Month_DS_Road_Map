{
 "cells": [
  {
   "cell_type": "markdown",
   "id": "3e42acff-a17f-415f-8d88-4e0bd6c0668c",
   "metadata": {},
   "source": [
    "# Lists in Python"
   ]
  },
  {
   "cell_type": "markdown",
   "id": "b8117f53-4d5d-412d-ab35-b897ff81704e",
   "metadata": {},
   "source": [
    "\n",
    "Today, I explored lists in Python — one of the most important and versatile data structures. I learned that lists are used to store multiple items in a single variable, and they can contain integers, floats, strings, or even other lists (nested lists).\n",
    "\n",
    "I practiced how to create lists using square brackets [], how to access elements using indexing and slicing, and how to update or delete elements. I also learned how to use built-in list methods like append(), insert(), remove(), pop(), sort(), reverse(), and clear().\n",
    "\n",
    "A major part of today’s learning was understanding how flexible lists are—allowing mixed data types, duplicate values, and dynamic modification. Lists are especially useful in tasks like data storage, iteration, and real-world problem solving."
   ]
  },
  {
   "cell_type": "markdown",
   "id": "712ab024-7a28-43e3-a908-e40af602373b",
   "metadata": {},
   "source": [
    "# What is a data structure:\n",
    "A data structure is a way to store and organize data. It helps to use data easily and efficiently. It is useful for storing multiple values and managing data in a better way.\n",
    "\n",
    "### Data type:\n",
    "A data type stores only one value.\n",
    "Example:\n",
    "a = 1\n",
    "b = 2.2\n",
    "c = 'Hello'\n",
    "\n",
    "### Data structure:\n",
    "A data structure is a collection of one or more data types.\n",
    "Example:\n",
    "my\\_list = \\[1, 2, 3]\n",
    "my\\_tuple = (4, 5, 6)\n",
    "my\\_set = {1, 2, 3}\n",
    "my\\_dict = {'name': 'Akshay'}\n",
    "\n",
    "#### Matrix:\n",
    "A matrix is a collection of rows and columns. It is used to store 2D data.\n",
    "\n",
    "# Types of data structures in Python:\n",
    "\n",
    "1. Built-in data structures:\n",
    "   These are already available in Python.\n",
    "   Examples: list, tuple, set, dictionary\n",
    "\n",
    "2. User-defined data structures:\n",
    "   These are created by the user.\n",
    "   Examples: stack, queue, linked list, tree, heap, graph, array\n"
   ]
  },
  {
   "cell_type": "markdown",
   "id": "9dc5edd3-c9c2-4569-9554-58a7761fdaf9",
   "metadata": {},
   "source": [
    "# List in Python\n",
    "\n",
    "We define a list using square brackets [ ]. For example, l = [ ]\n",
    "\n",
    "In Jupyter Notebook, to see all functions related to a list, type the list name then a dot (.) and press Tab. For example, l. then Tab\n",
    "\n",
    "A list can store duplicate values. For example, l = [1, 2, 2, 3]\n",
    "\n",
    "A list is growable, which means we can add more elements anytime.\n",
    "\n",
    "A list is mutable, so we can change, add, or remove elements.\n",
    "\n",
    "A new element is always added at the end by default using the append() function. For example, l.append(5)\n",
    "\n",
    "List supports indexing. The first element is at index 0. For example, l[0] will give the first item.\n",
    "\n",
    "List supports slicing to get a part of the list. For example, l[1:3] will give elements from index 1 to 2.\n",
    "\n",
    "List can hold different data types together. For example, l = [1, \"hello\", 3.5]\n",
    "\n",
    "list inside list called nasted list \n"
   ]
  },
  {
   "cell_type": "markdown",
   "id": "a0e35c20-e9f8-4443-bbb3-17a71a586ecf",
   "metadata": {},
   "source": [
    "### List Creation"
   ]
  },
  {
   "cell_type": "code",
   "execution_count": 2,
   "id": "ef009972-37cd-4da3-ad40-6700a4d1fab9",
   "metadata": {},
   "outputs": [
    {
     "name": "stdout",
     "output_type": "stream",
     "text": [
      "<class 'list'>\n"
     ]
    }
   ],
   "source": [
    "list1 = [] # Empty List\n",
    "print(type(list1))"
   ]
  },
  {
   "cell_type": "code",
   "execution_count": 1,
   "id": "ac45f4b5-3661-48c7-9773-c6ed423887ac",
   "metadata": {},
   "outputs": [],
   "source": [
    "list2 = [10,20,30,90,80,70,50] # List of Integer Numbers \n",
    "list3 = [10.5,8.6,99.99,4.6] # List of Float Numbers \n",
    "list4 = ['One','Two','Three','four','Five'] # List of Strings\n",
    "list5 = ['Shalini',25,[50,90],[5.6,9.5],['AA','hhh']] # Nested list & mixed data types\n",
    "list6 = ['Shalu', 25 ,[50, 100],[150, 90] , {'John' , 'David'}] "
   ]
  },
  {
   "cell_type": "code",
   "execution_count": 3,
   "id": "6ebae3b0-1ccd-414b-800f-1bed3a739412",
   "metadata": {},
   "outputs": [
    {
     "name": "stdout",
     "output_type": "stream",
     "text": [
      "Integer list : [10, 20, 30, 90, 80, 70, 50]\n",
      "Float list : [10.5, 8.6, 99.99, 4.6]\n",
      "String list : ['One', 'Two', 'Three', 'four', 'Five']\n",
      "Nested and mixed list : ['Shalini', 25, [50, 90], [5.6, 9.5], ['AA', 'hhh']]\n",
      "Another mixed list : ['Shalu', 25, [50, 100], [150, 90], {'David', 'John'}]\n"
     ]
    }
   ],
   "source": [
    "print('Integer list :', list2)\n",
    "print('Float list :', list3)\n",
    "print('String list :', list4)\n",
    "print('Nested and mixed list :', list5)\n",
    "print('Another mixed list :', list6)"
   ]
  },
  {
   "cell_type": "code",
   "execution_count": 5,
   "id": "116c52dc-9e70-4685-b78d-6dc8713ebc7a",
   "metadata": {},
   "outputs": [
    {
     "name": "stdout",
     "output_type": "stream",
     "text": [
      "Length of Integer list: 7\n",
      "Length of Float list: 4\n",
      "Length of String list: 5\n",
      "Length of Nested and mixed list: 5\n",
      "Length of Another mixed list: 5\n"
     ]
    }
   ],
   "source": [
    "# Length of each list \n",
    "print('Length of Integer list:', len(list2))\n",
    "print('Length of Float list:', len(list3))\n",
    "print('Length of String list:', len(list4))\n",
    "print('Length of Nested and mixed list:', len(list5))\n",
    "print('Length of Another mixed list:', len(list6))"
   ]
  },
  {
   "cell_type": "markdown",
   "id": "aee1ddd4-fe4f-4555-8612-36f6cbea7b49",
   "metadata": {},
   "source": [
    "### List Index\n",
    "\n",
    "List index starts with 0.\n",
    "\n",
    "Index can be divided into 3 types:\n",
    "\n",
    "Forward index goes from left to right and starts with 0.\n",
    "\n",
    "Backward index goes from right to left and starts with -1.\n",
    "\n",
    "Slice uses three values: start, stop, and step. Step means how many items to jump while slicing."
   ]
  },
  {
   "cell_type": "markdown",
   "id": "d0fac795-8637-4e8a-bdb4-76b77219b462",
   "metadata": {},
   "source": [
    "### Indexing examples"
   ]
  },
  {
   "cell_type": "code",
   "execution_count": 6,
   "id": "fa2ea2af-80d1-46da-a927-a24de492e8e4",
   "metadata": {},
   "outputs": [
    {
     "name": "stdout",
     "output_type": "stream",
     "text": [
      "One\n",
      "O\n",
      "Five\n",
      "['AA', 'hhh']\n"
     ]
    }
   ],
   "source": [
    "# Indexing examples\n",
    "print(list4[0])        # 'one' - first element\n",
    "print(list4[0][0])     # 'o' - first character of first element\n",
    "print(list4[-1])       # 'Five' - last element\n",
    "print(list5[-1])       # ['AA', 'hhh'] - last element (nested list)"
   ]
  },
  {
   "cell_type": "markdown",
   "id": "46be0c22-4bbb-4a7b-a496-189f64655c4d",
   "metadata": {},
   "source": [
    "### List slicing"
   ]
  },
  {
   "cell_type": "code",
   "execution_count": 7,
   "id": "819bb542-5515-4d40-b684-8ed3be23b9ca",
   "metadata": {},
   "outputs": [
    {
     "name": "stdout",
     "output_type": "stream",
     "text": [
      "['one', 'two', 'three']\n",
      "['three', 'four', 'five']\n",
      "['one', 'two', 'three']\n",
      "['one', 'two']\n",
      "['six', 'seven', 'eight']\n",
      "['seven', 'eight']\n",
      "eight\n",
      "['one', 'two', 'three', 'four', 'five', 'six', 'seven', 'eight']\n"
     ]
    }
   ],
   "source": [
    "# List slicing\n",
    "mylist = ['one', 'two', 'three', 'four', 'five', 'six', 'seven', 'eight']\n",
    "\n",
    "print(mylist[0:3])    # ['one', 'two', 'three']\n",
    "print(mylist[2:5])    # ['three', 'four', 'five']\n",
    "print(mylist[:3])     # ['one', 'two', 'three']\n",
    "print(mylist[:2])     # ['one', 'two']\n",
    "print(mylist[-3:])    # ['six', 'seven', 'eight']\n",
    "print(mylist[-2:])    # ['seven', 'eight']\n",
    "print(mylist[-1])     # 'eight'\n",
    "print(mylist[:])      # whole list"
   ]
  },
  {
   "cell_type": "markdown",
   "id": "abf77fd5-6077-4e31-90f4-f9a323aa77a4",
   "metadata": {},
   "source": [
    "### Adding items"
   ]
  },
  {
   "cell_type": "code",
   "execution_count": 8,
   "id": "1e2059a1-2308-4bcb-bdc3-fdf4bf05f87a",
   "metadata": {},
   "outputs": [
    {
     "name": "stdout",
     "output_type": "stream",
     "text": [
      "['one', 'two', 'three', 'four', 'five', 'six', 'seven', 'eight', 'nine', 'ten']\n"
     ]
    }
   ],
   "source": [
    "# Adding items\n",
    "mylist.append('nine')      # add at end\n",
    "mylist.insert(9, 'ten')    # add at index 9\n",
    "\n",
    "print(mylist)"
   ]
  },
  {
   "cell_type": "markdown",
   "id": "bfeca419-7be5-459b-8654-14c0b680d56a",
   "metadata": {},
   "source": [
    "### Changing list items"
   ]
  },
  {
   "cell_type": "code",
   "execution_count": 9,
   "id": "74af5581-d7e6-4be7-8cf1-2f8aa884b42c",
   "metadata": {},
   "outputs": [
    {
     "name": "stdout",
     "output_type": "stream",
     "text": [
      "[1, 2, 3, 'four', 'five', 'six', 'seven', 'eight', 'nine', 'ten']\n"
     ]
    }
   ],
   "source": [
    "# Changing list items\n",
    "mylist[0] = 1\n",
    "mylist[1] = 2\n",
    "mylist[2] = 3\n",
    "print(mylist)  # [1, 2, 3, 'four', 'five', ...]\n"
   ]
  },
  {
   "cell_type": "markdown",
   "id": "64cf5264-0ce4-490a-831e-dffa3fc1913f",
   "metadata": {},
   "source": [
    "### Inserting and removing items"
   ]
  },
  {
   "cell_type": "code",
   "execution_count": 8,
   "id": "af7ce1bb-2e16-4e94-805a-f275e6f18f30",
   "metadata": {},
   "outputs": [
    {
     "name": "stdout",
     "output_type": "stream",
     "text": [
      "['one', 'ONE', 'two', 'three', 'four', 'five', 'six', 'seven', 'eight']\n",
      "['one', 'two', 'three', 'four', 'five', 'six', 'seven', 'eight']\n",
      "['one', 'two', 'three', 'four', 'five', 'six', 'seven']\n"
     ]
    }
   ],
   "source": [
    "# Inserting and removing items\n",
    "mylist.insert(1, 'ONE')\n",
    "print(mylist)\n",
    "\n",
    "mylist.remove('ONE')\n",
    "print(mylist)\n",
    "\n",
    "mylist.pop()     # remove last item\n",
    "print(mylist)"
   ]
  },
  {
   "cell_type": "markdown",
   "id": "5005d7ca-d141-456d-aeb5-d274773ef76f",
   "metadata": {},
   "source": [
    "### Remove specific index"
   ]
  },
  {
   "cell_type": "code",
   "execution_count": 9,
   "id": "4f60817f-2804-40f9-be2d-7bd66726f2f2",
   "metadata": {},
   "outputs": [
    {
     "name": "stdout",
     "output_type": "stream",
     "text": [
      "['one', 'two', 'three', 'four', 'five', 'six', 'seven']\n"
     ]
    }
   ],
   "source": [
    "# Remove specific index\n",
    "if len(mylist) > 8:\n",
    "    mylist.pop(8)\n",
    "print(mylist)\n"
   ]
  },
  {
   "cell_type": "markdown",
   "id": "9a94ca99-8302-4ff4-990a-2f549158f333",
   "metadata": {},
   "source": [
    "### Delete item at index 7 if exists"
   ]
  },
  {
   "cell_type": "code",
   "execution_count": 10,
   "id": "018908df-88ca-4efe-86c8-f3efd2928298",
   "metadata": {},
   "outputs": [
    {
     "name": "stdout",
     "output_type": "stream",
     "text": [
      "['one', 'two', 'three', 'four', 'five', 'six', 'seven']\n"
     ]
    }
   ],
   "source": [
    "# Delete item at index 7 if exists\n",
    "if len(mylist) > 7:\n",
    "    del mylist[7]\n",
    "print(mylist)"
   ]
  },
  {
   "cell_type": "markdown",
   "id": "07a72a3f-0808-4252-8f96-128f05f24439",
   "metadata": {},
   "source": [
    "### Clear entire list"
   ]
  },
  {
   "cell_type": "code",
   "execution_count": 11,
   "id": "d5815640-b6c5-4766-985b-5e9b960c9368",
   "metadata": {},
   "outputs": [
    {
     "name": "stdout",
     "output_type": "stream",
     "text": [
      "[]\n"
     ]
    }
   ],
   "source": [
    "# Clear entire list\n",
    "mylist.clear()\n",
    "print(mylist)  # []"
   ]
  },
  {
   "cell_type": "code",
   "execution_count": 12,
   "id": "b30482f7-33df-416c-a75d-cba59a1e535f",
   "metadata": {},
   "outputs": [],
   "source": [
    "# Recreate list for next steps\n",
    "mylist = ['one', 'two', 'three', 'four', 'five', 'six', 'seven', 'eight']\n"
   ]
  },
  {
   "cell_type": "markdown",
   "id": "9fe9a5e0-2fe7-453d-b0f9-83de9ba15764",
   "metadata": {},
   "source": [
    "### Copying lists"
   ]
  },
  {
   "cell_type": "code",
   "execution_count": 13,
   "id": "51dd0344-1a4c-4e46-9678-545067a0a6f1",
   "metadata": {},
   "outputs": [],
   "source": [
    "# Copying lists\n",
    "mylist1 = mylist           # Reference copy (both point to same list)\n",
    "mylist2 = mylist.copy()    # Actual copy with different address\n"
   ]
  },
  {
   "cell_type": "code",
   "execution_count": 14,
   "id": "6c098b57-8126-4438-85f6-d9f8fd580665",
   "metadata": {},
   "outputs": [
    {
     "name": "stdout",
     "output_type": "stream",
     "text": [
      "2066562575488 2066562575488\n",
      "2066562576256\n"
     ]
    }
   ],
   "source": [
    "print(id(mylist), id(mylist1))  # same id\n",
    "print(id(mylist2))  "
   ]
  },
  {
   "cell_type": "markdown",
   "id": "7cad4558-1af0-4241-ab66-e097a7b0ada5",
   "metadata": {},
   "source": [
    "##### Change original to show effect on copies"
   ]
  },
  {
   "cell_type": "code",
   "execution_count": 15,
   "id": "2ac52988-8486-484e-9ee7-63661c032aa9",
   "metadata": {},
   "outputs": [
    {
     "name": "stdout",
     "output_type": "stream",
     "text": [
      "[1, 'two', 'three', 'four', 'five', 'six', 'seven', 'eight']\n",
      "[1, 'two', 'three', 'four', 'five', 'six', 'seven', 'eight']\n",
      "['one', 'two', 'three', 'four', 'five', 'six', 'seven', 'eight']\n"
     ]
    }
   ],
   "source": [
    "# Change original to show effect on copies\n",
    "mylist[0] = 1\n",
    "print(mylist)   # [1, 'two', 'three', ...]\n",
    "print(mylist1)  # [1, 'two', 'three', ...] same because reference copy\n",
    "print(mylist2)  # ['one', 'two', 'three', ...] unaffected copy\n"
   ]
  },
  {
   "cell_type": "markdown",
   "id": "87d41bba-1270-4c4b-8b3c-5ede6f667343",
   "metadata": {},
   "source": [
    "### Joining lists"
   ]
  },
  {
   "cell_type": "code",
   "execution_count": 16,
   "id": "199fd536-8263-4288-8b55-4cedf7dda981",
   "metadata": {},
   "outputs": [
    {
     "name": "stdout",
     "output_type": "stream",
     "text": [
      "['one', 'two', 'three', 'four', 'five', 'six', 'seven', 'eight']\n"
     ]
    }
   ],
   "source": [
    "# Joining lists\n",
    "list1 = ['one', 'two', 'three', 'four']\n",
    "list2 = ['five', 'six', 'seven', 'eight']\n",
    "list3 = list1 + list2\n",
    "print(list3)"
   ]
  },
  {
   "cell_type": "markdown",
   "id": "654410f9-b4f5-47a8-9fde-82d2175b064e",
   "metadata": {},
   "source": [
    "### Reverse list"
   ]
  },
  {
   "cell_type": "code",
   "execution_count": 17,
   "id": "1e506131-d535-4332-bd0e-7fccdf1f7a15",
   "metadata": {},
   "outputs": [
    {
     "name": "stdout",
     "output_type": "stream",
     "text": [
      "['four', 'three', 'two', 'one']\n"
     ]
    }
   ],
   "source": [
    "# Reverse list\n",
    "list1.reverse()\n",
    "print(list1)"
   ]
  },
  {
   "cell_type": "markdown",
   "id": "6759e495-b2eb-4284-bde3-1bfe1fcc5d3f",
   "metadata": {},
   "source": [
    "### Or using slicing"
   ]
  },
  {
   "cell_type": "code",
   "execution_count": 19,
   "id": "66ce0a0d-2b10-4b49-ba02-52f610e62b4a",
   "metadata": {},
   "outputs": [
    {
     "name": "stdout",
     "output_type": "stream",
     "text": [
      "['one', 'two', 'three', 'four']\n"
     ]
    }
   ],
   "source": [
    "# Or using slicing\n",
    "list1 = list1[::-1]\n",
    "print(list1)\n"
   ]
  },
  {
   "cell_type": "markdown",
   "id": "a6b5d2bb-edd0-4c01-9cda-45876d30f6d5",
   "metadata": {},
   "source": [
    "### Sorting lists"
   ]
  },
  {
   "cell_type": "code",
   "execution_count": 20,
   "id": "6371d95b-51aa-4b71-861b-3cf8bad5c179",
   "metadata": {},
   "outputs": [
    {
     "name": "stdout",
     "output_type": "stream",
     "text": [
      "[2, 5, 9, 12, 34, 88, 99]\n",
      "[99, 88, 34, 12, 9, 5, 2]\n",
      "[11, 21, 33, 65, 88, 98]\n",
      "[88, 65, 33, 21, 11, 98]\n"
     ]
    }
   ],
   "source": [
    "\n",
    "# Sorting lists\n",
    "mylist3 = [9, 5, 2, 99, 12, 88, 34]\n",
    "mylist3.sort()             # Ascending sort\n",
    "print(mylist3)\n",
    "\n",
    "mylist3.sort(reverse=True)  # Descending sort\n",
    "print(mylist3)\n",
    "\n",
    "mylist4 = [88, 65, 33, 21, 11, 98]\n",
    "print(sorted(mylist4))  # returns sorted list without modifying original\n",
    "print(mylist4)"
   ]
  },
  {
   "cell_type": "markdown",
   "id": "2a1a6a7a-58b0-4988-a3d3-4b5c74222f96",
   "metadata": {},
   "source": [
    "### Loop through list"
   ]
  },
  {
   "cell_type": "code",
   "execution_count": 21,
   "id": "c3bd77c6-3f3c-4ff8-886c-8e0cb7aff415",
   "metadata": {},
   "outputs": [
    {
     "name": "stdout",
     "output_type": "stream",
     "text": [
      "one\n",
      "two\n",
      "three\n",
      "four\n"
     ]
    }
   ],
   "source": [
    "\n",
    "# Loop through list\n",
    "for i in list1:\n",
    "    print(i)"
   ]
  },
  {
   "cell_type": "markdown",
   "id": "cd1d596f-9ce5-40ac-8b91-8169d8f7d073",
   "metadata": {},
   "source": [
    "### all() and any() examples"
   ]
  },
  {
   "cell_type": "code",
   "execution_count": 22,
   "id": "8251a161-58ac-4467-949d-2f0cfbe42547",
   "metadata": {},
   "outputs": [
    {
     "name": "stdout",
     "output_type": "stream",
     "text": [
      "False\n",
      "True\n",
      "True\n",
      "False\n"
     ]
    }
   ],
   "source": [
    "# all() and any() examples\n",
    "lst_bool1 = [True, True, False]\n",
    "lst_bool2 = [True, True, True]\n",
    "\n",
    "print(all(lst_bool1))  # False, because one False\n",
    "print(all(lst_bool2))  # True, all True\n",
    "\n",
    "print(any(lst_bool1))  # True, because at least one True\n",
    "print(any([False, False]))  # False, none True"
   ]
  },
  {
   "cell_type": "code",
   "execution_count": null,
   "id": "6214ee35-8a12-4e29-9b8c-3edbd7d37366",
   "metadata": {},
   "outputs": [],
   "source": []
  }
 ],
 "metadata": {
  "kernelspec": {
   "display_name": "Python 3",
   "language": "python",
   "name": "python3"
  },
  "language_info": {
   "codemirror_mode": {
    "name": "ipython",
    "version": 3
   },
   "file_extension": ".py",
   "mimetype": "text/x-python",
   "name": "python",
   "nbconvert_exporter": "python",
   "pygments_lexer": "ipython3",
   "version": "3.13.3"
  }
 },
 "nbformat": 4,
 "nbformat_minor": 5
}
