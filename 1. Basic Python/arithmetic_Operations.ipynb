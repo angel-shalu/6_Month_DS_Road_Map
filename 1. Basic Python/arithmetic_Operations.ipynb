{
 "cells": [
  {
   "cell_type": "markdown",
   "id": "8d2e8d8f-df47-4c9c-9568-0120e3537090",
   "metadata": {},
   "source": [
    "#  Arithmetic Operations & Boolean Logic\n",
    "Today, I explored how to perform arithmetic operations with integers, floats, and complex numbers in Python. I also practiced comparison operators and boolean logic. These concepts are essential for decision-making and numerical computations in any Python program."
   ]
  },
  {
   "cell_type": "markdown",
   "id": "da5c5a2b-e838-4d7b-91f5-8f122d562463",
   "metadata": {},
   "source": [
    "# Arithmetic Operations"
   ]
  },
  {
   "cell_type": "markdown",
   "id": "44f7d508-87b2-420a-b7fb-51368f491551",
   "metadata": {},
   "source": [
    "# Integers numbers"
   ]
  },
  {
   "cell_type": "code",
   "execution_count": null,
   "id": "e6ace3f4-9deb-44f4-88fc-d108660ad2df",
   "metadata": {},
   "outputs": [
    {
     "name": "stdout",
     "output_type": "stream",
     "text": [
      "Addition:  3\n",
      "Subtraction:  1\n",
      "Multiplication:  6\n",
      "Division:  2.0\n",
      "Division:  3.0\n",
      "Division:  3.5\n",
      "Division without the remainder:  3\n",
      "Modulus:  1\n",
      "Division without the remainder:  2\n",
      "Exponential:  9\n"
     ]
    }
   ],
   "source": [
    "# Integers\n",
    "\n",
    "print('Addition: ', 1 + 2)\n",
    "print('Subtraction: ', 2 - 1)\n",
    "print('Multiplication: ', 2 * 3)\n",
    "print ('Division: ', 4 / 2)                         # Division in python gives floating number\n",
    "print('Division: ', 6 / 2)\n",
    "print('Division: ', 7 / 2)\n",
    "print('Division without the remainder: ', 7 // 2)   # gives without the floating number or without the remaining\n",
    "print('Modulus: ', 3 % 2)                           # Gives the remainder\n",
    "print ('Division without the remainder: ', 7 // 3)\n",
    "print('Exponential: ', 3 ** 2)                     # it means 3 * 3"
   ]
  },
  {
   "cell_type": "markdown",
   "id": "98b2c23e-e7e9-431b-8775-55134d6499b6",
   "metadata": {},
   "source": [
    "# Floating numbers"
   ]
  },
  {
   "cell_type": "code",
   "execution_count": 3,
   "id": "2375bfbf-523c-4c58-9a20-bbd16c7a9121",
   "metadata": {},
   "outputs": [
    {
     "name": "stdout",
     "output_type": "stream",
     "text": [
      "Floating Number,PI 3.14\n",
      "Floating Number, gravity 9.81\n"
     ]
    }
   ],
   "source": [
    "# Floating numbers\n",
    "print('Floating Number,PI', 3.14)\n",
    "print('Floating Number, gravity', 9.81)"
   ]
  },
  {
   "cell_type": "markdown",
   "id": "9b7a16bd-627c-4975-84a8-3b60f11a8356",
   "metadata": {},
   "source": [
    "# Complex numbers\n"
   ]
  },
  {
   "cell_type": "code",
   "execution_count": 4,
   "id": "f48c0d2b-bec2-464a-a5f0-522e74da90fc",
   "metadata": {},
   "outputs": [
    {
     "name": "stdout",
     "output_type": "stream",
     "text": [
      "Complex number:  (1+1j)\n",
      "Multiplying complex number:  (2+0j)\n"
     ]
    }
   ],
   "source": [
    "# Complex numbers\n",
    "print('Complex number: ', 1 + 1j)\n",
    "print('Multiplying complex number: ',(1 + 1j) * (1-1j))"
   ]
  },
  {
   "cell_type": "markdown",
   "id": "ba729cdb-cdb1-4902-924a-e5e389479c9f",
   "metadata": {},
   "source": [
    "# Declaring the variable at the top first\n"
   ]
  },
  {
   "cell_type": "code",
   "execution_count": 5,
   "id": "26e82cf9-1918-448e-aa80-b7296b758a4f",
   "metadata": {},
   "outputs": [],
   "source": [
    "# Declaring the variable at the top first\n",
    "\n",
    "a = 3 # a is a variable name and 3 is an integer data type\n",
    "b = 2 # b is a variable name and 3 is an integer data type"
   ]
  },
  {
   "cell_type": "markdown",
   "id": "22e7f874-c91b-4599-92bc-80e268cc86c3",
   "metadata": {},
   "source": [
    "\n",
    "# Arithmetic operations and assigning the result to a variable\n"
   ]
  },
  {
   "cell_type": "code",
   "execution_count": 6,
   "id": "476e2143-0b14-454c-910b-91ce832a2841",
   "metadata": {},
   "outputs": [
    {
     "name": "stdout",
     "output_type": "stream",
     "text": [
      "5\n",
      "a + b =  5\n",
      "a - b =  1\n",
      "a * b =  6\n",
      "a / b =  1.5\n",
      "a % b =  1\n",
      "a // b =  1\n",
      "a ** b =  9\n"
     ]
    }
   ],
   "source": [
    "# Arithmetic operations and assigning the result to a variable\n",
    "total = a + b\n",
    "diff = a - b\n",
    "product = a * b\n",
    "division = a / b\n",
    "remainder = a % b\n",
    "floor_division = a // b\n",
    "exponential = a ** b\n",
    "\n",
    "# I should have used sum instead of total but sum is a built-in function try to avoid overriding builtin functions\n",
    "print(total) # if you don't label your print with some string, you never know from where is  the result is coming\n",
    "print('a + b = ', total)\n",
    "print('a - b = ', diff)\n",
    "print('a * b = ', product)\n",
    "print('a / b = ', division)\n",
    "print('a % b = ', remainder)\n",
    "print('a // b = ', floor_division)\n",
    "print('a ** b = ', exponential)\n"
   ]
  },
  {
   "cell_type": "markdown",
   "id": "8db0c07d-d66d-456f-8830-d21ac30e37b9",
   "metadata": {},
   "source": [
    "# Declaring values and organizing them together"
   ]
  },
  {
   "cell_type": "code",
   "execution_count": 7,
   "id": "523d073b-5999-42ab-ac5a-788f2892ea3c",
   "metadata": {},
   "outputs": [
    {
     "name": "stdout",
     "output_type": "stream",
     "text": [
      "total:  7\n",
      "difference:  1\n",
      "product:  12\n",
      "division:  1.0\n",
      "remainder:  1\n"
     ]
    }
   ],
   "source": [
    "# Declaring values and organizing them together\n",
    "num_one = 3\n",
    "num_two = 4\n",
    "\n",
    "# Arithmetic operations\n",
    "total = num_one + num_two\n",
    "diff = num_two - num_one\n",
    "product = num_one * num_two\n",
    "div = num_two / num_two\n",
    "remainder = num_two % num_one\n",
    "\n",
    "# Printing values with label\n",
    "print('total: ', total)\n",
    "print('difference: ', diff)\n",
    "print('product: ', product)\n",
    "print('division: ', div)\n",
    "print('remainder: ', remainder)\n"
   ]
  },
  {
   "cell_type": "markdown",
   "id": "2d5a6314-3624-4d7d-9522-858c3d684b1f",
   "metadata": {},
   "source": [
    "# Calculating area of a circle\n"
   ]
  },
  {
   "cell_type": "code",
   "execution_count": 8,
   "id": "d548be3e-9313-4fb4-a966-8fa8db52778b",
   "metadata": {},
   "outputs": [
    {
     "name": "stdout",
     "output_type": "stream",
     "text": [
      "Area of a circle: 314.0\n"
     ]
    }
   ],
   "source": [
    "# Calculating area of a circle\n",
    "radius = 10                                 # radius of a circle\n",
    "area_of_circle = 3.14 * radius ** 2         # two * sign means exponent or power\n",
    "print('Area of a circle:', area_of_circle)\n"
   ]
  },
  {
   "cell_type": "markdown",
   "id": "f28f7cb5-39ef-4ed6-b36d-1e634ea4454a",
   "metadata": {},
   "source": [
    "\n",
    "# Calculating area of a rectangle\n"
   ]
  },
  {
   "cell_type": "code",
   "execution_count": 9,
   "id": "77ad637a-23a5-49bb-9bf4-cd202963a9cf",
   "metadata": {},
   "outputs": [
    {
     "name": "stdout",
     "output_type": "stream",
     "text": [
      "Area of rectangle: 200\n"
     ]
    }
   ],
   "source": [
    "# Calculating area of a rectangle\n",
    "length = 10\n",
    "width = 20\n",
    "area_of_rectangle = length * width\n",
    "print('Area of rectangle:', area_of_rectangle)\n"
   ]
  },
  {
   "cell_type": "markdown",
   "id": "641f8698-68f9-4a03-b671-a063cceebe6a",
   "metadata": {},
   "source": [
    "\n",
    "# Calculating a weight of an object\n"
   ]
  },
  {
   "cell_type": "code",
   "execution_count": 10,
   "id": "a4c120f9-0f0c-40fd-bd31-c3e3fd2e0bbc",
   "metadata": {},
   "outputs": [
    {
     "name": "stdout",
     "output_type": "stream",
     "text": [
      "735.75 N\n"
     ]
    }
   ],
   "source": [
    "# Calculating a weight of an object\n",
    "mass = 75\n",
    "gravity = 9.81\n",
    "weight = mass * gravity\n",
    "print(weight, 'N')"
   ]
  },
  {
   "cell_type": "markdown",
   "id": "72e26896-1d07-4d5d-9979-014b0a76aa7d",
   "metadata": {},
   "source": [
    "# Boolean"
   ]
  },
  {
   "cell_type": "code",
   "execution_count": 11,
   "id": "430f29c4-5595-4527-9331-191beaab9e72",
   "metadata": {},
   "outputs": [
    {
     "name": "stdout",
     "output_type": "stream",
     "text": [
      "True\n",
      "True\n",
      "False\n",
      "True\n",
      "True\n",
      "False\n",
      "True\n"
     ]
    }
   ],
   "source": [
    "print(3 > 2)     # True, because 3 is greater than 2\n",
    "print(3 >= 2)    # True, because 3 is greater than 2\n",
    "print(3 < 2)     # False,  because 3 is greater than 2\n",
    "print(2 < 3)     # True, because 2 is less than 3\n",
    "print(2 <= 3)    # True, because 2 is less than 3\n",
    "print(3 == 2)    # False, because 3 is not equal to 2\n",
    "print(3 != 2)    # True, because 3 is not equal to 2"
   ]
  },
  {
   "cell_type": "code",
   "execution_count": 12,
   "id": "b3a7e0bd-c20b-45b4-9bcb-95fcc65898a7",
   "metadata": {},
   "outputs": [
    {
     "name": "stdout",
     "output_type": "stream",
     "text": [
      "False\n",
      "True\n",
      "True\n",
      "False\n",
      "True\n",
      "True\n",
      "False\n"
     ]
    }
   ],
   "source": [
    "print(len('mango') == len('avocado'))  # False\n",
    "print(len('mango') != len('avocado'))  # True\n",
    "print(len('mango') < len('avocado'))   # True\n",
    "print(len('milk') != len('meat'))      # False\n",
    "print(len('milk') == len('meat'))      # True\n",
    "print(len('tomato') == len('potato'))  # True\n",
    "print(len('python') > len('dragon'))   # False"
   ]
  },
  {
   "cell_type": "markdown",
   "id": "19b4bbaf-24ea-4852-bb51-6f014235a013",
   "metadata": {},
   "source": [
    "# Boolean comparison"
   ]
  },
  {
   "cell_type": "code",
   "execution_count": 13,
   "id": "a0599091-b875-4e29-9404-5313bcc8e644",
   "metadata": {},
   "outputs": [
    {
     "name": "stdout",
     "output_type": "stream",
     "text": [
      "True == True:  True\n",
      "True == False:  False\n",
      "False == False: True\n",
      "True and True:  True\n",
      "True or False: True\n"
     ]
    }
   ],
   "source": [
    "# Boolean comparison\n",
    "print('True == True: ', True == True)\n",
    "print('True == False: ', True == False)\n",
    "print('False == False:', False == False)\n",
    "print('True and True: ', True and True)\n",
    "print('True or False:', True or False)"
   ]
  },
  {
   "cell_type": "markdown",
   "id": "3baf5478-b38a-4471-baac-24e25f9683b4",
   "metadata": {},
   "source": [
    "# Another way comparison "
   ]
  },
  {
   "cell_type": "code",
   "execution_count": 14,
   "id": "4b0400ea-a97d-4df5-b46d-3f4535e9936b",
   "metadata": {},
   "outputs": [
    {
     "name": "stdout",
     "output_type": "stream",
     "text": [
      "1 is 1 True\n",
      "1 is not 2 True\n",
      "A in Asabeneh True\n",
      "B in Asabeneh False\n",
      "True\n",
      "a in an: True\n",
      "4 is 2 ** 2: True\n"
     ]
    },
    {
     "name": "stderr",
     "output_type": "stream",
     "text": [
      "<>:2: SyntaxWarning: \"is\" with 'int' literal. Did you mean \"==\"?\n",
      "<>:3: SyntaxWarning: \"is not\" with 'int' literal. Did you mean \"!=\"?\n",
      "<>:8: SyntaxWarning: \"is\" with 'int' literal. Did you mean \"==\"?\n",
      "<>:2: SyntaxWarning: \"is\" with 'int' literal. Did you mean \"==\"?\n",
      "<>:3: SyntaxWarning: \"is not\" with 'int' literal. Did you mean \"!=\"?\n",
      "<>:8: SyntaxWarning: \"is\" with 'int' literal. Did you mean \"==\"?\n",
      "C:\\Users\\aksha\\AppData\\Local\\Temp\\ipykernel_13152\\4207222253.py:2: SyntaxWarning: \"is\" with 'int' literal. Did you mean \"==\"?\n",
      "  print('1 is 1', 1 is 1)                   # True - because the data values are the same\n",
      "C:\\Users\\aksha\\AppData\\Local\\Temp\\ipykernel_13152\\4207222253.py:3: SyntaxWarning: \"is not\" with 'int' literal. Did you mean \"!=\"?\n",
      "  print('1 is not 2', 1 is not 2)           # True - because 1 is not 2\n",
      "C:\\Users\\aksha\\AppData\\Local\\Temp\\ipykernel_13152\\4207222253.py:8: SyntaxWarning: \"is\" with 'int' literal. Did you mean \"==\"?\n",
      "  print('4 is 2 ** 2:', 4 is 2 ** 2)   # True\n"
     ]
    }
   ],
   "source": [
    "# Another way comparison \n",
    "print('1 is 1', 1 is 1)                   # True - because the data values are the same\n",
    "print('1 is not 2', 1 is not 2)           # True - because 1 is not 2\n",
    "print('A in Asabeneh', 'A' in 'Asabeneh') # True - A found in the string\n",
    "print('B in Asabeneh', 'B' in 'Asabeneh') # False -there is no uppercase B\n",
    "print('coding' in 'coding for all') # True - because coding for all has the word coding\n",
    "print('a in an:', 'a' in 'an')      # True\n",
    "print('4 is 2 ** 2:', 4 is 2 ** 2)   # True"
   ]
  },
  {
   "cell_type": "code",
   "execution_count": 15,
   "id": "089145dd-5305-4789-82e8-aa35f136eb93",
   "metadata": {},
   "outputs": [
    {
     "name": "stdout",
     "output_type": "stream",
     "text": [
      "True\n",
      "False\n",
      "False\n",
      "True\n",
      "True\n",
      "False\n",
      "False\n",
      "False\n",
      "True\n",
      "True\n",
      "False\n"
     ]
    }
   ],
   "source": [
    "print(3 > 2 and 4 > 3) # True - because both statements are true\n",
    "print(3 > 2 and 4 < 3) # False - because the second statement is false\n",
    "print(3 < 2 and 4 < 3) # False - because both statements are false\n",
    "print(3 > 2 or 4 > 3)  # True - because both statements are true\n",
    "print(3 > 2 or 4 < 3)  # True - because one of the statement is true\n",
    "print(3 < 2 or 4 < 3)  # False - because both statements are false\n",
    "print(not 3 > 2)     # False - because 3 > 2 is true, then not True gives False\n",
    "print(not True)      # False - Negation, the not operator turns true to false\n",
    "print(not False)     # True\n",
    "print(not not True)  # True\n",
    "print(not not False) # False"
   ]
  },
  {
   "cell_type": "code",
   "execution_count": null,
   "id": "ba2b8621-e353-4069-a0d4-f16fbe9346f7",
   "metadata": {},
   "outputs": [],
   "source": []
  }
 ],
 "metadata": {
  "kernelspec": {
   "display_name": "Python 3 (ipykernel)",
   "language": "python",
   "name": "python3"
  },
  "language_info": {
   "codemirror_mode": {
    "name": "ipython",
    "version": 3
   },
   "file_extension": ".py",
   "mimetype": "text/x-python",
   "name": "python",
   "nbconvert_exporter": "python",
   "pygments_lexer": "ipython3",
   "version": "3.12.7"
  }
 },
 "nbformat": 4,
 "nbformat_minor": 5
}
