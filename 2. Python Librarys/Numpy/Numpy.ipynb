{
 "cells": [
  {
   "cell_type": "markdown",
   "id": "2a51ca81-bc6e-494e-b47e-3f6145b3882b",
   "metadata": {},
   "source": [
    "# NumPy Introduction\n",
    "\n",
    "## What is NumPy?\n",
    "\n",
    "NumPy stands for Numerical Python. It is a powerful Python library used for scientific computing.  \n",
    "It provides support for working with large arrays, matrices, and a wide range of mathematical functions.\n",
    "\n",
    "## Why use NumPy?\n",
    "\n",
    "- NumPy is faster and more memory-efficient than regular Python lists.\n",
    "- It allows you to perform operations on entire arrays without writing loops.\n",
    "- It is used in data analysis, machine learning, deep learning, simulations, image processing, and more.\n",
    "\n",
    "## Where is NumPy used?\n",
    "\n",
    "- Data Science and Data Analysis\n",
    "- Machine Learning and AI\n",
    "- Scientific Research\n",
    "- Signal and Image Processing\n",
    "- Statistical Computing\n",
    "\n",
    "## Python List vs NumPy Array\n",
    "\n",
    "| Feature          | Python List         | NumPy Array         |\n",
    "|------------------|----------------------|----------------------|\n",
    "| Speed            | Slower               | Faster               |\n",
    "| Memory           | More memory usage    | Less memory usage    |\n",
    "| Operations       | Manual loops         | Vectorized           |\n",
    "| Math Functions   | Not built-in         | Built-in support     |\n",
    "\n"
   ]
  },
  {
   "cell_type": "code",
   "execution_count": 2,
   "id": "5c322abb-b5d1-46a0-ad8c-6d45263e12ff",
   "metadata": {},
   "outputs": [],
   "source": [
    "import numpy as np # Import numpay library (package) to use"
   ]
  },
  {
   "cell_type": "code",
   "execution_count": 3,
   "id": "577d1b5a-2d6c-466e-bd4c-9427bff14aa3",
   "metadata": {},
   "outputs": [
    {
     "data": {
      "text/plain": [
       "'1.26.4'"
      ]
     },
     "execution_count": 3,
     "metadata": {},
     "output_type": "execute_result"
    }
   ],
   "source": [
    "np.__version__"
   ]
  },
  {
   "cell_type": "code",
   "execution_count": 4,
   "id": "48824f32-a575-41cc-b494-f7b5c44fb6ef",
   "metadata": {},
   "outputs": [
    {
     "data": {
      "text/plain": [
       "'3.12.7 | packaged by Anaconda, Inc. | (main, Oct  4 2024, 13:17:27) [MSC v.1929 64 bit (AMD64)]'"
      ]
     },
     "execution_count": 4,
     "metadata": {},
     "output_type": "execute_result"
    }
   ],
   "source": [
    "import sys\n",
    "sys.version"
   ]
  },
  {
   "cell_type": "markdown",
   "id": "9daab1bd-b931-4a4f-9d56-8d9d23b1d182",
   "metadata": {},
   "source": [
    "## Create a list"
   ]
  },
  {
   "cell_type": "code",
   "execution_count": 5,
   "id": "124f0500-4b0d-4052-8838-7b5ca7b0715a",
   "metadata": {},
   "outputs": [
    {
     "data": {
      "text/plain": [
       "[0, 1, 2, 3, 4, 5]"
      ]
     },
     "execution_count": 5,
     "metadata": {},
     "output_type": "execute_result"
    }
   ],
   "source": [
    "my_list = [0,1,2,3,4,5]\n",
    "my_list"
   ]
  },
  {
   "cell_type": "code",
   "execution_count": 6,
   "id": "6ff3f824-1238-479c-a658-230f9fe2f491",
   "metadata": {},
   "outputs": [
    {
     "data": {
      "text/plain": [
       "list"
      ]
     },
     "execution_count": 6,
     "metadata": {},
     "output_type": "execute_result"
    }
   ],
   "source": [
    "type(my_list)"
   ]
  },
  {
   "cell_type": "markdown",
   "id": "d9e31460-675e-4ae8-b936-cbf1c818dd50",
   "metadata": {},
   "source": [
    "## List to Array Conversion "
   ]
  },
  {
   "cell_type": "code",
   "execution_count": 7,
   "id": "04025f1c-46b0-41f1-97cc-f4ac0560dd1d",
   "metadata": {},
   "outputs": [
    {
     "data": {
      "text/plain": [
       "array([0, 1, 2, 3, 4, 5])"
      ]
     },
     "execution_count": 7,
     "metadata": {},
     "output_type": "execute_result"
    }
   ],
   "source": [
    "arr = np.array(my_list)\n",
    "arr"
   ]
  },
  {
   "cell_type": "code",
   "execution_count": 8,
   "id": "25248130-8e48-4da0-8ff7-5c04c9938b93",
   "metadata": {},
   "outputs": [
    {
     "data": {
      "text/plain": [
       "numpy.ndarray"
      ]
     },
     "execution_count": 8,
     "metadata": {},
     "output_type": "execute_result"
    }
   ],
   "source": [
    "type(arr) #N dimention array"
   ]
  },
  {
   "cell_type": "markdown",
   "id": "37c450b2-cb4b-4c23-8632-95cf288f8e17",
   "metadata": {},
   "source": [
    "## Some of Numpy function"
   ]
  },
  {
   "cell_type": "code",
   "execution_count": 9,
   "id": "39fd85ab-111d-4604-83fc-1ac665e58219",
   "metadata": {},
   "outputs": [
    {
     "data": {
      "text/plain": [
       "array([0, 1, 2, 3, 4, 5, 6, 7, 8, 9])"
      ]
     },
     "execution_count": 9,
     "metadata": {},
     "output_type": "execute_result"
    }
   ],
   "source": [
    "np.arange(10)"
   ]
  },
  {
   "cell_type": "code",
   "execution_count": 10,
   "id": "cd893f97-26ac-4472-ac11-750f2a7e578d",
   "metadata": {},
   "outputs": [
    {
     "data": {
      "text/plain": [
       "array([0., 1., 2., 3., 4.])"
      ]
     },
     "execution_count": 10,
     "metadata": {},
     "output_type": "execute_result"
    }
   ],
   "source": [
    "np.arange(5.0)"
   ]
  },
  {
   "cell_type": "code",
   "execution_count": 11,
   "id": "7c165af4-6096-4f1c-bc34-f36c32c5c81d",
   "metadata": {},
   "outputs": [
    {
     "data": {
      "text/plain": [
       "array([0, 1, 2, 3, 4, 5, 6, 7, 8])"
      ]
     },
     "execution_count": 11,
     "metadata": {},
     "output_type": "execute_result"
    }
   ],
   "source": [
    "np.arange(9)"
   ]
  },
  {
   "cell_type": "code",
   "execution_count": 12,
   "id": "f389f79b-855c-479e-bef5-0540344374fc",
   "metadata": {},
   "outputs": [
    {
     "data": {
      "text/plain": [
       "array([0, 1, 2, 3, 4])"
      ]
     },
     "execution_count": 12,
     "metadata": {},
     "output_type": "execute_result"
    }
   ],
   "source": [
    "np.arange(0,5)"
   ]
  },
  {
   "cell_type": "code",
   "execution_count": 13,
   "id": "daa42a76-993c-4f87-90a8-c359d5f601ae",
   "metadata": {},
   "outputs": [
    {
     "data": {
      "text/plain": [
       "array([10, 11, 12, 13, 14, 15, 16, 17, 18, 19])"
      ]
     },
     "execution_count": 13,
     "metadata": {},
     "output_type": "execute_result"
    }
   ],
   "source": [
    "np.arange(10,20)"
   ]
  },
  {
   "cell_type": "markdown",
   "id": "a19f5313-8107-4207-8a4c-b2600bd7ef99",
   "metadata": {},
   "source": [
    "### Frist Argument/value must be smaller than second else return empty []"
   ]
  },
  {
   "cell_type": "code",
   "execution_count": 14,
   "id": "716fb167-8493-451a-87af-40998c2248d2",
   "metadata": {},
   "outputs": [
    {
     "data": {
      "text/plain": [
       "array([], dtype=int32)"
      ]
     },
     "execution_count": 14,
     "metadata": {},
     "output_type": "execute_result"
    }
   ],
   "source": [
    "np.arange(20,10)"
   ]
  },
  {
   "cell_type": "code",
   "execution_count": 15,
   "id": "24b9eb69-3b88-4349-930b-e4b5559f21c2",
   "metadata": {},
   "outputs": [
    {
     "data": {
      "text/plain": [
       "array([-20, -19, -18, -17, -16, -15, -14, -13, -12, -11, -10,  -9,  -8,\n",
       "        -7,  -6,  -5,  -4,  -3,  -2,  -1,   0,   1,   2,   3,   4,   5,\n",
       "         6,   7,   8,   9])"
      ]
     },
     "execution_count": 15,
     "metadata": {},
     "output_type": "execute_result"
    }
   ],
   "source": [
    "np.arange(-20,10)"
   ]
  },
  {
   "cell_type": "code",
   "execution_count": 16,
   "id": "6904961d-b734-4c64-9ada-8e56180d74fa",
   "metadata": {},
   "outputs": [
    {
     "data": {
      "text/plain": [
       "array([10, 15, 20, 25, 30, 35, 40, 45])"
      ]
     },
     "execution_count": 16,
     "metadata": {},
     "output_type": "execute_result"
    }
   ],
   "source": [
    "np.arange(10,50,5)"
   ]
  },
  {
   "cell_type": "code",
   "execution_count": 17,
   "id": "7f7b70f2-aabe-443a-9d21-5452f31275f9",
   "metadata": {},
   "outputs": [
    {
     "ename": "TypeError",
     "evalue": "Cannot interpret '8' as a data type",
     "output_type": "error",
     "traceback": [
      "\u001b[1;31m---------------------------------------------------------------------------\u001b[0m",
      "\u001b[1;31mTypeError\u001b[0m                                 Traceback (most recent call last)",
      "Cell \u001b[1;32mIn[17], line 1\u001b[0m\n\u001b[1;32m----> 1\u001b[0m np\u001b[38;5;241m.\u001b[39marange(\u001b[38;5;241m10\u001b[39m,\u001b[38;5;241m30\u001b[39m,\u001b[38;5;241m5\u001b[39m,\u001b[38;5;241m8\u001b[39m)\n",
      "\u001b[1;31mTypeError\u001b[0m: Cannot interpret '8' as a data type"
     ]
    }
   ],
   "source": [
    "np.arange(10,30,5,8)"
   ]
  },
  {
   "cell_type": "code",
   "execution_count": 18,
   "id": "f0c8304e-b03d-41fd-b371-46926f2681da",
   "metadata": {},
   "outputs": [
    {
     "data": {
      "text/plain": [
       "array([0, 0, 0, 0, 0, 0, 0, 0, 0, 0])"
      ]
     },
     "execution_count": 18,
     "metadata": {},
     "output_type": "execute_result"
    }
   ],
   "source": [
    "np.zeros(10, dtype=int) #parameter tunning (hyper parameter tunning)"
   ]
  },
  {
   "cell_type": "code",
   "execution_count": 19,
   "id": "5fc0f16b-0704-4924-a358-a5365b4e59a0",
   "metadata": {},
   "outputs": [
    {
     "data": {
      "text/plain": [
       "array([0., 0., 0., 0., 0., 0., 0., 0., 0., 0.])"
      ]
     },
     "execution_count": 19,
     "metadata": {},
     "output_type": "execute_result"
    }
   ],
   "source": [
    "np.zeros(10) #parameter tunning "
   ]
  },
  {
   "cell_type": "code",
   "execution_count": 20,
   "id": "065132f6-7357-4345-993c-516ffb44f1bb",
   "metadata": {},
   "outputs": [
    {
     "name": "stdout",
     "output_type": "stream",
     "text": [
      "[0 0 0 0 0]\n",
      "[0. 0. 0. 0. 0.]\n",
      "[False False False False False]\n",
      "[0.+0.j 0.+0.j 0.+0.j 0.+0.j 0.+0.j]\n"
     ]
    }
   ],
   "source": [
    "print(np.zeros(5,dtype=int))\n",
    "print(np.zeros(5,dtype=float))\n",
    "print(np.zeros(5,dtype=bool))\n",
    "print(np.zeros(5,dtype=complex))"
   ]
  },
  {
   "cell_type": "code",
   "execution_count": 21,
   "id": "44b026b6-343f-4e4a-85b0-a92f7464fd60",
   "metadata": {},
   "outputs": [
    {
     "data": {
      "text/plain": [
       "array([[0, 0],\n",
       "       [0, 0]])"
      ]
     },
     "execution_count": 21,
     "metadata": {},
     "output_type": "execute_result"
    }
   ],
   "source": [
    "np.zeros((2,2,),dtype=int) #zero with 2d"
   ]
  },
  {
   "cell_type": "markdown",
   "id": "db71f734-2cad-43f3-9479-cd4a55698122",
   "metadata": {},
   "source": [
    "### Left side = row , Right side = Column "
   ]
  },
  {
   "cell_type": "code",
   "execution_count": 22,
   "id": "a5393c70-beeb-4942-8612-fba3c700ddd5",
   "metadata": {},
   "outputs": [
    {
     "data": {
      "text/plain": [
       "array([[0., 0., 0., 0., 0., 0., 0., 0., 0., 0.],\n",
       "       [0., 0., 0., 0., 0., 0., 0., 0., 0., 0.]])"
      ]
     },
     "execution_count": 22,
     "metadata": {},
     "output_type": "execute_result"
    }
   ],
   "source": [
    "np.zeros((2,10))"
   ]
  },
  {
   "cell_type": "code",
   "execution_count": 23,
   "id": "9c2171d1-fdd4-4f35-b744-461a25d5a4e5",
   "metadata": {},
   "outputs": [
    {
     "data": {
      "text/plain": [
       "array([[0, 0, 0, 0, 0, 0, 0, 0, 0, 0],\n",
       "       [0, 0, 0, 0, 0, 0, 0, 0, 0, 0],\n",
       "       [0, 0, 0, 0, 0, 0, 0, 0, 0, 0],\n",
       "       [0, 0, 0, 0, 0, 0, 0, 0, 0, 0],\n",
       "       [0, 0, 0, 0, 0, 0, 0, 0, 0, 0],\n",
       "       [0, 0, 0, 0, 0, 0, 0, 0, 0, 0],\n",
       "       [0, 0, 0, 0, 0, 0, 0, 0, 0, 0],\n",
       "       [0, 0, 0, 0, 0, 0, 0, 0, 0, 0],\n",
       "       [0, 0, 0, 0, 0, 0, 0, 0, 0, 0],\n",
       "       [0, 0, 0, 0, 0, 0, 0, 0, 0, 0]])"
      ]
     },
     "execution_count": 23,
     "metadata": {},
     "output_type": "execute_result"
    }
   ],
   "source": [
    "np.zeros((10,10),dtype = int)"
   ]
  },
  {
   "cell_type": "code",
   "execution_count": 24,
   "id": "1e30e2f1-aeb4-4f9c-94d4-2bd705f516fa",
   "metadata": {},
   "outputs": [
    {
     "data": {
      "text/plain": [
       "array([1, 1, 1, 1, 1, 1])"
      ]
     },
     "execution_count": 24,
     "metadata": {},
     "output_type": "execute_result"
    }
   ],
   "source": [
    "np.ones(6,dtype=int)"
   ]
  },
  {
   "cell_type": "code",
   "execution_count": 25,
   "id": "15dcafd7-bf3e-45cb-8762-497dfcd4f754",
   "metadata": {},
   "outputs": [
    {
     "data": {
      "text/plain": [
       "array([[1., 1., 1.],\n",
       "       [1., 1., 1.],\n",
       "       [1., 1., 1.]])"
      ]
     },
     "execution_count": 25,
     "metadata": {},
     "output_type": "execute_result"
    }
   ],
   "source": [
    "np.ones((3,3))"
   ]
  },
  {
   "cell_type": "markdown",
   "id": "932c061c-8908-4904-ab88-1f0cd06d015c",
   "metadata": {},
   "source": [
    "### There is no twos or three function only ones & zeros"
   ]
  },
  {
   "cell_type": "code",
   "execution_count": 26,
   "id": "c3e2a538-7792-4b52-baa8-952cfeca1c84",
   "metadata": {},
   "outputs": [
    {
     "ename": "AttributeError",
     "evalue": "module 'numpy' has no attribute 'two'",
     "output_type": "error",
     "traceback": [
      "\u001b[1;31m---------------------------------------------------------------------------\u001b[0m",
      "\u001b[1;31mAttributeError\u001b[0m                            Traceback (most recent call last)",
      "Cell \u001b[1;32mIn[26], line 1\u001b[0m\n\u001b[1;32m----> 1\u001b[0m np\u001b[38;5;241m.\u001b[39mtwo((\u001b[38;5;241m2\u001b[39m,\u001b[38;5;241m3\u001b[39m))\n",
      "File \u001b[1;32m~\\AppData\\Local\\anaconda3\\Lib\\site-packages\\numpy\\__init__.py:333\u001b[0m, in \u001b[0;36m__getattr__\u001b[1;34m(attr)\u001b[0m\n\u001b[0;32m    330\u001b[0m     \u001b[38;5;124m\"\u001b[39m\u001b[38;5;124mRemoved in NumPy 1.25.0\u001b[39m\u001b[38;5;124m\"\u001b[39m\n\u001b[0;32m    331\u001b[0m     \u001b[38;5;28;01mraise\u001b[39;00m \u001b[38;5;167;01mRuntimeError\u001b[39;00m(\u001b[38;5;124m\"\u001b[39m\u001b[38;5;124mTester was removed in NumPy 1.25.\u001b[39m\u001b[38;5;124m\"\u001b[39m)\n\u001b[1;32m--> 333\u001b[0m \u001b[38;5;28;01mraise\u001b[39;00m \u001b[38;5;167;01mAttributeError\u001b[39;00m(\u001b[38;5;124m\"\u001b[39m\u001b[38;5;124mmodule \u001b[39m\u001b[38;5;132;01m{!r}\u001b[39;00m\u001b[38;5;124m has no attribute \u001b[39m\u001b[38;5;124m\"\u001b[39m\n\u001b[0;32m    334\u001b[0m                      \u001b[38;5;124m\"\u001b[39m\u001b[38;5;132;01m{!r}\u001b[39;00m\u001b[38;5;124m\"\u001b[39m\u001b[38;5;241m.\u001b[39mformat(\u001b[38;5;18m__name__\u001b[39m, attr))\n",
      "\u001b[1;31mAttributeError\u001b[0m: module 'numpy' has no attribute 'two'"
     ]
    }
   ],
   "source": [
    "np.two((2,3))"
   ]
  },
  {
   "cell_type": "markdown",
   "id": "ffee225d-5b68-4435-99b3-9e968c7b2c99",
   "metadata": {},
   "source": [
    "### By default random.rand it gives value as float"
   ]
  },
  {
   "cell_type": "code",
   "execution_count": 27,
   "id": "7dcac6a0-56bb-4de1-8f6a-37465caf4280",
   "metadata": {},
   "outputs": [
    {
     "data": {
      "text/plain": [
       "array([0.6846088 , 0.97501809, 0.36898135, 0.13012996, 0.07861444])"
      ]
     },
     "execution_count": 27,
     "metadata": {},
     "output_type": "execute_result"
    }
   ],
   "source": [
    "np.random.rand(5)"
   ]
  },
  {
   "cell_type": "code",
   "execution_count": 28,
   "id": "23d7bb6c-4870-4fc7-a273-e509b5595709",
   "metadata": {},
   "outputs": [
    {
     "data": {
      "text/plain": [
       "array([0.1322339 , 0.90361504, 0.83000177])"
      ]
     },
     "execution_count": 28,
     "metadata": {},
     "output_type": "execute_result"
    }
   ],
   "source": [
    "np.random.rand(3) # Every time diffrent value "
   ]
  },
  {
   "cell_type": "code",
   "execution_count": 29,
   "id": "1241a9f9-c96b-4259-b9a9-58696c51e28c",
   "metadata": {},
   "outputs": [
    {
     "data": {
      "text/plain": [
       "array([0.95971909, 0.79454639, 0.53423658])"
      ]
     },
     "execution_count": 29,
     "metadata": {},
     "output_type": "execute_result"
    }
   ],
   "source": [
    "np.random.rand(3)  # Every time diffrent value "
   ]
  },
  {
   "cell_type": "code",
   "execution_count": 30,
   "id": "a1e4332b-d8d3-4674-a0ce-4d62fb09b924",
   "metadata": {},
   "outputs": [
    {
     "data": {
      "text/plain": [
       "5"
      ]
     },
     "execution_count": 30,
     "metadata": {},
     "output_type": "execute_result"
    }
   ],
   "source": [
    "np.random.randint(4,6) # only print 4 0r 5 not 6"
   ]
  },
  {
   "cell_type": "markdown",
   "id": "64a9368c-7aa8-4ee1-94d2-6bacf456d3f9",
   "metadata": {},
   "source": [
    "### randint function return int value"
   ]
  },
  {
   "cell_type": "code",
   "execution_count": 31,
   "id": "84764b51-a621-49bb-9d57-ad86e6d9d941",
   "metadata": {},
   "outputs": [
    {
     "data": {
      "text/plain": [
       "array([ 4, 13,  6, 17, 10])"
      ]
     },
     "execution_count": 31,
     "metadata": {},
     "output_type": "execute_result"
    }
   ],
   "source": [
    "np.random.randint(2,20,5) "
   ]
  },
  {
   "cell_type": "code",
   "execution_count": 32,
   "id": "310d934d-dabe-443d-bb35-0fc148595d5f",
   "metadata": {},
   "outputs": [
    {
     "data": {
      "text/plain": [
       "1"
      ]
     },
     "execution_count": 32,
     "metadata": {},
     "output_type": "execute_result"
    }
   ],
   "source": [
    "np.random.randint(1,2) # Always gives 1"
   ]
  }
 ],
 "metadata": {
  "kernelspec": {
   "display_name": "Python 3 (ipykernel)",
   "language": "python",
   "name": "python3"
  },
  "language_info": {
   "codemirror_mode": {
    "name": "ipython",
    "version": 3
   },
   "file_extension": ".py",
   "mimetype": "text/x-python",
   "name": "python",
   "nbconvert_exporter": "python",
   "pygments_lexer": "ipython3",
   "version": "3.12.7"
  }
 },
 "nbformat": 4,
 "nbformat_minor": 5
}
