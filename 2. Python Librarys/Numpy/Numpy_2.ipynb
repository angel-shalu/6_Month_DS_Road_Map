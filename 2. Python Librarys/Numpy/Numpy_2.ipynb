{
 "cells": [
  {
   "cell_type": "code",
   "execution_count": 1,
   "id": "4077202b-de9d-4b75-a180-9f4723f6b475",
   "metadata": {},
   "outputs": [],
   "source": [
    "import numpy as np "
   ]
  },
  {
   "cell_type": "markdown",
   "id": "0eadc71f-24ac-48f3-8143-968ef696c714",
   "metadata": {},
   "source": [
    "### Recape"
   ]
  },
  {
   "cell_type": "code",
   "execution_count": 2,
   "id": "8e754feb-352e-45b9-bc7c-b768a1da7308",
   "metadata": {},
   "outputs": [
    {
     "data": {
      "text/plain": [
       "array([[1., 1.],\n",
       "       [1., 1.],\n",
       "       [1., 1.]])"
      ]
     },
     "execution_count": 2,
     "metadata": {},
     "output_type": "execute_result"
    }
   ],
   "source": [
    " np.ones((3,2)) # (rows,columns)"
   ]
  },
  {
   "cell_type": "code",
   "execution_count": 3,
   "id": "c8cf1061-3473-42f5-8995-e7d915106435",
   "metadata": {},
   "outputs": [
    {
     "data": {
      "text/plain": [
       "array([[0., 0.],\n",
       "       [0., 0.],\n",
       "       [0., 0.]])"
      ]
     },
     "execution_count": 3,
     "metadata": {},
     "output_type": "execute_result"
    }
   ],
   "source": [
    "np.zeros((3,2))"
   ]
  },
  {
   "cell_type": "code",
   "execution_count": 4,
   "id": "3c8f4ab5-a7a4-4020-ac08-3c130d636893",
   "metadata": {},
   "outputs": [
    {
     "data": {
      "text/plain": [
       "array([[[0.99089099, 0.78984925, 0.75029947, 0.92998999, 0.44583764,\n",
       "         0.36091074, 0.60728475, 0.69178029, 0.4044078 , 0.96735774],\n",
       "        [0.08926494, 0.44438732, 0.22657739, 0.60638302, 0.26489343,\n",
       "         0.3507991 , 0.9481399 , 0.25410295, 0.06328391, 0.57064479],\n",
       "        [0.35191206, 0.78022962, 0.86396486, 0.38770471, 0.31291052,\n",
       "         0.47421616, 0.95421921, 0.89758419, 0.478131  , 0.04750857],\n",
       "        [0.49244656, 0.98164209, 0.33638084, 0.48727896, 0.02688551,\n",
       "         0.72588051, 0.91699624, 0.31508812, 0.96681494, 0.38823905],\n",
       "        [0.01634583, 0.18389109, 0.09403716, 0.51303832, 0.51922113,\n",
       "         0.56797839, 0.12048259, 0.47057731, 0.46177379, 0.84680711],\n",
       "        [0.83307271, 0.70865999, 0.8444242 , 0.54702924, 0.07104635,\n",
       "         0.23185007, 0.41067411, 0.60234705, 0.790068  , 0.18696164],\n",
       "        [0.1792901 , 0.18754784, 0.0099105 , 0.28928609, 0.4705313 ,\n",
       "         0.82838958, 0.19563187, 0.32839344, 0.63018361, 0.80351412],\n",
       "        [0.61175932, 0.38402999, 0.92540231, 0.03769851, 0.30240568,\n",
       "         0.20771429, 0.00860893, 0.19633146, 0.25234107, 0.12669119],\n",
       "        [0.90229687, 0.65984891, 0.67399561, 0.46218291, 0.80811059,\n",
       "         0.81327216, 0.00730115, 0.34010601, 0.30824474, 0.84037013],\n",
       "        [0.28633731, 0.65289412, 0.42205623, 0.01448668, 0.13717309,\n",
       "         0.52729488, 0.00440527, 0.49821235, 0.67522114, 0.3125206 ],\n",
       "        [0.75166741, 0.34107653, 0.97620474, 0.11294154, 0.60536899,\n",
       "         0.12334869, 0.16319049, 0.43887991, 0.84763362, 0.02072149],\n",
       "        [0.43820922, 0.01855302, 0.69970487, 0.94855489, 0.31270498,\n",
       "         0.09805421, 0.89542786, 0.84665505, 0.13569218, 0.23719523]]])"
      ]
     },
     "execution_count": 4,
     "metadata": {},
     "output_type": "execute_result"
    }
   ],
   "source": [
    "# Generate a 3D NumPy array of shape (1, 12, 10) filled with random float values between 0 and 1\n",
    "# Shape breakdown:\n",
    "# - 1: batch or outer dimension\n",
    "# - 12: number of rows (e.g., time steps, features, etc.)\n",
    "# - 10: number of values per row (e.g., features per step)\n",
    "np.random.rand(1,12,10)  "
   ]
  },
  {
   "cell_type": "code",
   "execution_count": 5,
   "id": "527df5b6-bb56-4fc7-a7e0-8e04c813de77",
   "metadata": {},
   "outputs": [
    {
     "data": {
      "text/plain": [
       "array([ 4,  8, 10, 11,  8,  7, 11,  3,  7,  7])"
      ]
     },
     "execution_count": 5,
     "metadata": {},
     "output_type": "execute_result"
    }
   ],
   "source": [
    "np.random.randint(1,12,10) # you never get 12"
   ]
  },
  {
   "cell_type": "code",
   "execution_count": 6,
   "id": "fd8b199d-f3ff-4334-b425-9df027ff2526",
   "metadata": {},
   "outputs": [
    {
     "data": {
      "text/plain": [
       "array([[33, 31, 29, 18, 28, 21, 27, 11, 32, 14],\n",
       "       [17, 15, 15, 39, 22, 21, 21, 16, 22, 18],\n",
       "       [21, 13, 38, 25, 32, 33, 27, 34, 11, 29],\n",
       "       [26, 36, 24, 17, 12, 11, 27, 15, 14, 35],\n",
       "       [16, 21, 27, 24, 19, 35, 28, 28, 20, 33],\n",
       "       [31, 28, 14, 36, 28, 38, 32, 30, 11, 37],\n",
       "       [34, 29, 31, 27, 16, 35, 32, 16, 17, 39],\n",
       "       [15, 24, 29, 35, 38, 22, 39, 28, 35, 20],\n",
       "       [32, 34, 13, 29, 36, 22, 11, 32, 39, 31],\n",
       "       [29, 15, 30, 32, 11, 32, 13, 23, 23, 15]])"
      ]
     },
     "execution_count": 6,
     "metadata": {},
     "output_type": "execute_result"
    }
   ],
   "source": [
    "np.random.randint(10,40,(10,10)) # 10 * 10 matrix with values betwwen 10 t0 40"
   ]
  },
  {
   "cell_type": "markdown",
   "id": "af486347-06d2-4eec-be7a-0c0c8ab91fb6",
   "metadata": {},
   "source": [
    "# np.reshape() in NumPy"
   ]
  },
  {
   "cell_type": "markdown",
   "id": "7d44180a-4807-45c3-9908-703601b35123",
   "metadata": {},
   "source": [
    "### Reshape Rules\n",
    "Total elements must match:\n",
    "\n",
    "You can only reshape an array if the total number of elements stays the same.\n",
    "\n",
    "Example: np.arange(1,13) gives 12 elements → you can reshape to (3, 4), (4, 3), (2, 6), (6, 2), etc.\n",
    "\n",
    "You cannot reshape it to (5, 5) because 5×5 = 25 ≠ 12.\n",
    "\n",
    "### Multiplication Rule:\n",
    "\n",
    "If your original array has n elements, then all new dimensions in reshape(a, b, c, ...) must multiply to n.\n",
    "\n",
    "Examples:\n",
    "np.arange(1, 13).reshape(2, 6)  # ✅ Valid\n",
    "\n",
    "np.arange(1, 13).reshape(4, 3)  # ✅ Valid\n",
    "\n",
    "np.arange(1, 13).reshape(3, 5)  # ❌ Invalid (3*5 = 15 ≠ 12)\n"
   ]
  },
  {
   "cell_type": "code",
   "execution_count": 7,
   "id": "248e1f48-a04a-437e-a65e-2ac2b4528583",
   "metadata": {},
   "outputs": [
    {
     "data": {
      "text/plain": [
       "array([ 1,  2,  3,  4,  5,  6,  7,  8,  9, 10, 11, 12])"
      ]
     },
     "execution_count": 7,
     "metadata": {},
     "output_type": "execute_result"
    }
   ],
   "source": [
    "# Create a 1D array of numbers from 1 to 12\n",
    "np.arange(1,13) #This is 1D array "
   ]
  },
  {
   "cell_type": "code",
   "execution_count": 8,
   "id": "e13fee43-490d-40e2-8b57-74f84c49f9ac",
   "metadata": {},
   "outputs": [
    {
     "data": {
      "text/plain": [
       "array([[ 1,  2,  3,  4],\n",
       "       [ 5,  6,  7,  8],\n",
       "       [ 9, 10, 11, 12]])"
      ]
     },
     "execution_count": 8,
     "metadata": {},
     "output_type": "execute_result"
    }
   ],
   "source": [
    "# Reshape it into a 3x4 2D array (3 rows, 4 columns)\n",
    "np.arange(1,13).reshape(3,4)"
   ]
  },
  {
   "cell_type": "code",
   "execution_count": 9,
   "id": "b4855cbf-92b1-43ff-96f3-67a5fef9a561",
   "metadata": {},
   "outputs": [
    {
     "data": {
      "text/plain": [
       "array([[ 1,  2,  3],\n",
       "       [ 4,  5,  6],\n",
       "       [ 7,  8,  9],\n",
       "       [10, 11, 12]])"
      ]
     },
     "execution_count": 9,
     "metadata": {},
     "output_type": "execute_result"
    }
   ],
   "source": [
    "# Reshape it into a 4x3 2D array (4 rows, 3 columns)\n",
    "np.arange(1,13).reshape(4,3)"
   ]
  },
  {
   "cell_type": "code",
   "execution_count": 10,
   "id": "4797d368-7215-439f-8a0b-74610c3cb66a",
   "metadata": {},
   "outputs": [
    {
     "ename": "ValueError",
     "evalue": "cannot reshape array of size 12 into shape (5,4)",
     "output_type": "error",
     "traceback": [
      "\u001b[1;31m---------------------------------------------------------------------------\u001b[0m",
      "\u001b[1;31mValueError\u001b[0m                                Traceback (most recent call last)",
      "Cell \u001b[1;32mIn[10], line 1\u001b[0m\n\u001b[1;32m----> 1\u001b[0m np\u001b[38;5;241m.\u001b[39marange(\u001b[38;5;241m1\u001b[39m,\u001b[38;5;241m13\u001b[39m)\u001b[38;5;241m.\u001b[39mreshape(\u001b[38;5;241m5\u001b[39m,\u001b[38;5;241m4\u001b[39m)\n",
      "\u001b[1;31mValueError\u001b[0m: cannot reshape array of size 12 into shape (5,4)"
     ]
    }
   ],
   "source": [
    "np.arange(1,13).reshape(5,4) # You can not 5*4 because its 20"
   ]
  },
  {
   "cell_type": "code",
   "execution_count": 11,
   "id": "a116c526-6da7-4f27-abc6-495f403e1a87",
   "metadata": {},
   "outputs": [
    {
     "data": {
      "text/plain": [
       "array([[ 1,  2],\n",
       "       [ 3,  4],\n",
       "       [ 5,  6],\n",
       "       [ 7,  8],\n",
       "       [ 9, 10],\n",
       "       [11, 12]])"
      ]
     },
     "execution_count": 11,
     "metadata": {},
     "output_type": "execute_result"
    }
   ],
   "source": [
    "np.arange(1,13).reshape(6,2) #Yes because its 6*2 = 12"
   ]
  },
  {
   "cell_type": "code",
   "execution_count": 12,
   "id": "093cbc36-e34d-4c58-bdda-afe59248b60c",
   "metadata": {},
   "outputs": [
    {
     "data": {
      "text/plain": [
       "array([[ 1],\n",
       "       [ 2],\n",
       "       [ 3],\n",
       "       [ 4],\n",
       "       [ 5],\n",
       "       [ 6],\n",
       "       [ 7],\n",
       "       [ 8],\n",
       "       [ 9],\n",
       "       [10],\n",
       "       [11],\n",
       "       [12]])"
      ]
     },
     "execution_count": 12,
     "metadata": {},
     "output_type": "execute_result"
    }
   ],
   "source": [
    "np.arange(1,13).reshape(12,1)"
   ]
  },
  {
   "cell_type": "markdown",
   "id": "18cb2fad-a83f-410d-9fc7-6898053cfa08",
   "metadata": {},
   "source": [
    "# slicing"
   ]
  },
  {
   "cell_type": "code",
   "execution_count": 13,
   "id": "de5cfe9b-109d-4531-b8a3-d8da9b01ae67",
   "metadata": {},
   "outputs": [
    {
     "data": {
      "text/plain": [
       "array([[17, 10, 13, 14],\n",
       "       [16, 15, 14, 11],\n",
       "       [17, 14, 10, 10],\n",
       "       [14, 16, 19, 12],\n",
       "       [16, 12, 19, 15]])"
      ]
     },
     "execution_count": 13,
     "metadata": {},
     "output_type": "execute_result"
    }
   ],
   "source": [
    "b = np.random.randint(10,20,(5,4))\n",
    "b"
   ]
  },
  {
   "cell_type": "code",
   "execution_count": 14,
   "id": "db07aba7-923c-4ab6-958f-5af15e8f8a8f",
   "metadata": {},
   "outputs": [
    {
     "data": {
      "text/plain": [
       "numpy.ndarray"
      ]
     },
     "execution_count": 14,
     "metadata": {},
     "output_type": "execute_result"
    }
   ],
   "source": [
    "type(b)"
   ]
  },
  {
   "cell_type": "markdown",
   "id": "e8a5fb86-fb88-433b-90c0-446a6a1ab8ec",
   "metadata": {},
   "source": [
    "### Tips:\n",
    "\n",
    "#### : means \"all\"\n",
    "\n",
    "#### start:end → slice rows\n",
    "\n",
    "#### row, col → single value\n",
    "\n",
    "#### [:, col] → full column"
   ]
  },
  {
   "cell_type": "markdown",
   "id": "469d95e1-aee1-4090-9d8b-2a8170599363",
   "metadata": {},
   "source": [
    "#### b[1:3] → Rows 1 & 2\n",
    "Output:\n",
    "[[16, 15, 14, 11], [17, 14, 10, 10]]\n",
    "\n",
    "#### b[1, 3] → Row 1, Column 3 (specific value)\n",
    "Output: 11\n",
    "\n",
    "#### b[:, 2] → All rows, Column 2\n",
    "Output: [13, 14, 10, 19, 19]"
   ]
  },
  {
   "cell_type": "code",
   "execution_count": 15,
   "id": "b881aafd-8119-4d58-ad7e-ec95dc713d05",
   "metadata": {},
   "outputs": [
    {
     "data": {
      "text/plain": [
       "array([[17, 10, 13, 14],\n",
       "       [16, 15, 14, 11],\n",
       "       [17, 14, 10, 10],\n",
       "       [14, 16, 19, 12],\n",
       "       [16, 12, 19, 15]])"
      ]
     },
     "execution_count": 15,
     "metadata": {},
     "output_type": "execute_result"
    }
   ],
   "source": [
    "b[:]        # Returns the entire array"
   ]
  },
  {
   "cell_type": "code",
   "execution_count": 16,
   "id": "fbe20f15-1a87-4c47-9556-0642c1be0b98",
   "metadata": {},
   "outputs": [
    {
     "data": {
      "text/plain": [
       "array([[16, 15, 14, 11],\n",
       "       [17, 14, 10, 10]])"
      ]
     },
     "execution_count": 16,
     "metadata": {},
     "output_type": "execute_result"
    }
   ],
   "source": [
    "b[1:3]      # Returns rows 1 and 2 (index 1 to 2, as end index is excluded)"
   ]
  },
  {
   "cell_type": "code",
   "execution_count": 17,
   "id": "bb7953ca-dc11-4bf7-b236-d5a4085c6f3b",
   "metadata": {},
   "outputs": [
    {
     "data": {
      "text/plain": [
       "11"
      ]
     },
     "execution_count": 17,
     "metadata": {},
     "output_type": "execute_result"
    }
   ],
   "source": [
    "b[1, 3]     # Returns the element at row 1, column 3 (i.e., 2nd row, 4th column)"
   ]
  },
  {
   "cell_type": "code",
   "execution_count": 18,
   "id": "ea345bcb-679d-4688-8f3b-2d2107ff58ec",
   "metadata": {},
   "outputs": [
    {
     "data": {
      "text/plain": [
       "array([[17, 14, 10, 10],\n",
       "       [14, 16, 19, 12]])"
      ]
     },
     "execution_count": 18,
     "metadata": {},
     "output_type": "execute_result"
    }
   ],
   "source": [
    "b[2:4]      # Returns rows 2 and 3 (index 2 to 3)"
   ]
  },
  {
   "cell_type": "code",
   "execution_count": 19,
   "id": "2703e08d-033a-4920-9c0d-89c745ee22ab",
   "metadata": {},
   "outputs": [
    {
     "data": {
      "text/plain": [
       "11"
      ]
     },
     "execution_count": 19,
     "metadata": {},
     "output_type": "execute_result"
    }
   ],
   "source": [
    "b[1, -1]    # Returns the last element of row 1 (row index 1, column index -1)"
   ]
  },
  {
   "cell_type": "code",
   "execution_count": 20,
   "id": "04873699-685f-4ca1-8abe-80d4f8e09994",
   "metadata": {},
   "outputs": [
    {
     "data": {
      "text/plain": [
       "array([[17, 14, 10, 10]])"
      ]
     },
     "execution_count": 20,
     "metadata": {},
     "output_type": "execute_result"
    }
   ],
   "source": [
    "b[2:3]      # Returns only row 2 (keeps it in 2D form)"
   ]
  },
  {
   "cell_type": "code",
   "execution_count": 21,
   "id": "76ac3373-7f00-4e7b-982a-cffb300763af",
   "metadata": {},
   "outputs": [
    {
     "data": {
      "text/plain": [
       "array([[17, 10, 13, 14],\n",
       "       [16, 15, 14, 11],\n",
       "       [17, 14, 10, 10]])"
      ]
     },
     "execution_count": 21,
     "metadata": {},
     "output_type": "execute_result"
    }
   ],
   "source": [
    "b[0:-2]     # Returns all rows from index 0 to 2 (excluding last 2 rows)"
   ]
  },
  {
   "cell_type": "code",
   "execution_count": 22,
   "id": "f8d43bcd-e123-46d1-8f2b-d7e3a8caec28",
   "metadata": {},
   "outputs": [
    {
     "data": {
      "text/plain": [
       "14"
      ]
     },
     "execution_count": 22,
     "metadata": {},
     "output_type": "execute_result"
    }
   ],
   "source": [
    "b[-5, 3]    # Returns element at row -5 (which is row 0), column 3"
   ]
  },
  {
   "cell_type": "markdown",
   "id": "9f78f437-2d18-4aff-8b51-d3e50b07aea5",
   "metadata": {},
   "source": [
    "# Oprations in Numpy"
   ]
  },
  {
   "cell_type": "code",
   "execution_count": 23,
   "id": "2a156a42-30e0-47aa-88af-df40f47af56a",
   "metadata": {},
   "outputs": [],
   "source": [
    "arr2 = np.random.randint(0,100,(10,10))"
   ]
  },
  {
   "cell_type": "code",
   "execution_count": 24,
   "id": "8fefbf38-9109-44b2-a87c-7863bf1ca0bb",
   "metadata": {},
   "outputs": [
    {
     "data": {
      "text/plain": [
       "array([[79, 58, 33, 52, 43, 97, 60, 30, 84, 99],\n",
       "       [28, 69, 60, 19, 24, 97, 59,  1, 71, 42],\n",
       "       [48, 23, 92, 40, 26, 50, 52, 60, 99, 62],\n",
       "       [41, 42, 20, 45, 44, 62, 76, 58, 17, 39],\n",
       "       [71, 77, 10, 43,  7, 17,  8, 11, 97, 87],\n",
       "       [28, 73, 43,  2, 91,  1, 23,  1, 38, 55],\n",
       "       [84,  8, 51, 87, 70, 67, 26, 13, 14, 64],\n",
       "       [28,  8, 83, 26, 79, 81, 99, 10, 20, 60],\n",
       "       [29, 99, 66, 46, 54,  6, 76,  0, 15, 68],\n",
       "       [18,  3,  0, 26,  9,  1, 47, 65, 47, 81]])"
      ]
     },
     "execution_count": 24,
     "metadata": {},
     "output_type": "execute_result"
    }
   ],
   "source": [
    "arr2"
   ]
  },
  {
   "cell_type": "code",
   "execution_count": 25,
   "id": "cb78fc6e-2e10-4cd0-b509-06ba46977b49",
   "metadata": {},
   "outputs": [
    {
     "name": "stdout",
     "output_type": "stream",
     "text": [
      "[[18  3  0 26  9  1 47 65 47 81]\n",
      " [29 99 66 46 54  6 76  0 15 68]\n",
      " [28  8 83 26 79 81 99 10 20 60]\n",
      " [84  8 51 87 70 67 26 13 14 64]\n",
      " [28 73 43  2 91  1 23  1 38 55]\n",
      " [71 77 10 43  7 17  8 11 97 87]\n",
      " [41 42 20 45 44 62 76 58 17 39]\n",
      " [48 23 92 40 26 50 52 60 99 62]\n",
      " [28 69 60 19 24 97 59  1 71 42]\n",
      " [79 58 33 52 43 97 60 30 84 99]]\n"
     ]
    }
   ],
   "source": [
    "# arr2[::-1] \n",
    "# This reverses the rows of the matrix — last row comes first, first row comes last.\n",
    "print(arr2[::-1])"
   ]
  },
  {
   "cell_type": "code",
   "execution_count": 26,
   "id": "b0ad5f80-0b05-4baf-8ddb-282eb4d7f990",
   "metadata": {},
   "outputs": [
    {
     "data": {
      "text/plain": [
       "array([[18,  3,  0, 26,  9,  1, 47, 65, 47, 81],\n",
       "       [28,  8, 83, 26, 79, 81, 99, 10, 20, 60],\n",
       "       [28, 73, 43,  2, 91,  1, 23,  1, 38, 55],\n",
       "       [41, 42, 20, 45, 44, 62, 76, 58, 17, 39],\n",
       "       [28, 69, 60, 19, 24, 97, 59,  1, 71, 42]])"
      ]
     },
     "execution_count": 26,
     "metadata": {},
     "output_type": "execute_result"
    }
   ],
   "source": [
    "# arr2[::-2]\n",
    "# This reverses the rows and takes every 2nd row — from bottom to top, skipping one row in between.\n",
    "arr2[::-2]"
   ]
  },
  {
   "cell_type": "code",
   "execution_count": 27,
   "id": "a74b48e8-294e-42e8-9804-e0aaedd1ee1d",
   "metadata": {},
   "outputs": [
    {
     "name": "stdout",
     "output_type": "stream",
     "text": [
      "[[18  3  0 26  9  1 47 65 47 81]\n",
      " [84  8 51 87 70 67 26 13 14 64]\n",
      " [41 42 20 45 44 62 76 58 17 39]\n",
      " [79 58 33 52 43 97 60 30 84 99]]\n"
     ]
    }
   ],
   "source": [
    "# arr2[::-3]\n",
    "# This reverses the rows and takes every 3rd row — from bottom to top, skipping two rows in between.\n",
    "print(arr2[::-3])"
   ]
  },
  {
   "cell_type": "code",
   "execution_count": 28,
   "id": "cee0d72e-ab45-4b2b-94bd-80b1cee104fb",
   "metadata": {},
   "outputs": [
    {
     "data": {
      "text/plain": [
       "array([[79, 58, 33, 52, 43, 97, 60, 30, 84, 99],\n",
       "       [41, 42, 20, 45, 44, 62, 76, 58, 17, 39],\n",
       "       [84,  8, 51, 87, 70, 67, 26, 13, 14, 64],\n",
       "       [18,  3,  0, 26,  9,  1, 47, 65, 47, 81]])"
      ]
     },
     "execution_count": 28,
     "metadata": {},
     "output_type": "execute_result"
    }
   ],
   "source": [
    "# arr2[0:10:3]\n",
    "# This slices rows from index 0 to 9 (inclusive), taking every 3rd row — normal order.\n",
    "arr2[0:10:3]"
   ]
  },
  {
   "cell_type": "markdown",
   "id": "6ce5072c-7e5a-4a3f-a2bf-981586baa3d6",
   "metadata": {},
   "source": [
    "# Numpy Array Functions"
   ]
  },
  {
   "cell_type": "code",
   "execution_count": 29,
   "id": "43d5b240-dead-4cf4-92f8-bd57f938a5ee",
   "metadata": {},
   "outputs": [
    {
     "data": {
      "text/plain": [
       "99"
      ]
     },
     "execution_count": 29,
     "metadata": {},
     "output_type": "execute_result"
    }
   ],
   "source": [
    "arr2.max()"
   ]
  },
  {
   "cell_type": "code",
   "execution_count": 30,
   "id": "a9fe6142-dfc8-48ab-be8e-77238222a6c0",
   "metadata": {},
   "outputs": [
    {
     "data": {
      "text/plain": [
       "0"
      ]
     },
     "execution_count": 30,
     "metadata": {},
     "output_type": "execute_result"
    }
   ],
   "source": [
    "arr2.min()"
   ]
  },
  {
   "cell_type": "code",
   "execution_count": 31,
   "id": "e9e3887e-b949-43a4-aca6-d2ae3308385d",
   "metadata": {},
   "outputs": [
    {
     "data": {
      "text/plain": [
       "46.18"
      ]
     },
     "execution_count": 31,
     "metadata": {},
     "output_type": "execute_result"
    }
   ],
   "source": [
    "arr2.mean()"
   ]
  },
  {
   "cell_type": "code",
   "execution_count": 32,
   "id": "c96a07e9-a27d-4da8-bc55-804118659d76",
   "metadata": {},
   "outputs": [
    {
     "ename": "AttributeError",
     "evalue": "'numpy.ndarray' object has no attribute 'mode'",
     "output_type": "error",
     "traceback": [
      "\u001b[1;31m---------------------------------------------------------------------------\u001b[0m",
      "\u001b[1;31mAttributeError\u001b[0m                            Traceback (most recent call last)",
      "Cell \u001b[1;32mIn[32], line 1\u001b[0m\n\u001b[1;32m----> 1\u001b[0m arr2\u001b[38;5;241m.\u001b[39mmode()\n",
      "\u001b[1;31mAttributeError\u001b[0m: 'numpy.ndarray' object has no attribute 'mode'"
     ]
    }
   ],
   "source": [
    "arr2.mode() #You can not get output like this It dose not have mode function"
   ]
  },
  {
   "cell_type": "code",
   "execution_count": 33,
   "id": "1a80d5f9-3169-4a8b-bfd5-a757c00612fc",
   "metadata": {},
   "outputs": [
    {
     "data": {
      "text/plain": [
       "45.5"
      ]
     },
     "execution_count": 33,
     "metadata": {},
     "output_type": "execute_result"
    }
   ],
   "source": [
    "from numpy import *\n",
    "a = median(arr2)\n",
    "a"
   ]
  },
  {
   "cell_type": "markdown",
   "id": "df7d05c3-cba9-443b-8003-c8cab9ef437b",
   "metadata": {},
   "source": [
    "# Indexing"
   ]
  },
  {
   "cell_type": "code",
   "execution_count": 34,
   "id": "911a7be2-d4d8-4c58-a182-cf18839d25e4",
   "metadata": {},
   "outputs": [],
   "source": [
    "mat = np.random.randint(0,100,(10,10))"
   ]
  },
  {
   "cell_type": "code",
   "execution_count": 35,
   "id": "8c7c7721-519c-481e-858a-bf4517db4123",
   "metadata": {},
   "outputs": [
    {
     "data": {
      "text/plain": [
       "array([[44, 81, 78, 72, 97, 82, 92, 52, 93, 89],\n",
       "       [92, 18,  3, 65, 57, 29, 30, 45, 21, 62],\n",
       "       [ 3, 32, 68, 76, 81, 54, 80, 19, 21, 55],\n",
       "       [27,  7, 99, 59, 52, 85,  1, 83, 62, 77],\n",
       "       [43, 70, 20, 90, 80, 59, 12, 45,  8, 64],\n",
       "       [56, 41, 96, 28, 99, 94, 14, 71, 74, 17],\n",
       "       [53,  7, 35, 19, 72, 55, 78, 64, 69, 75],\n",
       "       [91, 65, 46, 96, 56,  8, 43, 60,  6, 43],\n",
       "       [38, 82, 19, 14, 17, 74, 29, 54, 36,  8],\n",
       "       [16,  2, 89, 92, 31, 47, 81, 65, 84, 28]])"
      ]
     },
     "execution_count": 35,
     "metadata": {},
     "output_type": "execute_result"
    }
   ],
   "source": [
    "mat"
   ]
  },
  {
   "cell_type": "code",
   "execution_count": 36,
   "id": "a1c1e724-4324-4729-89dd-fd51b2a0d00d",
   "metadata": {},
   "outputs": [
    {
     "name": "stdout",
     "output_type": "stream",
     "text": [
      "14\n"
     ]
    }
   ],
   "source": [
    "row = 5\n",
    "col = 6\n",
    "\n",
    "# Accessing a single element at row 5, column 6\n",
    "print(mat[row, col])    # Output: 14\n"
   ]
  },
  {
   "cell_type": "code",
   "execution_count": 37,
   "id": "5a8f29e7-5af3-4b04-9990-7fb1aa2fb01a",
   "metadata": {},
   "outputs": [
    {
     "name": "stdout",
     "output_type": "stream",
     "text": [
      "14\n"
     ]
    }
   ],
   "source": [
    "# Same as above – directly specifying the indices\n",
    "print(mat[5, 6])        # Output: 14"
   ]
  },
  {
   "cell_type": "code",
   "execution_count": 38,
   "id": "f443f640-505e-4d97-a006-97d28dfa4278",
   "metadata": {},
   "outputs": [
    {
     "name": "stdout",
     "output_type": "stream",
     "text": [
      "[91 65 46 96 56  8 43 60  6 43]\n"
     ]
    }
   ],
   "source": [
    "# mat[7] returns the entire row at index 7 (row 8 in human terms)\n",
    "print(mat[7])           # Output: [91 65 46 96 56  8 43 60  6 43]"
   ]
  },
  {
   "cell_type": "code",
   "execution_count": 39,
   "id": "e6d7f79f-c84c-4d7a-be22-ab29bc053303",
   "metadata": {},
   "outputs": [
    {
     "name": "stdout",
     "output_type": "stream",
     "text": [
      "[92 30 80  1 12 14 78 43 29 81]\n"
     ]
    }
   ],
   "source": [
    "# mat[:, col] returns the entire column at index 6\n",
    "print(mat[:, col])      # Output: [92 30 80  1 12 14 78 43 29 81]"
   ]
  },
  {
   "cell_type": "code",
   "execution_count": 40,
   "id": "83424f50-8aee-4cd2-a4ce-87989977c63b",
   "metadata": {},
   "outputs": [
    {
     "name": "stdout",
     "output_type": "stream",
     "text": [
      "[89 62 55 77 64 17 75 43  8 28]\n"
     ]
    }
   ],
   "source": [
    "# mat[:, -1] returns the last column of the matrix\n",
    "print(mat[:, -1])       # Output: [89 62 55 77 64 17 75 43  8 28]"
   ]
  },
  {
   "cell_type": "code",
   "execution_count": 41,
   "id": "fdf11f0e-86c0-4108-b7b3-61d4f6040e5e",
   "metadata": {},
   "outputs": [
    {
     "name": "stdout",
     "output_type": "stream",
     "text": [
      "[56 41 96 28 99 94 14 71 74 17]\n"
     ]
    }
   ],
   "source": [
    "# mat[row, :] returns the entire row at index 5\n",
    "print(mat[row, :])      # Output: [56 41 96 28 99 94 14 71 74 17]"
   ]
  },
  {
   "cell_type": "code",
   "execution_count": 42,
   "id": "c5e93b56-5e72-4f4b-bbc7-72c795418ee5",
   "metadata": {},
   "outputs": [
    {
     "name": "stdout",
     "output_type": "stream",
     "text": [
      "[82 29 54 85 59 94 55  8 74 47]\n"
     ]
    }
   ],
   "source": [
    "# mat[:, row] returns the column at index 5 (column 6 in human terms)\n",
    "print(mat[:, row])      # Output: [82 29 54 85 59 94 55  8 74 47]"
   ]
  },
  {
   "cell_type": "code",
   "execution_count": 43,
   "id": "241b7043-0eef-42e9-8f12-edfe5b993936",
   "metadata": {},
   "outputs": [
    {
     "name": "stdout",
     "output_type": "stream",
     "text": [
      "[[44 81 78 72 97 82 92 52 93 89]\n",
      " [92 18  3 65 57 29 30 45 21 62]\n",
      " [ 3 32 68 76 81 54 80 19 21 55]\n",
      " [27  7 99 59 52 85  1 83 62 77]\n",
      " [43 70 20 90 80 59 12 45  8 64]]\n"
     ]
    }
   ],
   "source": [
    "# mat[:row] returns all rows from index 0 to 4 (not including row 5)\n",
    "print(mat[:row])        # Output: rows 0 to 4"
   ]
  },
  {
   "cell_type": "code",
   "execution_count": 44,
   "id": "bb5f14a7-3cb0-4805-86f1-f8ff5a458dc4",
   "metadata": {},
   "outputs": [
    {
     "name": "stdout",
     "output_type": "stream",
     "text": [
      "[[68 76]\n",
      " [99 59]\n",
      " [20 90]\n",
      " [96 28]]\n"
     ]
    }
   ],
   "source": [
    "\n",
    "# mat[2:6, 2:4] returns a submatrix:\n",
    "# rows from index 2 to 5 (excluding row 6), columns 2 and 3\n",
    "print(mat[2:6, 2:4])\n",
    "# Output:\n",
    "# [[68 76]\n",
    "#  [99 59]\n",
    "#  [20 90]\n",
    "#  [96 28]]"
   ]
  },
  {
   "cell_type": "code",
   "execution_count": 45,
   "id": "bed21e80-bdd1-4819-8eba-3c4ea0cb7f71",
   "metadata": {},
   "outputs": [
    {
     "name": "stdout",
     "output_type": "stream",
     "text": [
      "[[81]]\n"
     ]
    }
   ],
   "source": [
    "# mat[2:3, 4:5] returns one element as a 1x1 submatrix — row 2, column 4\n",
    "print(mat[2:3, 4:5])\n",
    "# Output: [[81]]\n"
   ]
  },
  {
   "cell_type": "code",
   "execution_count": null,
   "id": "b9556b4f-2baf-4344-b590-787ce9911bef",
   "metadata": {},
   "outputs": [],
   "source": []
  },
  {
   "cell_type": "markdown",
   "id": "cc52f62c-3126-4a59-baaa-6c07bf27d98e",
   "metadata": {},
   "source": [
    "# Masking in NumPy\n",
    "## What is Masking?\n",
    "Masking means applying a condition to a NumPy array to filter/select elements based on True/False values.\n",
    "\n",
    "## Why use it?\n",
    "To easily:\n",
    "\n",
    "Select specific elements (e.g. all > 50)\n",
    "\n",
    "Filter arrays without writing loops\n",
    "\n",
    "Perform element-wise operations\n",
    "\n",
    "## How does it work?\n",
    "Create a condition: mat > 50\n",
    "→ returns a Boolean mask of the same shape as mat\n",
    "\n",
    "Apply mask: mat[mat > 50]\n",
    "→ returns only the values where the condition is True\n",
    "\n"
   ]
  },
  {
   "cell_type": "code",
   "execution_count": 46,
   "id": "3b3e7b2a-cc41-43cc-8cd3-5b49f9183cd0",
   "metadata": {},
   "outputs": [
    {
     "name": "stdout",
     "output_type": "stream",
     "text": [
      "2543454478352\n"
     ]
    }
   ],
   "source": [
    "# Get the memory ID of the matrix (just for info)\n",
    "print(id(mat))  # e.g., 140260631146816 (varies each time)\n"
   ]
  },
  {
   "cell_type": "code",
   "execution_count": 47,
   "id": "d14dc46f-34c2-4e00-a553-58b80384f2d7",
   "metadata": {},
   "outputs": [
    {
     "name": "stdout",
     "output_type": "stream",
     "text": [
      "[[False  True  True  True  True  True  True  True  True  True]\n",
      " [ True False False  True  True False False False False  True]\n",
      " [False False  True  True  True  True  True False False  True]\n",
      " [False False  True  True  True  True False  True  True  True]\n",
      " [False  True False  True  True  True False False False  True]\n",
      " [ True False  True False  True  True False  True  True False]\n",
      " [ True False False False  True  True  True  True  True  True]\n",
      " [ True  True False  True  True False False  True False False]\n",
      " [False  True False False False  True False  True False False]\n",
      " [False False  True  True False False  True  True  True False]]\n"
     ]
    }
   ],
   "source": [
    "# Create a Boolean mask: condition > 50\n",
    "print(mat > 50)\n",
    "# Output: a matrix of same shape with True/False\n",
    "# Example:\n",
    "# [[False  True  True  True  True  True  True  True  True  True]\n",
    "#  [ True False False  True  True False False False False  True]\n",
    "#   ...\n",
    "# ]"
   ]
  },
  {
   "cell_type": "code",
   "execution_count": 48,
   "id": "04a9a65a-62d1-4302-92c9-26d2de6db081",
   "metadata": {},
   "outputs": [
    {
     "name": "stdout",
     "output_type": "stream",
     "text": [
      "[81 78 72 97 82 92 52 93 89 92 65 57 62 68 76 81 54 80 55 99 59 52 85 83\n",
      " 62 77 70 90 80 59 64 56 96 99 94 71 74 53 72 55 78 64 69 75 91 65 96 56\n",
      " 60 82 74 54 89 92 81 65 84]\n"
     ]
    }
   ],
   "source": [
    "# Use mask to extract only values > 50\n",
    "print(mat[mat > 50])\n",
    "# Output: 1D array of values > 50\n",
    "# [81 78 72 97 82 92 52 93 89 92 65 57 62 68 ... 54 55 89 92 81 65 84]"
   ]
  },
  {
   "cell_type": "code",
   "execution_count": 50,
   "id": "a06922b1-483e-4421-b1b0-4279cd71d5fc",
   "metadata": {},
   "outputs": [
    {
     "name": "stdout",
     "output_type": "stream",
     "text": [
      "[44 81 78 72 97 82 92 52 93 89 92 18  3 65 57 29 30 45 21 62  3 32 68 76\n",
      " 81 54 80 19 21 55 27  7 99 59 52 85  1 83 62 77 43 70 20 90 80 59 12 45\n",
      "  8 64 56 41 96 28 99 94 14 71 74 17 53  7 35 19 72 55 78 64 69 75 91 65\n",
      " 46 96 56  8 43 60  6 43 38 82 19 14 17 74 29 54 36  8 16  2 89 92 31 47\n",
      " 81 65 84 28]\n"
     ]
    }
   ],
   "source": [
    "# You can apply other conditions too:\n",
    "print(mat[mat != 50])  # all elements not equal to 50"
   ]
  },
  {
   "cell_type": "code",
   "execution_count": 51,
   "id": "d7546e1e-7579-485c-b058-9f9fdad7bcea",
   "metadata": {},
   "outputs": [
    {
     "name": "stdout",
     "output_type": "stream",
     "text": [
      "[81 81 81]\n"
     ]
    }
   ],
   "source": [
    "print(mat[mat == 81])  # all elements equal to 81"
   ]
  },
  {
   "cell_type": "code",
   "execution_count": 52,
   "id": "fdcb9280-a674-4c3a-b725-f4d668ba3f39",
   "metadata": {},
   "outputs": [
    {
     "name": "stdout",
     "output_type": "stream",
     "text": [
      "[18  3 29 21  3 19 21 27  7  1 20 12  8 28 14 17  7 19  8  6 19 14 17 29\n",
      "  8 16  2 28]\n"
     ]
    }
   ],
   "source": [
    "print(mat[mat < 30])   # elements less than 30"
   ]
  }
 ],
 "metadata": {
  "kernelspec": {
   "display_name": "Python 3 (ipykernel)",
   "language": "python",
   "name": "python3"
  },
  "language_info": {
   "codemirror_mode": {
    "name": "ipython",
    "version": 3
   },
   "file_extension": ".py",
   "mimetype": "text/x-python",
   "name": "python",
   "nbconvert_exporter": "python",
   "pygments_lexer": "ipython3",
   "version": "3.12.7"
  }
 },
 "nbformat": 4,
 "nbformat_minor": 5
}
